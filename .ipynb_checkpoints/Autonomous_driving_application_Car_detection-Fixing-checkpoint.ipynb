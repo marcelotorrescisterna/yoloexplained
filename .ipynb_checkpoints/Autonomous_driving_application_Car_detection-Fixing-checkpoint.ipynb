{
 "cells": [
  {
   "cell_type": "markdown",
   "metadata": {},
   "source": [
    "# Autonomous Driving - Car Detection\n",
    "\n",
    "Welcome to the Week 3 programming assignment! In this notebook, you'll implement object detection using the very powerful YOLO model. Many of the ideas in this notebook are described in the two YOLO papers: [Redmon et al., 2016](https://arxiv.org/abs/1506.02640) and [Redmon and Farhadi, 2016](https://arxiv.org/abs/1612.08242). \n",
    "\n",
    "**By the end of this assignment, you'll be able to**:\n",
    "\n",
    "- Detect objects in a car detection dataset\n",
    "- Implement non-max suppression to increase accuracy\n",
    "- Implement intersection over union\n",
    "- Handle bounding boxes, a type of image annotation popular in deep learning "
   ]
  },
  {
   "cell_type": "markdown",
   "metadata": {},
   "source": [
    "## Table of Contents\n",
    "\n",
    "- [Packages](#0)\n",
    "- [1 - Problem Statement](#1)\n",
    "- [2 - YOLO](#2)\n",
    "    - [2.1 - Model Details](#2-1)\n",
    "    - [2.2 - Filtering with a Threshold on Class Scores](#2-2)\n",
    "        - [Exercise 1 - yolo_filter_boxes](#ex-1)\n",
    "    - [2.3 - Non-max Suppression](#2-3)\n",
    "        - [Exercise 2 - iou](#ex-2)\n",
    "    - [2.4 - YOLO Non-max Suppression](#2-4)\n",
    "        - [Exercise 3 - yolo_non_max_suppression](#ex-3)\n",
    "    - [2.5 - Wrapping Up the Filtering](#2-5)\n",
    "        - [Exercise 4 - yolo_eval](#ex-4)\n",
    "- [3 - Test YOLO Pre-trained Model on Images](#3)\n",
    "    - [3.1 - Defining Classes, Anchors and Image Shape](#3-1)\n",
    "    - [3.2 - Loading a Pre-trained Model](#3-2)\n",
    "    - [3.3 - Convert Output of the Model to Usable Bounding Box Tensors](#3-3)\n",
    "    - [3.4 - Filtering Boxes](#3-4)\n",
    "    - [3.5 - Run the YOLO on an Image](#3-5)\n",
    "- [4 - Summary for YOLO](#4)\n",
    "- [5 - References](#5)"
   ]
  },
  {
   "cell_type": "markdown",
   "metadata": {},
   "source": [
    "<a name='0'></a>\n",
    "## Packages\n",
    "\n",
    "Run the following cell to load the packages and dependencies that will come in handy as you build the object detector!"
   ]
  },
  {
   "cell_type": "code",
   "execution_count": 1,
   "metadata": {},
   "outputs": [
    {
     "name": "stderr",
     "output_type": "stream",
     "text": [
      "C:\\Users\\marce\\anaconda3\\envs\\dsenv\\lib\\site-packages\\scipy\\__init__.py:138: UserWarning: A NumPy version >=1.16.5 and <1.23.0 is required for this version of SciPy (detected version 1.23.1)\n",
      "  warnings.warn(f\"A NumPy version >={np_minversion} and <{np_maxversion} is required for this version of \"\n"
     ]
    }
   ],
   "source": [
    "import argparse\n",
    "import os\n",
    "import matplotlib.pyplot as plt\n",
    "from matplotlib.pyplot import imshow\n",
    "import scipy.io\n",
    "import scipy.misc\n",
    "import numpy as np\n",
    "import pandas as pd\n",
    "import PIL\n",
    "from PIL import ImageFont, ImageDraw, Image\n",
    "import tensorflow as tf\n",
    "from tensorflow.python.framework.ops import EagerTensor\n",
    "\n",
    "from tensorflow.keras.models import load_model\n",
    "from yad2k.models.keras_yolo import yolo_head\n",
    "from yad2k.utils.utils import draw_boxes, get_colors_for_classes, scale_boxes, read_classes, read_anchors, preprocess_image\n",
    "\n",
    "%matplotlib inline"
   ]
  },
  {
   "cell_type": "markdown",
   "metadata": {},
   "source": [
    "<a name='1'></a>\n",
    "## 1 - Problem Statement\n",
    "\n",
    "You are working on a self-driving car. Go you! As a critical component of this project, you'd like to first build a car detection system. To collect data, you've mounted a camera to the hood (meaning the front) of the car, which takes pictures of the road ahead every few seconds as you drive around. \n",
    "\n",
    "<center>\n",
    "<video width=\"400\" height=\"200\" src=\"nb_images/road_video_compressed2.mp4\" type=\"video/mp4\" controls>\n",
    "</video>\n",
    "</center>\n",
    "\n",
    "<caption><center> Pictures taken from a car-mounted camera while driving around Silicon Valley. <br> Dataset provided by <a href=\"https://www.drive.ai/\">drive.ai</a>.\n",
    "</center></caption>\n",
    "\n",
    "You've gathered all these images into a folder and labelled them by drawing bounding boxes around every car you found. Here's an example of what your bounding boxes look like:\n",
    "\n",
    "<img src=\"nb_images/box_label.png\" style=\"width:500px;height:250;\">\n",
    "<caption><center> <u><b>Figure 1</u></b>: Definition of a box<br> </center></caption>\n",
    "\n",
    "If there are 80 classes you want the object detector to recognize, you can represent the class label $c$ either as an integer from 1 to 80, or as an 80-dimensional vector (with 80 numbers) one component of which is 1, and the rest of which are 0. The video lectures used the latter representation; in this notebook, you'll use both representations, depending on which is more convenient for a particular step.  \n",
    "\n",
    "In this exercise, you'll discover how YOLO (\"You Only Look Once\") performs object detection, and then apply it to car detection. Because the YOLO model is very computationally expensive to train, the pre-trained weights are already loaded for you to use. "
   ]
  },
  {
   "cell_type": "markdown",
   "metadata": {},
   "source": [
    "<a name='2'></a>\n",
    "## 2 - YOLO"
   ]
  },
  {
   "cell_type": "markdown",
   "metadata": {},
   "source": [
    "\"You Only Look Once\" (YOLO) is a popular algorithm because it achieves high accuracy while also being able to run in real time. This algorithm \"only looks once\" at the image in the sense that it requires only one forward propagation pass through the network to make predictions. After non-max suppression, it then outputs recognized objects together with the bounding boxes.\n",
    "\n",
    "<a name='2-1'></a>\n",
    "### 2.1 - Model Details\n",
    "\n",
    "#### Inputs and outputs\n",
    "- The **input** is a batch of images, and each image has the shape (m, 608, 608, 3)\n",
    "- The **output** is a list of bounding boxes along with the recognized classes. Each bounding box is represented by 6 numbers $(p_c, b_x, b_y, b_h, b_w, c)$ as explained above. If you expand $c$ into an 80-dimensional vector, each bounding box is then represented by 85 numbers. \n",
    "\n",
    "#### Anchor Boxes\n",
    "* Anchor boxes are chosen by exploring the training data to choose reasonable height/width ratios that represent the different classes.  For this assignment, 5 anchor boxes were chosen for you (to cover the 80 classes), and stored in the file './model_data/yolo_anchors.txt'\n",
    "* The dimension for anchor boxes is the second to last dimension in the encoding: $(m, n_H,n_W,anchors,classes)$.\n",
    "* The YOLO architecture is: IMAGE (m, 608, 608, 3) -> DEEP CNN -> ENCODING (m, 19, 19, 5, 85).  \n",
    "\n",
    "\n",
    "#### Encoding\n",
    "Let's look in greater detail at what this encoding represents. \n",
    "\n",
    "<img src=\"nb_images/architecture.png\" style=\"width:700px;height:400;\">\n",
    "<caption><center> <u><b> Figure 2 </u></b>: Encoding architecture for YOLO<br> </center></caption>\n",
    "\n",
    "If the center/midpoint of an object falls into a grid cell, that grid cell is responsible for detecting that object."
   ]
  },
  {
   "cell_type": "markdown",
   "metadata": {},
   "source": [
    "Since you're using 5 anchor boxes, each of the 19 x19 cells thus encodes information about 5 boxes. Anchor boxes are defined only by their width and height.\n",
    "\n",
    "For simplicity, you'll flatten the last two dimensions of the shape (19, 19, 5, 85) encoding, so the output of the Deep CNN is (19, 19, 425).\n",
    "\n",
    "<img src=\"nb_images/flatten.png\" style=\"width:700px;height:400;\">\n",
    "<caption><center> <u><b> Figure 3 </u></b>: Flattening the last two last dimensions<br> </center></caption>"
   ]
  },
  {
   "cell_type": "markdown",
   "metadata": {},
   "source": [
    "#### Class score\n",
    "\n",
    "Now, for each box (of each cell) you'll compute the following element-wise product and extract a probability that the box contains a certain class.  \n",
    "The class score is $score_{c,i} = p_{c} \\times c_{i}$: the probability that there is an object $p_{c}$ times the probability that the object is a certain class $c_{i}$.\n",
    "\n",
    "<img src=\"nb_images/probability_extraction.png\" style=\"width:700px;height:400;\">\n",
    "<caption><center> <u><b>Figure 4</u></b>: Find the class detected by each box<br> </center></caption>\n",
    "\n",
    "##### Example of figure 4\n",
    "* In figure 4, let's say for box 1 (cell 1), the probability that an object exists is $p_{1}=0.60$.  So there's a 60% chance that an object exists in box 1 (cell 1).  \n",
    "* The probability that the object is the class \"category 3 (a car)\" is $c_{3}=0.73$.  \n",
    "* The score for box 1 and for category \"3\" is $score_{1,3}=0.60 \\times 0.73 = 0.44$.  \n",
    "* Let's say you calculate the score for all 80 classes in box 1, and find that the score for the car class (class 3) is the maximum.  So you'll assign the score 0.44 and class \"3\" to this box \"1\".\n",
    "\n",
    "#### Visualizing classes\n",
    "Here's one way to visualize what YOLO is predicting on an image:\n",
    "\n",
    "- For each of the 19x19 grid cells, find the maximum of the probability scores (taking a max across the 80 classes, one maximum for each of the 5 anchor boxes).\n",
    "- Color that grid cell according to what object that grid cell considers the most likely.\n",
    "\n",
    "Doing this results in this picture: \n",
    "\n",
    "<img src=\"nb_images/proba_map.png\" style=\"width:300px;height:300;\">\n",
    "<caption><center> <u><b>Figure 5</u></b>: Each one of the 19x19 grid cells is colored according to which class has the largest predicted probability in that cell.<br> </center></caption>\n",
    "\n",
    "Note that this visualization isn't a core part of the YOLO algorithm itself for making predictions; it's just a nice way of visualizing an intermediate result of the algorithm. "
   ]
  },
  {
   "cell_type": "markdown",
   "metadata": {},
   "source": [
    "#### Visualizing bounding boxes\n",
    "Another way to visualize YOLO's output is to plot the bounding boxes that it outputs. Doing that results in a visualization like this:  \n",
    "\n",
    "<img src=\"nb_images/anchor_map.png\" style=\"width:200px;height:200;\">\n",
    "<caption><center> <u><b>Figure 6</u></b>: Each cell gives you 5 boxes. In total, the model predicts: 19x19x5 = 1805 boxes just by looking once at the image (one forward pass through the network)! Different colors denote different classes. <br> </center></caption>\n",
    "\n",
    "#### Non-Max suppression\n",
    "In the figure above, the only boxes plotted are ones for which the model had assigned a high probability, but this is still too many boxes. You'd like to reduce the algorithm's output to a much smaller number of detected objects.  \n",
    "\n",
    "To do so, you'll use **non-max suppression**. Specifically, you'll carry out these steps: \n",
    "- Get rid of boxes with a low score. Meaning, the box is not very confident about detecting a class, either due to the low probability of any object, or low probability of this particular class.\n",
    "- Select only one box when several boxes overlap with each other and detect the same object."
   ]
  },
  {
   "cell_type": "markdown",
   "metadata": {},
   "source": [
    "<a name='2-2'></a>\n",
    "### 2.2 - Filtering with a Threshold on Class Scores\n",
    "\n",
    "You're going to first apply a filter by thresholding, meaning you'll get rid of any box for which the class \"score\" is less than a chosen threshold. \n",
    "\n",
    "The model gives you a total of 19x19x5x85 numbers, with each box described by 85 numbers. It's convenient to rearrange the (19,19,5,85) (or (19,19,425)) dimensional tensor into the following variables:  \n",
    "- `box_confidence`: tensor of shape $(19, 19, 5, 1)$ containing $p_c$ (confidence probability that there's some object) for each of the 5 boxes predicted in each of the 19x19 cells.\n",
    "- `boxes`: tensor of shape $(19, 19, 5, 4)$ containing the midpoint and dimensions $(b_x, b_y, b_h, b_w)$ for each of the 5 boxes in each cell.\n",
    "- `box_class_probs`: tensor of shape $(19, 19, 5, 80)$ containing the \"class probabilities\" $(c_1, c_2, ... c_{80})$ for each of the 80 classes for each of the 5 boxes per cell.\n",
    "\n",
    "<a name='ex-1'></a>\n",
    "### Exercise 1 - yolo_filter_boxes\n",
    "\n",
    "Implement `yolo_filter_boxes()`.\n",
    "1. Compute box scores by doing the elementwise product as described in Figure 4 ($p \\times c$).  \n",
    "The following code may help you choose the right operator: \n",
    "```python\n",
    "a = np.random.randn(19, 19, 5, 1)\n",
    "b = np.random.randn(19, 19, 5, 80)\n",
    "c = a * b # shape of c will be (19, 19, 5, 80)\n",
    "```\n",
    "This is an example of **broadcasting** (multiplying vectors of different sizes).\n",
    "\n",
    "2. For each box, find:\n",
    "    - the index of the class with the maximum box score\n",
    "    - the corresponding box score\n",
    "    \n",
    "    **Useful References**\n",
    "        * [tf.math.argmax](https://www.tensorflow.org/api_docs/python/tf/math/argmax)\n",
    "        * [tf.math.reduce_max](https://www.tensorflow.org/api_docs/python/tf/math/reduce_max)\n",
    "\n",
    "    **Helpful Hints**\n",
    "        * For the `axis` parameter of `argmax` and `reduce_max`, if you want to select the **last** axis, one way to do so is to set `axis=-1`.  This is similar to Python array indexing, where you can select the last position of an array using `arrayname[-1]`.\n",
    "        * Applying `reduce_max` normally collapses the axis for which the maximum is applied.  `keepdims=False` is the default option, and allows that dimension to be removed.  You don't need to keep the last dimension after applying the maximum here.\n",
    "\n",
    "\n",
    "3. Create a mask by using a threshold. As a reminder: `([0.9, 0.3, 0.4, 0.5, 0.1] < 0.4)` returns: `[False, True, False, False, True]`. The mask should be `True` for the boxes you want to keep. \n",
    "\n",
    "4. Use TensorFlow to apply the mask to `box_class_scores`, `boxes` and `box_classes` to filter out the boxes you don't want. You should be left with just the subset of boxes you want to keep.   \n",
    "\n",
    "    **One more useful reference**:\n",
    "    * [tf.boolean mask](https://www.tensorflow.org/api_docs/python/tf/boolean_mask)  \n",
    "\n",
    "   **And one more helpful hint**: :) \n",
    "    * For the `tf.boolean_mask`, you can keep the default `axis=None`."
   ]
  },
  {
   "cell_type": "code",
   "execution_count": 2,
   "metadata": {},
   "outputs": [],
   "source": [
    "np.set_printoptions(suppress=True)"
   ]
  },
  {
   "cell_type": "code",
   "execution_count": 3,
   "metadata": {
    "deletable": false,
    "nbgrader": {
     "cell_type": "code",
     "checksum": "08f29f6200340f3ea6223aece625671b",
     "grade": false,
     "grade_id": "cell-125a819999f836d1",
     "locked": false,
     "schema_version": 3,
     "solution": true,
     "task": false
    }
   },
   "outputs": [],
   "source": [
    "# GRADED FUNCTION: yolo_filter_boxes\n",
    "\n",
    "def yolo_filter_boxes(boxes, box_confidence, box_class_probs, threshold = 0.6):\n",
    "    \"\"\"Filters YOLO boxes by thresholding on object and class confidence.\n",
    "    \n",
    "    Arguments:\n",
    "        boxes -- tensor of shape (19, 19, 5, 4)\n",
    "        box_confidence -- tensor of shape (19, 19, 5, 1)\n",
    "        box_class_probs -- tensor of shape (19, 19, 5, 80)\n",
    "        threshold -- real value, if [ highest class probability score < threshold],\n",
    "                     then get rid of the corresponding box\n",
    "\n",
    "    Returns:\n",
    "        scores -- tensor of shape (None,), containing the class probability score for selected boxes\n",
    "        boxes -- tensor of shape (None, 4), containing (b_x, b_y, b_h, b_w) coordinates of selected boxes\n",
    "        classes -- tensor of shape (None,), containing the index of the class detected by the selected boxes\n",
    "\n",
    "    Note: \"None\" is here because you don't know the exact number of selected boxes, as it depends on the threshold. \n",
    "    For example, the actual output size of scores would be (10,) if there are 10 boxes.\n",
    "    \"\"\"\n",
    "    \n",
    "    x = 10\n",
    "    y = tf.constant(100)\n",
    "    \n",
    "    # YOUR CODE STARTS HERE\n",
    "\n",
    "    # Step 1: Compute box scores\n",
    "    ##(≈ 1 line)\n",
    "    print(f\"================== INPUTS==================\")\n",
    "    print(\"******** Bounding Boxes Fila 0 Columna 2 *********\")\n",
    "    print(boxes[0][2])\n",
    "    print(\"****** Box Confidence ******\")\n",
    "    print(box_confidence[0][2])\n",
    "    print(\"****** Box Class Probs Anchor 1 ******\")\n",
    "    print(box_class_probs[0][2][0])\n",
    "    box_scores = box_class_probs*box_confidence\n",
    "    print(\"******* Box Scores : Multiply Box Confidence * Box Class Probs ********\")\n",
    "    print(box_scores[0][2][0])\n",
    "    \n",
    "    # Step 2: Find the box_classes using the max box_scores, keep track of the corresponding score\n",
    "    ##(≈ 2 lines)\n",
    "    box_classes = tf.math.argmax(box_scores,axis=-1)\n",
    "    print(\"***** Get Max Score Class ******\")\n",
    "    print(box_classes[0][2])\n",
    "    box_class_scores = tf.math.reduce_max(box_scores,axis=-1)\n",
    "    print(\"***** Get Max Score  ******\")\n",
    "    print(box_class_scores[0][2])\n",
    "    print(f\"Box Class Scores Shape : {box_class_scores.shape}\")\n",
    "    # Step 3: Create a filtering mask based on \"box_class_scores\" by using \"threshold\". The mask should have the\n",
    "    # same dimension as box_class_scores, and be True for the boxes you want to keep (with probability >= threshold)\n",
    "    ## (≈ 1 line)\n",
    "    filtering_mask = (box_class_scores >= threshold)\n",
    "    print(\"****** Filtering Mask *******\")\n",
    "    print(filtering_mask[0][2])\n",
    "    print(f\"Filtering Mask Shape : {filtering_mask.shape}\")\n",
    "    \n",
    "    # Step 4: Apply the mask to box_class_scores, boxes and box_classes\n",
    "    ## (≈ 3 lines)\n",
    "    scores = tf.boolean_mask(box_class_scores,filtering_mask)\n",
    "    boxes = tf.boolean_mask(boxes,filtering_mask)\n",
    "    classes = tf.boolean_mask(box_classes,filtering_mask)\n",
    "    \n",
    "    # YOUR CODE ENDS HERE\n",
    "    \n",
    "    return scores, boxes, classes"
   ]
  },
  {
   "cell_type": "code",
   "execution_count": 4,
   "metadata": {},
   "outputs": [],
   "source": [
    "# GRADED FUNCTION: yolo_filter_boxes\n",
    "\n",
    "def yolo_filter_boxes(boxes, box_confidence, box_class_probs, threshold = 0.6):\n",
    "    \"\"\"Filters YOLO boxes by thresholding on object and class confidence.\n",
    "    \n",
    "    Arguments:\n",
    "        boxes -- tensor of shape (19, 19, 5, 4)\n",
    "        box_confidence -- tensor of shape (19, 19, 5, 1)\n",
    "        box_class_probs -- tensor of shape (19, 19, 5, 80)\n",
    "        threshold -- real value, if [ highest class probability score < threshold],\n",
    "                     then get rid of the corresponding box\n",
    "\n",
    "    Returns:\n",
    "        scores -- tensor of shape (None,), containing the class probability score for selected boxes\n",
    "        boxes -- tensor of shape (None, 4), containing (b_x, b_y, b_h, b_w) coordinates of selected boxes\n",
    "        classes -- tensor of shape (None,), containing the index of the class detected by the selected boxes\n",
    "\n",
    "    Note: \"None\" is here because you don't know the exact number of selected boxes, as it depends on the threshold. \n",
    "    For example, the actual output size of scores would be (10,) if there are 10 boxes.\n",
    "    \"\"\"\n",
    "    \n",
    "    x = 10\n",
    "    y = tf.constant(100)\n",
    "    \n",
    "    # YOUR CODE STARTS HERE\n",
    "\n",
    "    # Step 1: Compute box scores\n",
    "    ##(≈ 1 line)\n",
    "\n",
    "    box_scores = box_class_probs*box_confidence\n",
    "\n",
    "    \n",
    "    # Step 2: Find the box_classes using the max box_scores, keep track of the corresponding score\n",
    "    ##(≈ 2 lines)\n",
    "    box_classes = tf.math.argmax(box_scores,axis=-1)\n",
    "\n",
    "    box_class_scores = tf.math.reduce_max(box_scores,axis=-1)\n",
    "\n",
    "    # Step 3: Create a filtering mask based on \"box_class_scores\" by using \"threshold\". The mask should have the\n",
    "    # same dimension as box_class_scores, and be True for the boxes you want to keep (with probability >= threshold)\n",
    "    ## (≈ 1 line)\n",
    "    filtering_mask = (box_class_scores >= threshold)\n",
    "\n",
    "    \n",
    "    # Step 4: Apply the mask to box_class_scores, boxes and box_classes\n",
    "    ## (≈ 3 lines)\n",
    "    scores = tf.boolean_mask(box_class_scores,filtering_mask)\n",
    "    boxes = tf.boolean_mask(boxes,filtering_mask)\n",
    "    classes = tf.boolean_mask(box_classes,filtering_mask)\n",
    "    \n",
    "    # YOUR CODE ENDS HERE\n",
    "    \n",
    "    return scores, boxes, classes"
   ]
  },
  {
   "cell_type": "code",
   "execution_count": 5,
   "metadata": {
    "deletable": false,
    "editable": false,
    "nbgrader": {
     "cell_type": "code",
     "checksum": "615c94cc11aa6ce681b0ee798e137364",
     "grade": true,
     "grade_id": "cell-b1c9aaf8e3305fee",
     "locked": true,
     "points": 10,
     "schema_version": 3,
     "solution": false,
     "task": false
    }
   },
   "outputs": [
    {
     "name": "stdout",
     "output_type": "stream",
     "text": [
      "scores[2] = 9.270486\n",
      "boxes[2] = [ 4.639934   3.2303846  4.431282  -2.2020311]\n",
      "classes[2] = 8\n",
      "scores.shape = (1789,)\n",
      "boxes.shape = (1789, 4)\n",
      "classes.shape = (1789,)\n",
      "\u001b[92m All tests passed!\n"
     ]
    }
   ],
   "source": [
    "tf.random.set_seed(10)\n",
    "box_confidence = tf.random.normal([19, 19, 5, 1], mean=1, stddev=4, seed = 1)\n",
    "boxes = tf.random.normal([19, 19, 5, 4], mean=1, stddev=4, seed = 1)\n",
    "box_class_probs = tf.random.normal([19, 19, 5, 80], mean=1, stddev=4, seed = 1)\n",
    "scores, boxes, classes = yolo_filter_boxes(boxes, box_confidence, box_class_probs, threshold = 0.5)\n",
    "print(\"scores[2] = \" + str(scores[2].numpy()))\n",
    "print(\"boxes[2] = \" + str(boxes[2].numpy()))\n",
    "print(\"classes[2] = \" + str(classes[2].numpy()))\n",
    "print(\"scores.shape = \" + str(scores.shape))\n",
    "print(\"boxes.shape = \" + str(boxes.shape))\n",
    "print(\"classes.shape = \" + str(classes.shape))\n",
    "\n",
    "assert type(scores) == EagerTensor, \"Use tensorflow functions\"\n",
    "assert type(boxes) == EagerTensor, \"Use tensorflow functions\"\n",
    "assert type(classes) == EagerTensor, \"Use tensorflow functions\"\n",
    "\n",
    "assert scores.shape == (1789,), \"Wrong shape in scores\"\n",
    "assert boxes.shape == (1789, 4), \"Wrong shape in boxes\"\n",
    "assert classes.shape == (1789,), \"Wrong shape in classes\"\n",
    "\n",
    "assert np.isclose(scores[2].numpy(), 9.270486), \"Values are wrong on scores\"\n",
    "assert np.allclose(boxes[2].numpy(), [4.6399336, 3.2303846, 4.431282, -2.202031]), \"Values are wrong on boxes\"\n",
    "assert classes[2].numpy() == 8, \"Values are wrong on classes\"\n",
    "\n",
    "print(\"\\033[92m All tests passed!\")\n"
   ]
  },
  {
   "cell_type": "markdown",
   "metadata": {},
   "source": [
    "**Expected Output**:\n",
    "\n",
    "<table>\n",
    "    <tr>\n",
    "        <td>\n",
    "            <b>scores[2]</b>\n",
    "        </td>\n",
    "        <td>\n",
    "           9.270486\n",
    "        </td>\n",
    "    </tr>\n",
    "    <tr>\n",
    "        <td>\n",
    "            <b>boxes[2]</b>\n",
    "        </td>\n",
    "        <td>\n",
    "           [ 4.6399336  3.2303846  4.431282  -2.202031 ]\n",
    "        </td>\n",
    "    </tr>\n",
    "    <tr>\n",
    "        <td>\n",
    "            <b>classes[2]</b>\n",
    "        </td>\n",
    "        <td>\n",
    "           8\n",
    "        </td>\n",
    "    </tr>\n",
    "        <tr>\n",
    "        <td>\n",
    "            <b>scores.shape</b>\n",
    "        </td>\n",
    "        <td>\n",
    "           (1789,)\n",
    "        </td>\n",
    "    </tr>\n",
    "    <tr>\n",
    "        <td>\n",
    "            <b>boxes.shape</b>\n",
    "        </td>\n",
    "        <td>\n",
    "           (1789, 4)\n",
    "        </td>\n",
    "    </tr>\n",
    "    <tr>\n",
    "        <td>\n",
    "            <b>classes.shape</b>\n",
    "        </td>\n",
    "        <td>\n",
    "           (1789,)\n",
    "        </td>\n",
    "    </tr>\n",
    "\n",
    "</table>"
   ]
  },
  {
   "cell_type": "markdown",
   "metadata": {},
   "source": [
    "**Note** In the test for `yolo_filter_boxes`, you're using random numbers to test the function.  In real data, the `box_class_probs` would contain non-zero values between 0 and 1 for the probabilities.  The box coordinates in `boxes` would also be chosen so that lengths and heights are non-negative."
   ]
  },
  {
   "cell_type": "markdown",
   "metadata": {},
   "source": [
    "<a name='2-3'></a>\n",
    "### 2.3 - Non-max Suppression\n",
    "\n",
    "Even after filtering by thresholding over the class scores, you still end up with a lot of overlapping boxes. A second filter for selecting the right boxes is called non-maximum suppression (NMS). "
   ]
  },
  {
   "cell_type": "markdown",
   "metadata": {},
   "source": [
    "<img src=\"nb_images/non-max-suppression.png\" style=\"width:500px;height:400;\">\n",
    "<caption><center> <u> <b>Figure 7</b> </u>: In this example, the model has predicted 3 cars, but it's actually 3 predictions of the same car. Running non-max suppression (NMS) will select only the most accurate (highest probability) of the 3 boxes. <br> </center></caption>\n"
   ]
  },
  {
   "cell_type": "markdown",
   "metadata": {},
   "source": [
    "Non-max suppression uses the very important function called **\"Intersection over Union\"**, or IoU.\n",
    "<img src=\"nb_images/iou.png\" style=\"width:500px;height:400;\">\n",
    "<caption><center> <u> <b>Figure 8</b> </u>: Definition of \"Intersection over Union\". <br> </center></caption>\n",
    "\n",
    "<a name='ex-2'></a>\n",
    "### Exercise 2 - iou\n",
    "\n",
    "Implement `iou()` \n",
    "\n",
    "Some hints:\n",
    "- This code uses the convention that (0,0) is the top-left corner of an image, (1,0) is the upper-right corner, and (1,1) is the lower-right corner. In other words, the (0,0) origin starts at the top left corner of the image. As x increases, you move to the right.  As y increases, you move down.\n",
    "- For this exercise, a box is defined using its two corners: upper left $(x_1, y_1)$ and lower right $(x_2,y_2)$, instead of using the midpoint, height and width. This makes it a bit easier to calculate the intersection.\n",
    "- To calculate the area of a rectangle, multiply its height $(y_2 - y_1)$ by its width $(x_2 - x_1)$. Since $(x_1,y_1)$ is the top left and $x_2,y_2$ are the bottom right, these differences should be non-negative.\n",
    "- To find the **intersection** of the two boxes $(xi_{1}, yi_{1}, xi_{2}, yi_{2})$: \n",
    "    - Feel free to draw some examples on paper to clarify this conceptually.\n",
    "    - The top left corner of the intersection $(xi_{1}, yi_{1})$ is found by comparing the top left corners $(x_1, y_1)$ of the two boxes and finding a vertex that has an x-coordinate that is closer to the right, and y-coordinate that is closer to the bottom.\n",
    "    - The bottom right corner of the intersection $(xi_{2}, yi_{2})$ is found by comparing the bottom right corners $(x_2,y_2)$ of the two boxes and finding a vertex whose x-coordinate is closer to the left, and the y-coordinate that is closer to the top.\n",
    "    - The two boxes **may have no intersection**.  You can detect this if the intersection coordinates you calculate end up being the top right and/or bottom left corners of an intersection box.  Another way to think of this is if you calculate the height $(y_2 - y_1)$ or width $(x_2 - x_1)$ and find that at least one of these lengths is negative, then there is no intersection (intersection area is zero).  \n",
    "    - The two boxes may intersect at the **edges or vertices**, in which case the intersection area is still zero.  This happens when either the height or width (or both) of the calculated intersection is zero.\n",
    "\n",
    "\n",
    "**Additional Hints**\n",
    "\n",
    "- `xi1` = **max**imum of the x1 coordinates of the two boxes\n",
    "- `yi1` = **max**imum of the y1 coordinates of the two boxes\n",
    "- `xi2` = **min**imum of the x2 coordinates of the two boxes\n",
    "- `yi2` = **min**imum of the y2 coordinates of the two boxes\n",
    "- `inter_area` = You can use `max(height, 0)` and `max(width, 0)`\n"
   ]
  },
  {
   "cell_type": "code",
   "execution_count": 6,
   "metadata": {},
   "outputs": [],
   "source": [
    "#########################################################################\n",
    "######################## USELESS BELOW ##################################\n",
    "#########################################################################"
   ]
  },
  {
   "cell_type": "code",
   "execution_count": 7,
   "metadata": {
    "deletable": false,
    "nbgrader": {
     "cell_type": "code",
     "checksum": "15fb8b9d060ca2737fc7495a4fefe342",
     "grade": false,
     "grade_id": "cell-43008d769892f26f",
     "locked": false,
     "schema_version": 3,
     "solution": true,
     "task": false
    }
   },
   "outputs": [],
   "source": [
    "# GRADED FUNCTION: iou\n",
    "\n",
    "def iou(box1, box2):\n",
    "    \"\"\"Implement the intersection over union (IoU) between box1 and box2\n",
    "    \n",
    "    Arguments:\n",
    "    box1 -- first box, list object with coordinates (box1_x1, box1_y1, box1_x2, box_1_y2)\n",
    "    box2 -- second box, list object with coordinates (box2_x1, box2_y1, box2_x2, box2_y2)\n",
    "    \"\"\"\n",
    "\n",
    "\n",
    "    (box1_x1, box1_y1, box1_x2, box1_y2) = box1\n",
    "    (box2_x1, box2_y1, box2_x2, box2_y2) = box2\n",
    "\n",
    "    # YOUR CODE STARTS HERE\n",
    "    \n",
    "    # Calculate the (yi1, xi1, yi2, xi2) coordinates of the intersection of box1 and box2. Calculate its Area.\n",
    "    ##(≈ 7 lines)\n",
    "    xi1 = max(box1_x1,box2_x1)\n",
    "    yi1 = max(box1_y1,box2_y1)\n",
    "    xi2 = min(box1_x2,box2_x2)\n",
    "    yi2 = min(box1_y2,box2_y2)\n",
    "    inter_width = max(0,yi2 - yi1)\n",
    "    inter_height = max(0,xi2 - xi1)\n",
    "    inter_area = inter_width*inter_height\n",
    "\n",
    "    # Calculate the Union area by using Formula: Union(A,B) = A + B - Inter(A,B)\n",
    "    ## (≈ 3 lines)\n",
    "    box1_area = (box1_x2-box1_x1)*((box1_y2-box1_y1))\n",
    "    box2_area = (box2_x2-box2_x1)*((box2_y2-box2_y1))\n",
    "    union_area = box1_area + box2_area - inter_area\n",
    "    \n",
    "    # compute the IoU\n",
    "    ## (≈ 1 line)\n",
    "    iou = inter_area/union_area\n",
    "    \n",
    "    # YOUR CODE ENDS HERE\n",
    "    \n",
    "    return iou"
   ]
  },
  {
   "cell_type": "code",
   "execution_count": 8,
   "metadata": {
    "deletable": false,
    "editable": false,
    "nbgrader": {
     "cell_type": "code",
     "checksum": "202215a02b8a1547256fc79eecf93783",
     "grade": true,
     "grade_id": "cell-e990c04efb445600",
     "locked": true,
     "points": 10,
     "schema_version": 3,
     "solution": false,
     "task": false
    }
   },
   "outputs": [
    {
     "name": "stdout",
     "output_type": "stream",
     "text": [
      "iou for intersecting boxes = 0.14285714285714285\n",
      "iou for non-intersecting boxes = 0.0\n",
      "iou for boxes that only touch at vertices = 0.0\n",
      "iou for boxes that only touch at edges = 0.0\n",
      "\u001b[92m All tests passed!\n"
     ]
    }
   ],
   "source": [
    "## Test case 1: boxes intersect\n",
    "box1 = (2, 1, 4, 3)\n",
    "box2 = (1, 2, 3, 4)\n",
    "\n",
    "print(\"iou for intersecting boxes = \" + str(iou(box1, box2)))\n",
    "assert iou(box1, box2) < 1, \"The intersection area must be always smaller or equal than the union area.\"\n",
    "assert np.isclose(iou(box1, box2), 0.14285714), \"Wrong value. Check your implementation. Problem with intersecting boxes\"\n",
    "\n",
    "## Test case 2: boxes do not intersect\n",
    "box1 = (1,2,3,4)\n",
    "box2 = (5,6,7,8)\n",
    "print(\"iou for non-intersecting boxes = \" + str(iou(box1,box2)))\n",
    "assert iou(box1, box2) == 0, \"Intersection must be 0\"\n",
    "\n",
    "## Test case 3: boxes intersect at vertices only\n",
    "box1 = (1,1,2,2)\n",
    "box2 = (2,2,3,3)\n",
    "print(\"iou for boxes that only touch at vertices = \" + str(iou(box1,box2)))\n",
    "assert iou(box1, box2) == 0, \"Intersection at vertices must be 0\"\n",
    "\n",
    "## Test case 4: boxes intersect at edge only\n",
    "box1 = (1,1,3,3)\n",
    "box2 = (2,3,3,4)\n",
    "print(\"iou for boxes that only touch at edges = \" + str(iou(box1,box2)))\n",
    "assert iou(box1, box2) == 0, \"Intersection at edges must be 0\"\n",
    "\n",
    "print(\"\\033[92m All tests passed!\")\n",
    "\n"
   ]
  },
  {
   "cell_type": "markdown",
   "metadata": {},
   "source": [
    "**Expected Output**:\n",
    "\n",
    "```\n",
    "iou for intersecting boxes = 0.14285714285714285\n",
    "iou for non-intersecting boxes = 0.0\n",
    "iou for boxes that only touch at vertices = 0.0\n",
    "iou for boxes that only touch at edges = 0.0\n",
    "```"
   ]
  },
  {
   "cell_type": "markdown",
   "metadata": {},
   "source": [
    "<a name='2-4'></a>\n",
    "### 2.4 - YOLO Non-max Suppression\n",
    "\n",
    "You are now ready to implement non-max suppression. The key steps are: \n",
    "1. Select the box that has the highest score.\n",
    "2. Compute the overlap of this box with all other boxes, and remove boxes that overlap significantly (iou >= `iou_threshold`).\n",
    "3. Go back to step 1 and iterate until there are no more boxes with a lower score than the currently selected box.\n",
    "\n",
    "This will remove all boxes that have a large overlap with the selected boxes. Only the \"best\" boxes remain.\n",
    "\n",
    "<a name='ex-3'></a>\n",
    "### Exercise 3 - yolo_non_max_suppression\n",
    "\n",
    "Implement `yolo_non_max_suppression()` using TensorFlow. TensorFlow has two built-in functions that are used to implement non-max suppression (so you don't actually need to use your `iou()` implementation):\n",
    "\n",
    "**Reference documentation**: \n",
    "\n",
    "- [tf.image.non_max_suppression()](https://www.tensorflow.org/api_docs/python/tf/image/non_max_suppression)\n",
    "```\n",
    "tf.image.non_max_suppression(\n",
    "    boxes,\n",
    "    scores,\n",
    "    max_output_size,\n",
    "    iou_threshold=0.5,\n",
    "    name=None\n",
    ")\n",
    "```\n",
    "Note that in the version of TensorFlow used here, there is no parameter `score_threshold` (it's shown in the documentation for the latest version) so trying to set this value will result in an error message: *got an unexpected keyword argument `score_threshold`.*\n",
    "\n",
    "- [tf.gather()](https://www.tensorflow.org/api_docs/python/tf/gather)\n",
    "```\n",
    "keras.gather(\n",
    "    reference,\n",
    "    indices\n",
    ")\n",
    "```"
   ]
  },
  {
   "cell_type": "code",
   "execution_count": 9,
   "metadata": {
    "deletable": false,
    "nbgrader": {
     "cell_type": "code",
     "checksum": "2b46fc75134940f8dc2b63be892a5342",
     "grade": false,
     "grade_id": "cell-45dde3252e543bbd",
     "locked": false,
     "schema_version": 3,
     "solution": true,
     "task": false
    }
   },
   "outputs": [],
   "source": [
    "# GRADED FUNCTION: yolo_non_max_suppression\n",
    "\n",
    "def yolo_non_max_suppression(scores, boxes, classes, max_boxes = 10, iou_threshold = 0.5):\n",
    "    \"\"\"\n",
    "    Applies Non-max suppression (NMS) to set of boxes\n",
    "    \n",
    "    Arguments:\n",
    "    scores -- tensor of shape (None,), output of yolo_filter_boxes()\n",
    "    boxes -- tensor of shape (None, 4), output of yolo_filter_boxes() that have been scaled to the image size (see later)\n",
    "    classes -- tensor of shape (None,), output of yolo_filter_boxes()\n",
    "    max_boxes -- integer, maximum number of predicted boxes you'd like\n",
    "    iou_threshold -- real value, \"intersection over union\" threshold used for NMS filtering\n",
    "    \n",
    "    Returns:\n",
    "    scores -- tensor of shape (, None), predicted score for each box\n",
    "    boxes -- tensor of shape (4, None), predicted box coordinates\n",
    "    classes -- tensor of shape (, None), predicted class for each box\n",
    "    \n",
    "    Note: The \"None\" dimension of the output tensors has obviously to be less than max_boxes. Note also that this\n",
    "    function will transpose the shapes of scores, boxes, classes. This is made for convenience.\n",
    "    \"\"\"\n",
    "    \n",
    "    max_boxes_tensor = tf.Variable(max_boxes, dtype='int32')     # tensor to be used in tf.image.non_max_suppression()\n",
    "    \n",
    "    # Use tf.image.non_max_suppression() to get the list of indices corresponding to boxes you keep\n",
    "    ##(≈ 1 line)\n",
    "    nms_indices = tf.image.non_max_suppression(boxes,scores,max_boxes_tensor,iou_threshold)\n",
    "    \n",
    "    # Use tf.gather() to select only nms_indices from scores, boxes and classes\n",
    "    ##(≈ 3 lines)\n",
    "    scores = tf.gather(scores,nms_indices)\n",
    "    boxes = tf.gather(boxes,nms_indices)\n",
    "    classes = tf.gather(classes,nms_indices)\n",
    "    # YOUR CODE STARTS HERE\n",
    "    \n",
    "    \n",
    "    # YOUR CODE ENDS HERE\n",
    "\n",
    "    \n",
    "    return scores, boxes, classes"
   ]
  },
  {
   "cell_type": "code",
   "execution_count": 10,
   "metadata": {
    "deletable": false,
    "editable": false,
    "nbgrader": {
     "cell_type": "code",
     "checksum": "fdebc94241d8b19eea5d275e1c944ab7",
     "grade": true,
     "grade_id": "cell-07e64f2138d66235",
     "locked": true,
     "points": 10,
     "schema_version": 3,
     "solution": false,
     "task": false
    }
   },
   "outputs": [
    {
     "name": "stdout",
     "output_type": "stream",
     "text": [
      "scores[2] = 8.147684\n",
      "boxes[2] = [ 6.0797963   3.7433083   1.3914018  -0.34089637]\n",
      "classes[2] = 1.7079165\n",
      "scores.shape = (10,)\n",
      "boxes.shape = (10, 4)\n",
      "classes.shape = (10,)\n",
      "\u001b[92m All tests passed!\n"
     ]
    }
   ],
   "source": [
    "tf.random.set_seed(10)\n",
    "scores = tf.random.normal([54,], mean=1, stddev=4, seed = 1)\n",
    "boxes = tf.random.normal([54, 4], mean=1, stddev=4, seed = 1)\n",
    "classes = tf.random.normal([54,], mean=1, stddev=4, seed = 1)\n",
    "scores, boxes, classes = yolo_non_max_suppression(scores, boxes, classes)\n",
    "\n",
    "assert type(scores) == EagerTensor, \"Use tensoflow functions\"\n",
    "print(\"scores[2] = \" + str(scores[2].numpy()))\n",
    "print(\"boxes[2] = \" + str(boxes[2].numpy()))\n",
    "print(\"classes[2] = \" + str(classes[2].numpy()))\n",
    "print(\"scores.shape = \" + str(scores.numpy().shape))\n",
    "print(\"boxes.shape = \" + str(boxes.numpy().shape))\n",
    "print(\"classes.shape = \" + str(classes.numpy().shape))\n",
    "\n",
    "assert type(scores) == EagerTensor, \"Use tensoflow functions\"\n",
    "assert type(boxes) == EagerTensor, \"Use tensoflow functions\"\n",
    "assert type(classes) == EagerTensor, \"Use tensoflow functions\"\n",
    "\n",
    "assert scores.shape == (10,), \"Wrong shape\"\n",
    "assert boxes.shape == (10, 4), \"Wrong shape\"\n",
    "assert classes.shape == (10,), \"Wrong shape\"\n",
    "\n",
    "assert np.isclose(scores[2].numpy(), 8.147684), \"Wrong value on scores\"\n",
    "assert np.allclose(boxes[2].numpy(), [ 6.0797963, 3.743308, 1.3914018, -0.34089637]), \"Wrong value on boxes\"\n",
    "assert np.isclose(classes[2].numpy(), 1.7079165), \"Wrong value on classes\"\n",
    "\n",
    "print(\"\\033[92m All tests passed!\")\n"
   ]
  },
  {
   "cell_type": "markdown",
   "metadata": {},
   "source": [
    "**Expected Output**:\n",
    "\n",
    "<table>\n",
    "    <tr>\n",
    "        <td>\n",
    "            <b>scores[2]</b>\n",
    "        </td>\n",
    "        <td>\n",
    "           8.147684\n",
    "        </td>\n",
    "    </tr>\n",
    "    <tr>\n",
    "        <td>\n",
    "            <b>boxes[2]</b>\n",
    "        </td>\n",
    "        <td>\n",
    "           [ 6.0797963   3.743308    1.3914018  -0.34089637]\n",
    "        </td>\n",
    "    </tr>\n",
    "    <tr>\n",
    "        <td>\n",
    "            <b>classes[2]</b>\n",
    "        </td>\n",
    "        <td>\n",
    "           1.7079165\n",
    "        </td>\n",
    "    </tr>\n",
    "        <tr>\n",
    "        <td>\n",
    "            <b>scores.shape</b>\n",
    "        </td>\n",
    "        <td>\n",
    "           (10,)\n",
    "        </td>\n",
    "    </tr>\n",
    "    <tr>\n",
    "        <td>\n",
    "            <b>boxes.shape</b>\n",
    "        </td>\n",
    "        <td>\n",
    "           (10, 4)\n",
    "        </td>\n",
    "    </tr>\n",
    "    <tr>\n",
    "        <td>\n",
    "            <b>classes.shape</b>\n",
    "        </td>\n",
    "        <td>\n",
    "           (10,)\n",
    "        </td>\n",
    "    </tr>\n",
    "\n",
    "</table>"
   ]
  },
  {
   "cell_type": "markdown",
   "metadata": {},
   "source": [
    "<a name='2-5'></a>\n",
    "### 2.5 - Wrapping Up the Filtering\n",
    "\n",
    "It's time to implement a function taking the output of the deep CNN (the 19x19x5x85 dimensional encoding) and filtering through all the boxes using the functions you've just implemented. \n",
    "\n",
    "<a name='ex-4'></a>\n",
    "### Exercise 4 - yolo_eval\n",
    "\n",
    "Implement `yolo_eval()` which takes the output of the YOLO encoding and filters the boxes using score threshold and NMS. There's just one last implementational detail you have to know. There're a few ways of representing boxes, such as via their corners or via their midpoint and height/width. YOLO converts between a few such formats at different times, using the following functions (which are provided): \n",
    "\n",
    "```python\n",
    "boxes = yolo_boxes_to_corners(box_xy, box_wh) \n",
    "```\n",
    "which converts the yolo box coordinates (x,y,w,h) to box corners' coordinates (x1, y1, x2, y2) to fit the input of `yolo_filter_boxes`\n",
    "```python\n",
    "boxes = scale_boxes(boxes, image_shape)\n",
    "```\n",
    "YOLO's network was trained to run on 608x608 images. If you are testing this data on a different size image -- for example, the car detection dataset had 720x1280 images -- this step rescales the boxes so that they can be plotted on top of the original 720x1280 image.  \n",
    "\n",
    "Don't worry about these two functions; you'll see where they need to be called below.  "
   ]
  },
  {
   "cell_type": "code",
   "execution_count": 11,
   "metadata": {},
   "outputs": [],
   "source": [
    "def yolo_boxes_to_corners(box_xy, box_wh):\n",
    "    \"\"\"Convert YOLO box predictions to bounding box corners.\"\"\"\n",
    "    box_mins = box_xy - (box_wh / 2.)\n",
    "    box_maxes = box_xy + (box_wh / 2.)\n",
    "\n",
    "    return tf.keras.backend.concatenate([\n",
    "        box_mins[..., 1:2],  # y_min\n",
    "        box_mins[..., 0:1],  # x_min\n",
    "        box_maxes[..., 1:2],  # y_max\n",
    "        box_maxes[..., 0:1]  # x_max\n",
    "    ])\n"
   ]
  },
  {
   "cell_type": "code",
   "execution_count": 12,
   "metadata": {
    "deletable": false,
    "nbgrader": {
     "cell_type": "code",
     "checksum": "b86b734e67da53186508d3e73aa5e413",
     "grade": false,
     "grade_id": "cell-baa7fe688d21f2dc",
     "locked": false,
     "schema_version": 3,
     "solution": true,
     "task": false
    }
   },
   "outputs": [],
   "source": [
    "# GRADED FUNCTION: yolo_eval\n",
    "\n",
    "def yolo_eval(yolo_outputs, image_shape = (720, 1280), max_boxes=10, score_threshold=.6, iou_threshold=.5):\n",
    "    \"\"\"\n",
    "    Converts the output of YOLO encoding (a lot of boxes) to your predicted boxes along with their scores, box coordinates and classes.\n",
    "    \n",
    "    Arguments:\n",
    "    yolo_outputs -- output of the encoding model (for image_shape of (608, 608, 3)), contains 4 tensors:\n",
    "                    box_xy: tensor of shape (None, 19, 19, 5, 2)\n",
    "                    box_wh: tensor of shape (None, 19, 19, 5, 2)\n",
    "                    box_confidence: tensor of shape (None, 19, 19, 5, 1)\n",
    "                    box_class_probs: tensor of shape (None, 19, 19, 5, 80)\n",
    "    image_shape -- tensor of shape (2,) containing the input shape, in this notebook we use (608., 608.) (has to be float32 dtype)\n",
    "    max_boxes -- integer, maximum number of predicted boxes you'd like\n",
    "    score_threshold -- real value, if [ highest class probability score < threshold], then get rid of the corresponding box\n",
    "    iou_threshold -- real value, \"intersection over union\" threshold used for NMS filtering\n",
    "    \n",
    "    Returns:\n",
    "    scores -- tensor of shape (None, ), predicted score for each box\n",
    "    boxes -- tensor of shape (None, 4), predicted box coordinates\n",
    "    classes -- tensor of shape (None,), predicted class for each box\n",
    "    \"\"\"\n",
    "    \n",
    "    \n",
    "    # Retrieve outputs of the YOLO model (≈1 line)\n",
    "    box_xy, box_wh, box_confidence, box_class_probs = yolo_outputs\n",
    "    print(f\"=============== Yolo Outputs ==============\")\n",
    "    print(f\"Box XY Shape : {box_xy.shape}\")\n",
    "    print(f\"Box WH Shape : {box_wh.shape}\")\n",
    "    print(f\"Box Confidence Shape : {box_confidence.shape}\")\n",
    "    print(f\"Box Class Probs Shape : {box_class_probs.shape}\")\n",
    "    # Convert boxes to be ready for filtering functions (convert boxes box_xy and box_wh to corner coordinates)\n",
    "    print(f\"XY : {box_xy[0][0]}\")\n",
    "    print(f\"WH : {box_wh[0][0]}\")\n",
    "    boxes = yolo_boxes_to_corners(box_xy, box_wh)\n",
    "    print(f\"Boxes to Corners Shape : {boxes.shape}\")\n",
    "    print(f\"Corners : {boxes[0][0]}\")\n",
    "\n",
    "    # Use one of the functions you've implemented to perform Score-filtering with a threshold of score_threshold (≈1 line)\n",
    "    scores, boxes, classes = yolo_filter_boxes(boxes, box_confidence, box_class_probs, score_threshold)\n",
    "    old_boxes = boxes\n",
    "\n",
    "    \n",
    "    # Scale boxes back to original image shape (720, 1280 or whatever)\n",
    "    boxes = scale_boxes(boxes, image_shape) # Network was trained to run on 608x608 images\n",
    "    scaled_boxes = boxes\n",
    "\n",
    "    # Use one of the functions you've implemented to perform Non-max suppression with \n",
    "    # maximum number of boxes set to max_boxes and a threshold of iou_threshold (≈1 line)\n",
    "    scores, boxes, classes = yolo_non_max_suppression(scores, boxes, classes, max_boxes, iou_threshold)\n",
    "    \n",
    "    # YOUR CODE STARTS HERE\n",
    "    \n",
    "    \n",
    "    # YOUR CODE ENDS HERE\n",
    "    \n",
    "    return scores, boxes, classes , old_boxes , scaled_boxes"
   ]
  },
  {
   "cell_type": "code",
   "execution_count": 13,
   "metadata": {},
   "outputs": [],
   "source": [
    "# GRADED FUNCTION: yolo_eval\n",
    "\n",
    "def yolo_eval(yolo_outputs, image_shape = (720, 1280), max_boxes=10, score_threshold=.6, iou_threshold=.5):\n",
    "    \"\"\"\n",
    "    Converts the output of YOLO encoding (a lot of boxes) to your predicted boxes along with their scores, box coordinates and classes.\n",
    "    \n",
    "    Arguments:\n",
    "    yolo_outputs -- output of the encoding model (for image_shape of (608, 608, 3)), contains 4 tensors:\n",
    "                    box_xy: tensor of shape (None, 19, 19, 5, 2)\n",
    "                    box_wh: tensor of shape (None, 19, 19, 5, 2)\n",
    "                    box_confidence: tensor of shape (None, 19, 19, 5, 1)\n",
    "                    box_class_probs: tensor of shape (None, 19, 19, 5, 80)\n",
    "    image_shape -- tensor of shape (2,) containing the input shape, in this notebook we use (608., 608.) (has to be float32 dtype)\n",
    "    max_boxes -- integer, maximum number of predicted boxes you'd like\n",
    "    score_threshold -- real value, if [ highest class probability score < threshold], then get rid of the corresponding box\n",
    "    iou_threshold -- real value, \"intersection over union\" threshold used for NMS filtering\n",
    "    \n",
    "    Returns:\n",
    "    scores -- tensor of shape (None, ), predicted score for each box\n",
    "    boxes -- tensor of shape (None, 4), predicted box coordinates\n",
    "    classes -- tensor of shape (None,), predicted class for each box\n",
    "    \"\"\"\n",
    "    \n",
    "    \n",
    "    # Retrieve outputs of the YOLO model (≈1 line)\n",
    "    box_xy, box_wh, box_confidence, box_class_probs = yolo_outputs\n",
    "\n",
    "    # Convert boxes to be ready for filtering functions (convert boxes box_xy and box_wh to corner coordinates)\n",
    "\n",
    "    boxes = yolo_boxes_to_corners(box_xy, box_wh)\n",
    "\n",
    "\n",
    "    # Use one of the functions you've implemented to perform Score-filtering with a threshold of score_threshold (≈1 line)\n",
    "    scores, boxes, classes = yolo_filter_boxes(boxes, box_confidence, box_class_probs, score_threshold)\n",
    "    old_boxes = boxes\n",
    "    \n",
    "    # Scale boxes back to original image shape (720, 1280 or whatever)\n",
    "    boxes = scale_boxes(boxes, image_shape) # Network was trained to run on 608x608 images\n",
    "    scaled_boxes = boxes\n",
    "\n",
    "    # Use one of the functions you've implemented to perform Non-max suppression with \n",
    "    # maximum number of boxes set to max_boxes and a threshold of iou_threshold (≈1 line)\n",
    "    scores, boxes, classes = yolo_non_max_suppression(scores, boxes, classes, max_boxes, iou_threshold)\n",
    "    # YOUR CODE STARTS HERE\n",
    "    \n",
    "    \n",
    "    # YOUR CODE ENDS HERE\n",
    "    \n",
    "    return scores, boxes, classes "
   ]
  },
  {
   "cell_type": "code",
   "execution_count": 14,
   "metadata": {},
   "outputs": [
    {
     "name": "stdout",
     "output_type": "stream",
     "text": [
      "tf.Tensor(\n",
      "[[ -2.3058128   -0.75167537   5.570725     2.5230653 ]\n",
      " [ -4.41899     -0.61870974   1.7488999   -1.5749795 ]\n",
      " [ -2.2796044   -0.12143171 -10.342308     2.8530235 ]\n",
      " ...\n",
      " [  0.7958269   -2.8839426   -4.6315866    1.3559202 ]\n",
      " [  1.8101819   -2.5126626   -5.638584    -0.48695254]\n",
      " [  5.3965187    0.40965655   0.9595802    0.51460147]], shape=(1786, 4), dtype=float32)\n"
     ]
    }
   ],
   "source": [
    "tf.random.set_seed(10)\n",
    "yolo_outputs = (tf.random.normal([19, 19, 5, 2], mean=1, stddev=4, seed = 1),\n",
    "                tf.random.normal([19, 19, 5, 2], mean=1, stddev=4, seed = 1),\n",
    "                tf.random.normal([19, 19, 5, 1], mean=1, stddev=4, seed = 1),\n",
    "                tf.random.normal([19, 19, 5, 80], mean=1, stddev=4, seed = 1))\n",
    "scores, boxes, classes = yolo_eval(yolo_outputs)"
   ]
  },
  {
   "cell_type": "code",
   "execution_count": 15,
   "metadata": {},
   "outputs": [],
   "source": [
    "image_shape = (720, 1280)"
   ]
  },
  {
   "cell_type": "code",
   "execution_count": 16,
   "metadata": {},
   "outputs": [],
   "source": [
    "from keras import backend as K"
   ]
  },
  {
   "cell_type": "code",
   "execution_count": 17,
   "metadata": {},
   "outputs": [],
   "source": [
    "height = image_shape[0]\n",
    "width = image_shape[1]\n",
    "image_dims = tf.stack([height, width, height, width])\n",
    "image_dims = tf.reshape(image_dims, [1, 4])"
   ]
  },
  {
   "cell_type": "code",
   "execution_count": 18,
   "metadata": {},
   "outputs": [
    {
     "data": {
      "text/plain": [
       "<tf.Tensor: shape=(1, 4), dtype=int32, numpy=array([[ 720, 1280,  720, 1280]])>"
      ]
     },
     "execution_count": 18,
     "metadata": {},
     "output_type": "execute_result"
    }
   ],
   "source": [
    "image_dims"
   ]
  },
  {
   "cell_type": "code",
   "execution_count": 19,
   "metadata": {
    "deletable": false,
    "editable": false,
    "nbgrader": {
     "cell_type": "code",
     "checksum": "fb065ca29f88e9410dd8a23824833771",
     "grade": true,
     "grade_id": "cell-8433ee3146a7deda",
     "locked": true,
     "points": 10,
     "schema_version": 3,
     "solution": false,
     "task": false
    }
   },
   "outputs": [
    {
     "name": "stdout",
     "output_type": "stream",
     "text": [
      "tf.Tensor(\n",
      "[[ -2.3058128   -0.75167537   5.570725     2.5230653 ]\n",
      " [ -4.41899     -0.61870974   1.7488999   -1.5749795 ]\n",
      " [ -2.2796044   -0.12143171 -10.342308     2.8530235 ]\n",
      " ...\n",
      " [  0.7958269   -2.8839426   -4.6315866    1.3559202 ]\n",
      " [  1.8101819   -2.5126626   -5.638584    -0.48695254]\n",
      " [  5.3965187    0.40965655   0.9595802    0.51460147]], shape=(1786, 4), dtype=float32)\n",
      "scores[2] = 171.60194\n",
      "boxes[2] = [-1240.3483 -3212.5881  -645.78    2024.3052]\n",
      "classes[2] = 16\n",
      "scores.shape = (10,)\n",
      "boxes.shape = (10, 4)\n",
      "classes.shape = (10,)\n",
      "\u001b[92m All tests passed!\n"
     ]
    }
   ],
   "source": [
    "tf.random.set_seed(10)\n",
    "yolo_outputs = (tf.random.normal([19, 19, 5, 2], mean=1, stddev=4, seed = 1),\n",
    "                tf.random.normal([19, 19, 5, 2], mean=1, stddev=4, seed = 1),\n",
    "                tf.random.normal([19, 19, 5, 1], mean=1, stddev=4, seed = 1),\n",
    "                tf.random.normal([19, 19, 5, 80], mean=1, stddev=4, seed = 1))\n",
    "scores, boxes, classes = yolo_eval(yolo_outputs)\n",
    "print(\"scores[2] = \" + str(scores[2].numpy()))\n",
    "print(\"boxes[2] = \" + str(boxes[2].numpy()))\n",
    "print(\"classes[2] = \" + str(classes[2].numpy()))\n",
    "print(\"scores.shape = \" + str(scores.numpy().shape))\n",
    "print(\"boxes.shape = \" + str(boxes.numpy().shape))\n",
    "print(\"classes.shape = \" + str(classes.numpy().shape))\n",
    "\n",
    "assert type(scores) == EagerTensor, \"Use tensoflow functions\"\n",
    "assert type(boxes) == EagerTensor, \"Use tensoflow functions\"\n",
    "assert type(classes) == EagerTensor, \"Use tensoflow functions\"\n",
    "\n",
    "assert scores.shape == (10,), \"Wrong shape\"\n",
    "assert boxes.shape == (10, 4), \"Wrong shape\"\n",
    "assert classes.shape == (10,), \"Wrong shape\"\n",
    "    \n",
    "assert np.isclose(scores[2].numpy(), 171.60194), \"Wrong value on scores\"\n",
    "assert np.allclose(boxes[2].numpy(), [-1240.3483, -3212.5881, -645.78, 2024.3052]), \"Wrong value on boxes\"\n",
    "assert np.isclose(classes[2].numpy(), 16), \"Wrong value on classes\"\n",
    "    \n",
    "print(\"\\033[92m All tests passed!\")"
   ]
  },
  {
   "cell_type": "markdown",
   "metadata": {},
   "source": [
    "**Expected Output**:\n",
    "\n",
    "<table>\n",
    "    <tr>\n",
    "        <td>\n",
    "            <b>scores[2]</b>\n",
    "        </td>\n",
    "        <td>\n",
    "           171.60194\n",
    "        </td>\n",
    "    </tr>\n",
    "    <tr>\n",
    "        <td>\n",
    "            <b>boxes[2]</b>\n",
    "        </td>\n",
    "        <td>\n",
    "           [-1240.3483 -3212.5881  -645.78    2024.3052]\n",
    "        </td>\n",
    "    </tr>\n",
    "    <tr>\n",
    "        <td>\n",
    "            <b>classes[2]</b>\n",
    "        </td>\n",
    "        <td>\n",
    "           16\n",
    "        </td>\n",
    "    </tr> \n",
    "        <tr>\n",
    "        <td>\n",
    "            <b>scores.shape</b>\n",
    "        </td>\n",
    "        <td>\n",
    "           (10,)\n",
    "        </td>\n",
    "    </tr>\n",
    "    <tr>\n",
    "        <td>\n",
    "            <b>boxes.shape</b>\n",
    "        </td>\n",
    "        <td>\n",
    "           (10, 4)\n",
    "        </td>\n",
    "    </tr>\n",
    "    <tr>\n",
    "        <td>\n",
    "            <b>classes.shape</b>\n",
    "        </td>\n",
    "        <td>\n",
    "           (10,)\n",
    "        </td>\n",
    "    </tr>\n",
    "\n",
    "</table>"
   ]
  },
  {
   "cell_type": "markdown",
   "metadata": {},
   "source": [
    "<a name='3'></a>\n",
    "## 3 - Test YOLO Pre-trained Model on Images\n",
    "\n",
    "In this section, you are going to use a pre-trained model and test it on the car detection dataset.  "
   ]
  },
  {
   "cell_type": "markdown",
   "metadata": {},
   "source": [
    "<a name='3-1'></a>\n",
    "### 3.1 - Defining Classes, Anchors and Image Shape\n",
    "\n",
    "You're trying to detect 80 classes, and are using 5 anchor boxes. The information on the 80 classes and 5 boxes is gathered in two files: \"coco_classes.txt\" and \"yolo_anchors.txt\". You'll read class names and anchors from text files. The car detection dataset has 720x1280 images, which are pre-processed into 608x608 images."
   ]
  },
  {
   "cell_type": "code",
   "execution_count": 20,
   "metadata": {},
   "outputs": [],
   "source": [
    "class_names = read_classes(\"model_data/coco_classes.txt\")\n",
    "anchors = read_anchors(\"model_data/yolo_anchors.txt\")\n",
    "model_image_size = (608, 608) # Same as yolo_model input layer size"
   ]
  },
  {
   "cell_type": "markdown",
   "metadata": {},
   "source": [
    "<a name='3-2'></a>\n",
    "### 3.2 - Loading a Pre-trained Model\n",
    "\n",
    "Training a YOLO model takes a very long time and requires a fairly large dataset of labelled bounding boxes for a large range of target classes. You are going to load an existing pre-trained Keras YOLO model stored in \"yolo.h5\". These weights come from the official YOLO website, and were converted using a function written by Allan Zelener. References are at the end of this notebook. Technically, these are the parameters from the \"YOLOv2\" model, but are simply referred to as \"YOLO\" in this notebook.\n",
    "\n",
    "Run the cell below to load the model from this file."
   ]
  },
  {
   "cell_type": "code",
   "execution_count": 21,
   "metadata": {},
   "outputs": [
    {
     "name": "stdout",
     "output_type": "stream",
     "text": [
      "WARNING:tensorflow:No training configuration found in the save file, so the model was *not* compiled. Compile it manually.\n"
     ]
    }
   ],
   "source": [
    "yolo_model = tf.keras.models.load_model('model_data/yolo.h5')"
   ]
  },
  {
   "cell_type": "markdown",
   "metadata": {},
   "source": [
    "This loads the weights of a trained YOLO model. Here's a summary of the layers your model contains:"
   ]
  },
  {
   "cell_type": "code",
   "execution_count": 22,
   "metadata": {},
   "outputs": [
    {
     "name": "stdout",
     "output_type": "stream",
     "text": [
      "Model: \"functional_1\"\n",
      "__________________________________________________________________________________________________\n",
      "Layer (type)                    Output Shape         Param #     Connected to                     \n",
      "==================================================================================================\n",
      "input_1 (InputLayer)            [(None, 608, 608, 3) 0                                            \n",
      "__________________________________________________________________________________________________\n",
      "conv2d (Conv2D)                 (None, 608, 608, 32) 864         input_1[0][0]                    \n",
      "__________________________________________________________________________________________________\n",
      "batch_normalization (BatchNorma (None, 608, 608, 32) 128         conv2d[0][0]                     \n",
      "__________________________________________________________________________________________________\n",
      "leaky_re_lu (LeakyReLU)         (None, 608, 608, 32) 0           batch_normalization[0][0]        \n",
      "__________________________________________________________________________________________________\n",
      "max_pooling2d (MaxPooling2D)    (None, 304, 304, 32) 0           leaky_re_lu[0][0]                \n",
      "__________________________________________________________________________________________________\n",
      "conv2d_1 (Conv2D)               (None, 304, 304, 64) 18432       max_pooling2d[0][0]              \n",
      "__________________________________________________________________________________________________\n",
      "batch_normalization_1 (BatchNor (None, 304, 304, 64) 256         conv2d_1[0][0]                   \n",
      "__________________________________________________________________________________________________\n",
      "leaky_re_lu_1 (LeakyReLU)       (None, 304, 304, 64) 0           batch_normalization_1[0][0]      \n",
      "__________________________________________________________________________________________________\n",
      "max_pooling2d_1 (MaxPooling2D)  (None, 152, 152, 64) 0           leaky_re_lu_1[0][0]              \n",
      "__________________________________________________________________________________________________\n",
      "conv2d_2 (Conv2D)               (None, 152, 152, 128 73728       max_pooling2d_1[0][0]            \n",
      "__________________________________________________________________________________________________\n",
      "batch_normalization_2 (BatchNor (None, 152, 152, 128 512         conv2d_2[0][0]                   \n",
      "__________________________________________________________________________________________________\n",
      "leaky_re_lu_2 (LeakyReLU)       (None, 152, 152, 128 0           batch_normalization_2[0][0]      \n",
      "__________________________________________________________________________________________________\n",
      "conv2d_3 (Conv2D)               (None, 152, 152, 64) 8192        leaky_re_lu_2[0][0]              \n",
      "__________________________________________________________________________________________________\n",
      "batch_normalization_3 (BatchNor (None, 152, 152, 64) 256         conv2d_3[0][0]                   \n",
      "__________________________________________________________________________________________________\n",
      "leaky_re_lu_3 (LeakyReLU)       (None, 152, 152, 64) 0           batch_normalization_3[0][0]      \n",
      "__________________________________________________________________________________________________\n",
      "conv2d_4 (Conv2D)               (None, 152, 152, 128 73728       leaky_re_lu_3[0][0]              \n",
      "__________________________________________________________________________________________________\n",
      "batch_normalization_4 (BatchNor (None, 152, 152, 128 512         conv2d_4[0][0]                   \n",
      "__________________________________________________________________________________________________\n",
      "leaky_re_lu_4 (LeakyReLU)       (None, 152, 152, 128 0           batch_normalization_4[0][0]      \n",
      "__________________________________________________________________________________________________\n",
      "max_pooling2d_2 (MaxPooling2D)  (None, 76, 76, 128)  0           leaky_re_lu_4[0][0]              \n",
      "__________________________________________________________________________________________________\n",
      "conv2d_5 (Conv2D)               (None, 76, 76, 256)  294912      max_pooling2d_2[0][0]            \n",
      "__________________________________________________________________________________________________\n",
      "batch_normalization_5 (BatchNor (None, 76, 76, 256)  1024        conv2d_5[0][0]                   \n",
      "__________________________________________________________________________________________________\n",
      "leaky_re_lu_5 (LeakyReLU)       (None, 76, 76, 256)  0           batch_normalization_5[0][0]      \n",
      "__________________________________________________________________________________________________\n",
      "conv2d_6 (Conv2D)               (None, 76, 76, 128)  32768       leaky_re_lu_5[0][0]              \n",
      "__________________________________________________________________________________________________\n",
      "batch_normalization_6 (BatchNor (None, 76, 76, 128)  512         conv2d_6[0][0]                   \n",
      "__________________________________________________________________________________________________\n",
      "leaky_re_lu_6 (LeakyReLU)       (None, 76, 76, 128)  0           batch_normalization_6[0][0]      \n",
      "__________________________________________________________________________________________________\n",
      "conv2d_7 (Conv2D)               (None, 76, 76, 256)  294912      leaky_re_lu_6[0][0]              \n",
      "__________________________________________________________________________________________________\n",
      "batch_normalization_7 (BatchNor (None, 76, 76, 256)  1024        conv2d_7[0][0]                   \n",
      "__________________________________________________________________________________________________\n",
      "leaky_re_lu_7 (LeakyReLU)       (None, 76, 76, 256)  0           batch_normalization_7[0][0]      \n",
      "__________________________________________________________________________________________________\n",
      "max_pooling2d_3 (MaxPooling2D)  (None, 38, 38, 256)  0           leaky_re_lu_7[0][0]              \n",
      "__________________________________________________________________________________________________\n",
      "conv2d_8 (Conv2D)               (None, 38, 38, 512)  1179648     max_pooling2d_3[0][0]            \n",
      "__________________________________________________________________________________________________\n",
      "batch_normalization_8 (BatchNor (None, 38, 38, 512)  2048        conv2d_8[0][0]                   \n",
      "__________________________________________________________________________________________________\n",
      "leaky_re_lu_8 (LeakyReLU)       (None, 38, 38, 512)  0           batch_normalization_8[0][0]      \n",
      "__________________________________________________________________________________________________\n",
      "conv2d_9 (Conv2D)               (None, 38, 38, 256)  131072      leaky_re_lu_8[0][0]              \n",
      "__________________________________________________________________________________________________\n",
      "batch_normalization_9 (BatchNor (None, 38, 38, 256)  1024        conv2d_9[0][0]                   \n",
      "__________________________________________________________________________________________________\n",
      "leaky_re_lu_9 (LeakyReLU)       (None, 38, 38, 256)  0           batch_normalization_9[0][0]      \n",
      "__________________________________________________________________________________________________\n",
      "conv2d_10 (Conv2D)              (None, 38, 38, 512)  1179648     leaky_re_lu_9[0][0]              \n",
      "__________________________________________________________________________________________________\n",
      "batch_normalization_10 (BatchNo (None, 38, 38, 512)  2048        conv2d_10[0][0]                  \n",
      "__________________________________________________________________________________________________\n",
      "leaky_re_lu_10 (LeakyReLU)      (None, 38, 38, 512)  0           batch_normalization_10[0][0]     \n",
      "__________________________________________________________________________________________________\n",
      "conv2d_11 (Conv2D)              (None, 38, 38, 256)  131072      leaky_re_lu_10[0][0]             \n",
      "__________________________________________________________________________________________________\n",
      "batch_normalization_11 (BatchNo (None, 38, 38, 256)  1024        conv2d_11[0][0]                  \n",
      "__________________________________________________________________________________________________\n",
      "leaky_re_lu_11 (LeakyReLU)      (None, 38, 38, 256)  0           batch_normalization_11[0][0]     \n",
      "__________________________________________________________________________________________________\n",
      "conv2d_12 (Conv2D)              (None, 38, 38, 512)  1179648     leaky_re_lu_11[0][0]             \n",
      "__________________________________________________________________________________________________\n",
      "batch_normalization_12 (BatchNo (None, 38, 38, 512)  2048        conv2d_12[0][0]                  \n",
      "__________________________________________________________________________________________________\n",
      "leaky_re_lu_12 (LeakyReLU)      (None, 38, 38, 512)  0           batch_normalization_12[0][0]     \n",
      "__________________________________________________________________________________________________\n",
      "max_pooling2d_4 (MaxPooling2D)  (None, 19, 19, 512)  0           leaky_re_lu_12[0][0]             \n",
      "__________________________________________________________________________________________________\n",
      "conv2d_13 (Conv2D)              (None, 19, 19, 1024) 4718592     max_pooling2d_4[0][0]            \n",
      "__________________________________________________________________________________________________\n",
      "batch_normalization_13 (BatchNo (None, 19, 19, 1024) 4096        conv2d_13[0][0]                  \n",
      "__________________________________________________________________________________________________\n",
      "leaky_re_lu_13 (LeakyReLU)      (None, 19, 19, 1024) 0           batch_normalization_13[0][0]     \n",
      "__________________________________________________________________________________________________\n",
      "conv2d_14 (Conv2D)              (None, 19, 19, 512)  524288      leaky_re_lu_13[0][0]             \n",
      "__________________________________________________________________________________________________\n",
      "batch_normalization_14 (BatchNo (None, 19, 19, 512)  2048        conv2d_14[0][0]                  \n",
      "__________________________________________________________________________________________________\n",
      "leaky_re_lu_14 (LeakyReLU)      (None, 19, 19, 512)  0           batch_normalization_14[0][0]     \n",
      "__________________________________________________________________________________________________\n",
      "conv2d_15 (Conv2D)              (None, 19, 19, 1024) 4718592     leaky_re_lu_14[0][0]             \n",
      "__________________________________________________________________________________________________\n",
      "batch_normalization_15 (BatchNo (None, 19, 19, 1024) 4096        conv2d_15[0][0]                  \n",
      "__________________________________________________________________________________________________\n",
      "leaky_re_lu_15 (LeakyReLU)      (None, 19, 19, 1024) 0           batch_normalization_15[0][0]     \n",
      "__________________________________________________________________________________________________\n",
      "conv2d_16 (Conv2D)              (None, 19, 19, 512)  524288      leaky_re_lu_15[0][0]             \n",
      "__________________________________________________________________________________________________\n",
      "batch_normalization_16 (BatchNo (None, 19, 19, 512)  2048        conv2d_16[0][0]                  \n",
      "__________________________________________________________________________________________________\n",
      "leaky_re_lu_16 (LeakyReLU)      (None, 19, 19, 512)  0           batch_normalization_16[0][0]     \n",
      "__________________________________________________________________________________________________\n",
      "conv2d_17 (Conv2D)              (None, 19, 19, 1024) 4718592     leaky_re_lu_16[0][0]             \n",
      "__________________________________________________________________________________________________\n",
      "batch_normalization_17 (BatchNo (None, 19, 19, 1024) 4096        conv2d_17[0][0]                  \n",
      "__________________________________________________________________________________________________\n",
      "leaky_re_lu_17 (LeakyReLU)      (None, 19, 19, 1024) 0           batch_normalization_17[0][0]     \n",
      "__________________________________________________________________________________________________\n",
      "conv2d_18 (Conv2D)              (None, 19, 19, 1024) 9437184     leaky_re_lu_17[0][0]             \n",
      "__________________________________________________________________________________________________\n",
      "batch_normalization_18 (BatchNo (None, 19, 19, 1024) 4096        conv2d_18[0][0]                  \n",
      "__________________________________________________________________________________________________\n",
      "conv2d_20 (Conv2D)              (None, 38, 38, 64)   32768       leaky_re_lu_12[0][0]             \n",
      "__________________________________________________________________________________________________\n",
      "leaky_re_lu_18 (LeakyReLU)      (None, 19, 19, 1024) 0           batch_normalization_18[0][0]     \n",
      "__________________________________________________________________________________________________\n",
      "batch_normalization_20 (BatchNo (None, 38, 38, 64)   256         conv2d_20[0][0]                  \n",
      "__________________________________________________________________________________________________\n",
      "conv2d_19 (Conv2D)              (None, 19, 19, 1024) 9437184     leaky_re_lu_18[0][0]             \n",
      "__________________________________________________________________________________________________\n",
      "leaky_re_lu_20 (LeakyReLU)      (None, 38, 38, 64)   0           batch_normalization_20[0][0]     \n",
      "__________________________________________________________________________________________________\n",
      "batch_normalization_19 (BatchNo (None, 19, 19, 1024) 4096        conv2d_19[0][0]                  \n",
      "__________________________________________________________________________________________________\n",
      "space_to_depth_x2 (Lambda)      (None, 19, 19, 256)  0           leaky_re_lu_20[0][0]             \n",
      "__________________________________________________________________________________________________\n",
      "leaky_re_lu_19 (LeakyReLU)      (None, 19, 19, 1024) 0           batch_normalization_19[0][0]     \n",
      "__________________________________________________________________________________________________\n",
      "concatenate (Concatenate)       (None, 19, 19, 1280) 0           space_to_depth_x2[0][0]          \n",
      "                                                                 leaky_re_lu_19[0][0]             \n",
      "__________________________________________________________________________________________________\n",
      "conv2d_21 (Conv2D)              (None, 19, 19, 1024) 11796480    concatenate[0][0]                \n",
      "__________________________________________________________________________________________________\n",
      "batch_normalization_21 (BatchNo (None, 19, 19, 1024) 4096        conv2d_21[0][0]                  \n",
      "__________________________________________________________________________________________________\n",
      "leaky_re_lu_21 (LeakyReLU)      (None, 19, 19, 1024) 0           batch_normalization_21[0][0]     \n",
      "__________________________________________________________________________________________________\n",
      "conv2d_22 (Conv2D)              (None, 19, 19, 425)  435625      leaky_re_lu_21[0][0]             \n",
      "==================================================================================================\n",
      "Total params: 50,983,561\n",
      "Trainable params: 50,962,889\n",
      "Non-trainable params: 20,672\n",
      "__________________________________________________________________________________________________\n"
     ]
    }
   ],
   "source": [
    "yolo_model.summary()"
   ]
  },
  {
   "cell_type": "markdown",
   "metadata": {},
   "source": [
    "**Note**: On some computers, you may see a warning message from Keras. Don't worry about it if you do -- this is fine!\n",
    "\n",
    "**Reminder**: This model converts a preprocessed batch of input images (shape: (m, 608, 608, 3)) into a tensor of shape (m, 19, 19, 5, 85) as explained in Figure (2)."
   ]
  },
  {
   "cell_type": "markdown",
   "metadata": {},
   "source": [
    "<a name='3-3'></a>\n",
    "### 3.3 - Convert Output of the Model to Usable Bounding Box Tensors\n",
    "\n",
    "The output of `yolo_model` is a (m, 19, 19, 5, 85) tensor that needs to pass through non-trivial processing and conversion. You will need to call `yolo_head` to format the encoding of the model you got from `yolo_model` into something decipherable:\n",
    "\n",
    "`yolo_model_outputs = yolo_model(image_data)`\n",
    "\n",
    "`yolo_outputs = yolo_head(yolo_model_outputs, anchors, len(class_names))`\n",
    "\n",
    "The variable `yolo_outputs` will be defined as a set of 4 tensors that you can then use as input by your yolo_eval function. If you are curious about how yolo_head is implemented, you can find the function definition in the file `keras_yolo.py`. The file is also located in your workspace in this path: `yad2k/models/keras_yolo.py`."
   ]
  },
  {
   "cell_type": "markdown",
   "metadata": {},
   "source": [
    "<a name='3-4'></a>\n",
    "### 3.4 - Filtering Boxes\n",
    "\n",
    "`yolo_outputs` gave you all the predicted boxes of `yolo_model` in the correct format. To perform filtering and select only the best boxes, you will call `yolo_eval`, which you had previously implemented, to do so:\n",
    "\n",
    "    out_scores, out_boxes, out_classes = yolo_eval(yolo_outputs, [image.size[1],  image.size[0]], 10, 0.3, 0.5)"
   ]
  },
  {
   "cell_type": "markdown",
   "metadata": {},
   "source": [
    "<a name='3-5'></a>\n",
    "### 3.5 - Run the YOLO on an Image\n",
    "\n",
    "Let the fun begin! You will create a graph that can be summarized as follows:\n",
    "\n",
    "`yolo_model.input` is given to `yolo_model`. The model is used to compute the output `yolo_model.output`\n",
    "`yolo_model.output` is processed by `yolo_head`. It gives you `yolo_outputs`\n",
    "`yolo_outputs` goes through a filtering function, `yolo_eval`. It outputs your predictions: `out_scores`, `out_boxes`, `out_classes`."
   ]
  },
  {
   "cell_type": "markdown",
   "metadata": {},
   "source": [
    "Now, we have implemented for you the `predict(image_file)` function, which runs the graph to test YOLO on an image to compute `out_scores`, `out_boxes`, `out_classes`.\n",
    "\n",
    "The code below also uses the following function:\n",
    "\n",
    "    image, image_data = preprocess_image(\"images/\" + image_file, model_image_size = (608, 608))\n",
    "which opens the image file and scales, reshapes and normalizes the image. It returns the outputs:\n",
    "\n",
    "    image: a python (PIL) representation of your image used for drawing boxes. You won't need to use it.\n",
    "    image_data: a numpy-array representing the image. This will be the input to the CNN."
   ]
  },
  {
   "cell_type": "code",
   "execution_count": 23,
   "metadata": {},
   "outputs": [],
   "source": [
    "def predict(image_file):\n",
    "    \"\"\"\n",
    "    Runs the graph to predict boxes for \"image_file\". Prints and plots the predictions.\n",
    "    \n",
    "    Arguments:\n",
    "    image_file -- name of an image stored in the \"images\" folder.\n",
    "    \n",
    "    Returns:\n",
    "    out_scores -- tensor of shape (None, ), scores of the predicted boxes\n",
    "    out_boxes -- tensor of shape (None, 4), coordinates of the predicted boxes\n",
    "    out_classes -- tensor of shape (None, ), class index of the predicted boxes\n",
    "    \n",
    "    Note: \"None\" actually represents the number of predicted boxes, it varies between 0 and max_boxes. \n",
    "    \"\"\"\n",
    "\n",
    "    # Preprocess your image\n",
    "    image, image_data = preprocess_image(\"images/\" + image_file, model_image_size = (608, 608))\n",
    "    \n",
    "    yolo_model_outputs = yolo_model(image_data) # It's output is of shape (m, 19, 19, 5, 85) \n",
    "    # But yolo_eval takes input a tensor contains 4 tensors: box_xy,box_wh, box_confidence & box_class_probs\n",
    "    yolo_outputs = yolo_head(yolo_model_outputs, anchors, len(class_names))\n",
    "    \n",
    "    out_scores, out_boxes, out_classes = yolo_eval(yolo_outputs, [image.size[1],  image.size[0]], 10, 0.3, 0.5)\n",
    "\n",
    "    # Print predictions info\n",
    "    print('Found {} boxes for {}'.format(len(out_boxes), \"images/\" + image_file))\n",
    "    # Generate colors for drawing bounding boxes.\n",
    "    colors = get_colors_for_classes(len(class_names))\n",
    "    # Draw bounding boxes on the image file\n",
    "    #draw_boxes2(image, out_scores, out_boxes, out_classes, class_names, colors, image_shape)\n",
    "    draw_boxes(image, out_boxes, out_classes, class_names, out_scores)\n",
    "    # Save the predicted bounding box on the image\n",
    "    image.save(os.path.join(\"out\", str(image_file).split('.')[0]+\"_annotated.\" +str(image_file).split('.')[1] ), quality=100)\n",
    "    # Display the results in the notebook\n",
    "    output_image = Image.open(os.path.join(\"out\", str(image_file).split('.')[0]+\"_annotated.\" +str(image_file).split('.')[1] ))\n",
    "    imshow(output_image)\n",
    "\n",
    "    return out_scores, out_boxes, out_classes"
   ]
  },
  {
   "cell_type": "markdown",
   "metadata": {},
   "source": [
    "Run the following cell on the \"test.jpg\" image to verify that your function is correct."
   ]
  },
  {
   "cell_type": "code",
   "execution_count": 24,
   "metadata": {},
   "outputs": [
    {
     "name": "stdout",
     "output_type": "stream",
     "text": [
      "tf.Tensor(\n",
      "[[ 0.27063438  0.53171587  0.29823217  0.54095113]\n",
      " [ 0.3497933   0.4485591   0.43357     0.52320975]\n",
      " [ 0.37940028  0.7539759   0.4060994   0.7990803 ]\n",
      " [ 0.37017992  0.00372984  0.5653414   0.1721805 ]\n",
      " [ 0.4113097   0.26237938  0.4652774   0.29472014]\n",
      " [ 0.40742993  0.24624632  0.4809488   0.30027694]\n",
      " [ 0.4089099   0.32057354  0.4505169   0.35679778]\n",
      " [ 0.39314255  0.5395015   0.48379228  0.60255367]\n",
      " [ 0.3877526   0.5511245   0.48691094  0.61387867]\n",
      " [ 0.39566675  0.60128176  0.5244814   0.7272979 ]\n",
      " [ 0.3802619   0.5900828   0.5527931   0.736672  ]\n",
      " [ 0.39614213  0.7227122   0.51938665  0.8165267 ]\n",
      " [ 0.3602313  -0.00018756  0.6122123   0.16288891]\n",
      " [ 0.42040932  0.12398081  0.6111735   0.27055085]\n",
      " [ 0.40772223  0.58916205  0.5564971   0.73591155]\n",
      " [ 0.3914456   0.59501004  0.571689    0.73626447]\n",
      " [ 0.43067542  0.11883949  0.62856525  0.26845565]\n",
      " [ 0.38228363  0.26274     0.8634148   0.6043402 ]\n",
      " [ 0.41556448  0.28630203  0.8998963   0.5820638 ]\n",
      " [ 0.4684998   0.7694722   0.9561523   0.9865007 ]\n",
      " [ 0.44963077  0.7398963   0.9784293   1.0064052 ]], shape=(21, 4), dtype=float32)\n",
      "Found 10 boxes for images/test.jpg\n",
      "car 0.89 (366, 299) (745, 648)\n",
      "car 0.80 (762, 282) (942, 412)\n",
      "car 0.75 (159, 303) (346, 440)\n",
      "car 0.70 (947, 324) (1280, 704)\n",
      "car 0.68 (705, 279) (786, 351)\n",
      "bus 0.67 (5, 267) (220, 407)\n",
      "car 0.60 (925, 285) (1045, 374)\n",
      "car 0.45 (336, 296) (377, 335)\n",
      "car 0.38 (965, 273) (1023, 292)\n",
      "traffic light 0.35 (681, 195) (692, 215)\n"
     ]
    },
    {
     "data": {
      "image/png": "[encoded data removed]",
      "text/plain": [
       "<Figure size 432x288 with 1 Axes>"
      ]
     },
     "metadata": {
      "needs_background": "light"
     },
     "output_type": "display_data"
    }
   ],
   "source": [
    "out_scores, out_boxes, out_classes = predict(\"test.jpg\")"
   ]
  },
  {
   "cell_type": "markdown",
   "metadata": {},
   "source": [
    "**Expected Output**:\n",
    "\n",
    "<table>\n",
    "    <tr>\n",
    "        <td>\n",
    "            <b>Found 10 boxes for images/test.jpg</b>\n",
    "        </td>\n",
    "    </tr>\n",
    "    <tr>\n",
    "        <td>\n",
    "            <b>car</b>\n",
    "        </td>\n",
    "        <td>\n",
    "           0.89 (367, 300) (745, 648)\n",
    "        </td>\n",
    "    </tr>\n",
    "    <tr>\n",
    "        <td>\n",
    "            <b>car</b>\n",
    "        </td>\n",
    "        <td>\n",
    "           0.80 (761, 282) (942, 412)\n",
    "        </td>\n",
    "    </tr>\n",
    "    <tr>\n",
    "        <td>\n",
    "            <b>car</b>\n",
    "        </td>\n",
    "        <td>\n",
    "           0.74 (159, 303) (346, 440)\n",
    "        </td>\n",
    "    </tr>\n",
    "    <tr>\n",
    "        <td>\n",
    "            <b>car</b>\n",
    "        </td>\n",
    "        <td>\n",
    "          0.70 (947, 324) (1280, 705)\n",
    "        </td>\n",
    "    </tr>\n",
    "    <tr>\n",
    "        <td>\n",
    "            <b>bus</b>\n",
    "        </td>\n",
    "        <td>\n",
    "           0.67 (5, 266) (220, 407)\n",
    "        </td>\n",
    "    </tr>\n",
    "    <tr>\n",
    "        <td>\n",
    "            <b>car</b>\n",
    "        </td>\n",
    "        <td>\n",
    "           0.66 (706, 279) (786, 350)\n",
    "        </td>\n",
    "    </tr>\n",
    "    <tr>\n",
    "        <td>\n",
    "            <b>car</b>\n",
    "        </td>\n",
    "        <td>\n",
    "           0.60 (925, 285) (1045, 374)\n",
    "        </td>\n",
    "    </tr>\n",
    "        <tr>\n",
    "        <td>\n",
    "            <b>car</b>\n",
    "        </td>\n",
    "        <td>\n",
    "           0.44 (336, 296) (378, 335)\n",
    "        </td>\n",
    "    </tr>\n",
    "    <tr>\n",
    "        <td>\n",
    "            <b>car</b>\n",
    "        </td>\n",
    "        <td>\n",
    "           0.37 (965, 273) (1022, 292)\n",
    "        </td>\n",
    "    </tr>\n",
    "    <tr>\n",
    "        <td>\n",
    "            <b>traffic light</b>\n",
    "        </td>\n",
    "        <td>\n",
    "           00.36 (681, 195) (692, 214)\n",
    "        </td>\n",
    "    </tr>\n",
    "</table>"
   ]
  },
  {
   "cell_type": "markdown",
   "metadata": {},
   "source": [
    "# __Debugging Predict__"
   ]
  },
  {
   "cell_type": "code",
   "execution_count": 25,
   "metadata": {},
   "outputs": [],
   "source": [
    "# Preprocess your image\n",
    "image, image_data = preprocess_image(\"images/\" + \"test.jpg\", model_image_size = (608, 608))"
   ]
  },
  {
   "cell_type": "code",
   "execution_count": 26,
   "metadata": {},
   "outputs": [
    {
     "data": {
      "text/plain": [
       "(1, 608, 608, 3)"
      ]
     },
     "execution_count": 26,
     "metadata": {},
     "output_type": "execute_result"
    }
   ],
   "source": [
    "image_data.shape"
   ]
  },
  {
   "cell_type": "code",
   "execution_count": 27,
   "metadata": {},
   "outputs": [
    {
     "data": {
      "image/png": "[encoded data removed]",
      "text/plain": [
       "<Figure size 864x864 with 2 Axes>"
      ]
     },
     "metadata": {
      "needs_background": "light"
     },
     "output_type": "display_data"
    }
   ],
   "source": [
    "fig, ax = plt.subplots(1,2 , figsize = (12,12))\n",
    "ax[1].imshow((image_data[0]));\n",
    "ax[1].set_title(\"Rescaled Image\")\n",
    "ax[0].imshow(np.asarray(image));\n",
    "ax[0].set_title(\"Original Image\");"
   ]
  },
  {
   "cell_type": "markdown",
   "metadata": {},
   "source": [
    "## __Outputs__"
   ]
  },
  {
   "cell_type": "code",
   "execution_count": 28,
   "metadata": {},
   "outputs": [],
   "source": [
    "yolo_model_outputs = yolo_model(image_data)"
   ]
  },
  {
   "cell_type": "code",
   "execution_count": 29,
   "metadata": {},
   "outputs": [
    {
     "data": {
      "text/plain": [
       "TensorShape([1, 19, 19, 425])"
      ]
     },
     "execution_count": 29,
     "metadata": {},
     "output_type": "execute_result"
    }
   ],
   "source": [
    "yolo_model_outputs.shape"
   ]
  },
  {
   "cell_type": "code",
   "execution_count": 30,
   "metadata": {},
   "outputs": [],
   "source": [
    "yolo_outputs = yolo_head(yolo_model_outputs, anchors, len(class_names))"
   ]
  },
  {
   "cell_type": "code",
   "execution_count": 31,
   "metadata": {},
   "outputs": [
    {
     "data": {
      "text/plain": [
       "4"
      ]
     },
     "execution_count": 31,
     "metadata": {},
     "output_type": "execute_result"
    }
   ],
   "source": [
    "len(yolo_outputs)"
   ]
  },
  {
   "cell_type": "markdown",
   "metadata": {},
   "source": [
    "## __YOLO Head__"
   ]
  },
  {
   "cell_type": "code",
   "execution_count": 32,
   "metadata": {},
   "outputs": [],
   "source": [
    "from tensorflow.keras import backend as K"
   ]
  },
  {
   "cell_type": "code",
   "execution_count": 33,
   "metadata": {},
   "outputs": [],
   "source": [
    "def yolo_head(feats, anchors, num_classes):\n",
    "    \"\"\"Convert final layer features to bounding box parameters.\n",
    "\n",
    "    Parameters\n",
    "    ----------\n",
    "    feats : tensor\n",
    "        Final convolutional layer features.\n",
    "    anchors : array-like\n",
    "        Anchor box widths and heights.\n",
    "    num_classes : int\n",
    "        Number of target classes.\n",
    "\n",
    "    Returns\n",
    "    -------\n",
    "    box_xy : tensor\n",
    "        x, y box predictions adjusted by spatial location in conv layer.\n",
    "    box_wh : tensor\n",
    "        w, h box predictions adjusted by anchors and conv spatial resolution.\n",
    "    box_conf : tensor\n",
    "        Probability estimate for whether each box contains any object.\n",
    "    box_class_pred : tensor\n",
    "        Probability distribution estimate for each box over class labels.\n",
    "    \"\"\"\n",
    "    num_anchors = len(anchors)\n",
    "    # Reshape to batch, height, width, num_anchors, box_params.\n",
    "    anchors_tensor = K.reshape(K.variable(anchors), [1, 1, 1, num_anchors, 2])\n",
    "\n",
    "\n",
    "    # Dynamic implementation of conv dims for fully convolutional model.\n",
    "    conv_dims = K.shape(feats)[1:3]  # assuming channels last\n",
    "    # In YOLO the height index is the inner most iteration.\n",
    "    conv_height_index = K.arange(0, stop=conv_dims[0])\n",
    "    conv_width_index = K.arange(0, stop=conv_dims[1])\n",
    "    conv_height_index = K.tile(conv_height_index, [conv_dims[1]])\n",
    "\n",
    "    conv_width_index = K.tile(K.expand_dims(conv_width_index, 0), [conv_dims[0], 1])\n",
    "    conv_width_index = K.flatten(K.transpose(conv_width_index))\n",
    "    conv_index = K.transpose(K.stack([conv_height_index, conv_width_index]))\n",
    "    conv_index = K.reshape(conv_index, [1, conv_dims[0], conv_dims[1], 1, 2])\n",
    "    conv_index = K.cast(conv_index, K.dtype(feats))\n",
    "\n",
    "    feats = K.reshape(\n",
    "        feats, [-1, conv_dims[0], conv_dims[1], num_anchors, num_classes + 5])\n",
    "    conv_dims = K.cast(K.reshape(conv_dims, [1, 1, 1, 1, 2]), K.dtype(feats))\n",
    "\n",
    "\n",
    "    box_xy = K.sigmoid(feats[..., :2])\n",
    "    box_wh = K.exp(feats[..., 2:4])\n",
    "    box_confidence = K.sigmoid(feats[..., 4:5])\n",
    "    box_class_probs = K.softmax(feats[..., 5:])\n",
    "\n",
    "    # Adjust preditions to each spatial grid point and anchor size.\n",
    "    # Note: YOLO iterates over height index before width index.\n",
    "    box_xy = (box_xy + conv_index) / conv_dims\n",
    "    box_wh = box_wh * anchors_tensor / conv_dims\n",
    "\n",
    "    return box_xy, box_wh, box_confidence, box_class_probs\n"
   ]
  },
  {
   "cell_type": "code",
   "execution_count": 34,
   "metadata": {},
   "outputs": [
    {
     "data": {
      "text/plain": [
       "array([[0.57273 , 0.677385],\n",
       "       [1.87446 , 2.06253 ],\n",
       "       [3.33843 , 5.47434 ],\n",
       "       [7.88282 , 3.52778 ],\n",
       "       [9.77052 , 9.16828 ]])"
      ]
     },
     "execution_count": 34,
     "metadata": {},
     "output_type": "execute_result"
    }
   ],
   "source": [
    "anchors"
   ]
  },
  {
   "cell_type": "code",
   "execution_count": 35,
   "metadata": {},
   "outputs": [],
   "source": [
    "num_anchors = len(anchors)\n",
    "# Reshape to batch, height, width, num_anchors, box_params.\n",
    "anchors_tensor = K.reshape(K.variable(anchors), [1, 1, 1, num_anchors, 2])"
   ]
  },
  {
   "cell_type": "code",
   "execution_count": 36,
   "metadata": {},
   "outputs": [
    {
     "data": {
      "text/plain": [
       "<tf.Tensor: shape=(1, 1, 1, 5, 2), dtype=float32, numpy=\n",
       "array([[[[[0.57273 , 0.677385],\n",
       "          [1.87446 , 2.06253 ],\n",
       "          [3.33843 , 5.47434 ],\n",
       "          [7.88282 , 3.52778 ],\n",
       "          [9.77052 , 9.16828 ]]]]], dtype=float32)>"
      ]
     },
     "execution_count": 36,
     "metadata": {},
     "output_type": "execute_result"
    }
   ],
   "source": [
    "anchors_tensor"
   ]
  },
  {
   "cell_type": "code",
   "execution_count": 37,
   "metadata": {},
   "outputs": [
    {
     "data": {
      "text/plain": [
       "<tf.Tensor: shape=(2,), dtype=int32, numpy=array([19, 19])>"
      ]
     },
     "execution_count": 37,
     "metadata": {},
     "output_type": "execute_result"
    }
   ],
   "source": [
    "conv_dims = K.shape(yolo_model_outputs)[1:3]  # assuming channels last\n",
    "conv_dims"
   ]
  },
  {
   "cell_type": "code",
   "execution_count": 38,
   "metadata": {},
   "outputs": [
    {
     "name": "stdout",
     "output_type": "stream",
     "text": [
      "Conv Height Index : [ 0  1  2  3  4  5  6  7  8  9 10 11 12 13 14 15 16 17 18] , Conv Width Index : [ 0  1  2  3  4  5  6  7  8  9 10 11 12 13 14 15 16 17 18]\n"
     ]
    }
   ],
   "source": [
    "conv_height_index = K.arange(0, stop=conv_dims[0])\n",
    "conv_width_index = K.arange(0, stop=conv_dims[1])\n",
    "print(f\"Conv Height Index : {conv_height_index} , Conv Width Index : {conv_width_index}\")"
   ]
  },
  {
   "cell_type": "markdown",
   "metadata": {},
   "source": [
    "Repetimos el Height Index 19 veces"
   ]
  },
  {
   "cell_type": "code",
   "execution_count": 39,
   "metadata": {},
   "outputs": [
    {
     "data": {
      "text/plain": [
       "<tf.Tensor: shape=(361,), dtype=int32, numpy=\n",
       "array([ 0,  1,  2,  3,  4,  5,  6,  7,  8,  9, 10, 11, 12, 13, 14, 15, 16,\n",
       "       17, 18,  0,  1,  2,  3,  4,  5,  6,  7,  8,  9, 10, 11, 12, 13, 14,\n",
       "       15, 16, 17, 18,  0,  1,  2,  3,  4,  5,  6,  7,  8,  9, 10, 11, 12,\n",
       "       13, 14, 15, 16, 17, 18,  0,  1,  2,  3,  4,  5,  6,  7,  8,  9, 10,\n",
       "       11, 12, 13, 14, 15, 16, 17, 18,  0,  1,  2,  3,  4,  5,  6,  7,  8,\n",
       "        9, 10, 11, 12, 13, 14, 15, 16, 17, 18,  0,  1,  2,  3,  4,  5,  6,\n",
       "        7,  8,  9, 10, 11, 12, 13, 14, 15, 16, 17, 18,  0,  1,  2,  3,  4,\n",
       "        5,  6,  7,  8,  9, 10, 11, 12, 13, 14, 15, 16, 17, 18,  0,  1,  2,\n",
       "        3,  4,  5,  6,  7,  8,  9, 10, 11, 12, 13, 14, 15, 16, 17, 18,  0,\n",
       "        1,  2,  3,  4,  5,  6,  7,  8,  9, 10, 11, 12, 13, 14, 15, 16, 17,\n",
       "       18,  0,  1,  2,  3,  4,  5,  6,  7,  8,  9, 10, 11, 12, 13, 14, 15,\n",
       "       16, 17, 18,  0,  1,  2,  3,  4,  5,  6,  7,  8,  9, 10, 11, 12, 13,\n",
       "       14, 15, 16, 17, 18,  0,  1,  2,  3,  4,  5,  6,  7,  8,  9, 10, 11,\n",
       "       12, 13, 14, 15, 16, 17, 18,  0,  1,  2,  3,  4,  5,  6,  7,  8,  9,\n",
       "       10, 11, 12, 13, 14, 15, 16, 17, 18,  0,  1,  2,  3,  4,  5,  6,  7,\n",
       "        8,  9, 10, 11, 12, 13, 14, 15, 16, 17, 18,  0,  1,  2,  3,  4,  5,\n",
       "        6,  7,  8,  9, 10, 11, 12, 13, 14, 15, 16, 17, 18,  0,  1,  2,  3,\n",
       "        4,  5,  6,  7,  8,  9, 10, 11, 12, 13, 14, 15, 16, 17, 18,  0,  1,\n",
       "        2,  3,  4,  5,  6,  7,  8,  9, 10, 11, 12, 13, 14, 15, 16, 17, 18,\n",
       "        0,  1,  2,  3,  4,  5,  6,  7,  8,  9, 10, 11, 12, 13, 14, 15, 16,\n",
       "       17, 18,  0,  1,  2,  3,  4,  5,  6,  7,  8,  9, 10, 11, 12, 13, 14,\n",
       "       15, 16, 17, 18])>"
      ]
     },
     "execution_count": 39,
     "metadata": {},
     "output_type": "execute_result"
    }
   ],
   "source": [
    "conv_height_index = K.tile(conv_height_index, [conv_dims[1]])\n",
    "conv_height_index"
   ]
  },
  {
   "cell_type": "code",
   "execution_count": 40,
   "metadata": {},
   "outputs": [
    {
     "data": {
      "text/plain": [
       "<tf.Tensor: shape=(19, 19), dtype=int32, numpy=\n",
       "array([[ 0,  1,  2,  3,  4,  5,  6,  7,  8,  9, 10, 11, 12, 13, 14, 15,\n",
       "        16, 17, 18],\n",
       "       [ 0,  1,  2,  3,  4,  5,  6,  7,  8,  9, 10, 11, 12, 13, 14, 15,\n",
       "        16, 17, 18],\n",
       "       [ 0,  1,  2,  3,  4,  5,  6,  7,  8,  9, 10, 11, 12, 13, 14, 15,\n",
       "        16, 17, 18],\n",
       "       [ 0,  1,  2,  3,  4,  5,  6,  7,  8,  9, 10, 11, 12, 13, 14, 15,\n",
       "        16, 17, 18],\n",
       "       [ 0,  1,  2,  3,  4,  5,  6,  7,  8,  9, 10, 11, 12, 13, 14, 15,\n",
       "        16, 17, 18],\n",
       "       [ 0,  1,  2,  3,  4,  5,  6,  7,  8,  9, 10, 11, 12, 13, 14, 15,\n",
       "        16, 17, 18],\n",
       "       [ 0,  1,  2,  3,  4,  5,  6,  7,  8,  9, 10, 11, 12, 13, 14, 15,\n",
       "        16, 17, 18],\n",
       "       [ 0,  1,  2,  3,  4,  5,  6,  7,  8,  9, 10, 11, 12, 13, 14, 15,\n",
       "        16, 17, 18],\n",
       "       [ 0,  1,  2,  3,  4,  5,  6,  7,  8,  9, 10, 11, 12, 13, 14, 15,\n",
       "        16, 17, 18],\n",
       "       [ 0,  1,  2,  3,  4,  5,  6,  7,  8,  9, 10, 11, 12, 13, 14, 15,\n",
       "        16, 17, 18],\n",
       "       [ 0,  1,  2,  3,  4,  5,  6,  7,  8,  9, 10, 11, 12, 13, 14, 15,\n",
       "        16, 17, 18],\n",
       "       [ 0,  1,  2,  3,  4,  5,  6,  7,  8,  9, 10, 11, 12, 13, 14, 15,\n",
       "        16, 17, 18],\n",
       "       [ 0,  1,  2,  3,  4,  5,  6,  7,  8,  9, 10, 11, 12, 13, 14, 15,\n",
       "        16, 17, 18],\n",
       "       [ 0,  1,  2,  3,  4,  5,  6,  7,  8,  9, 10, 11, 12, 13, 14, 15,\n",
       "        16, 17, 18],\n",
       "       [ 0,  1,  2,  3,  4,  5,  6,  7,  8,  9, 10, 11, 12, 13, 14, 15,\n",
       "        16, 17, 18],\n",
       "       [ 0,  1,  2,  3,  4,  5,  6,  7,  8,  9, 10, 11, 12, 13, 14, 15,\n",
       "        16, 17, 18],\n",
       "       [ 0,  1,  2,  3,  4,  5,  6,  7,  8,  9, 10, 11, 12, 13, 14, 15,\n",
       "        16, 17, 18],\n",
       "       [ 0,  1,  2,  3,  4,  5,  6,  7,  8,  9, 10, 11, 12, 13, 14, 15,\n",
       "        16, 17, 18],\n",
       "       [ 0,  1,  2,  3,  4,  5,  6,  7,  8,  9, 10, 11, 12, 13, 14, 15,\n",
       "        16, 17, 18]])>"
      ]
     },
     "execution_count": 40,
     "metadata": {},
     "output_type": "execute_result"
    }
   ],
   "source": [
    "conv_width_index = K.tile(K.expand_dims(conv_width_index, 0), [conv_dims[0], 1])\n",
    "conv_width_index"
   ]
  },
  {
   "cell_type": "code",
   "execution_count": 41,
   "metadata": {},
   "outputs": [
    {
     "data": {
      "text/plain": [
       "<tf.Tensor: shape=(361,), dtype=int32, numpy=\n",
       "array([ 0,  0,  0,  0,  0,  0,  0,  0,  0,  0,  0,  0,  0,  0,  0,  0,  0,\n",
       "        0,  0,  1,  1,  1,  1,  1,  1,  1,  1,  1,  1,  1,  1,  1,  1,  1,\n",
       "        1,  1,  1,  1,  2,  2,  2,  2,  2,  2,  2,  2,  2,  2,  2,  2,  2,\n",
       "        2,  2,  2,  2,  2,  2,  3,  3,  3,  3,  3,  3,  3,  3,  3,  3,  3,\n",
       "        3,  3,  3,  3,  3,  3,  3,  3,  4,  4,  4,  4,  4,  4,  4,  4,  4,\n",
       "        4,  4,  4,  4,  4,  4,  4,  4,  4,  4,  5,  5,  5,  5,  5,  5,  5,\n",
       "        5,  5,  5,  5,  5,  5,  5,  5,  5,  5,  5,  5,  6,  6,  6,  6,  6,\n",
       "        6,  6,  6,  6,  6,  6,  6,  6,  6,  6,  6,  6,  6,  6,  7,  7,  7,\n",
       "        7,  7,  7,  7,  7,  7,  7,  7,  7,  7,  7,  7,  7,  7,  7,  7,  8,\n",
       "        8,  8,  8,  8,  8,  8,  8,  8,  8,  8,  8,  8,  8,  8,  8,  8,  8,\n",
       "        8,  9,  9,  9,  9,  9,  9,  9,  9,  9,  9,  9,  9,  9,  9,  9,  9,\n",
       "        9,  9,  9, 10, 10, 10, 10, 10, 10, 10, 10, 10, 10, 10, 10, 10, 10,\n",
       "       10, 10, 10, 10, 10, 11, 11, 11, 11, 11, 11, 11, 11, 11, 11, 11, 11,\n",
       "       11, 11, 11, 11, 11, 11, 11, 12, 12, 12, 12, 12, 12, 12, 12, 12, 12,\n",
       "       12, 12, 12, 12, 12, 12, 12, 12, 12, 13, 13, 13, 13, 13, 13, 13, 13,\n",
       "       13, 13, 13, 13, 13, 13, 13, 13, 13, 13, 13, 14, 14, 14, 14, 14, 14,\n",
       "       14, 14, 14, 14, 14, 14, 14, 14, 14, 14, 14, 14, 14, 15, 15, 15, 15,\n",
       "       15, 15, 15, 15, 15, 15, 15, 15, 15, 15, 15, 15, 15, 15, 15, 16, 16,\n",
       "       16, 16, 16, 16, 16, 16, 16, 16, 16, 16, 16, 16, 16, 16, 16, 16, 16,\n",
       "       17, 17, 17, 17, 17, 17, 17, 17, 17, 17, 17, 17, 17, 17, 17, 17, 17,\n",
       "       17, 17, 18, 18, 18, 18, 18, 18, 18, 18, 18, 18, 18, 18, 18, 18, 18,\n",
       "       18, 18, 18, 18])>"
      ]
     },
     "execution_count": 41,
     "metadata": {},
     "output_type": "execute_result"
    }
   ],
   "source": [
    "conv_width_index = K.flatten(K.transpose(conv_width_index))\n",
    "conv_width_index"
   ]
  },
  {
   "cell_type": "code",
   "execution_count": 42,
   "metadata": {},
   "outputs": [],
   "source": [
    "conv_index = K.transpose(K.stack([conv_height_index, conv_width_index]))"
   ]
  },
  {
   "cell_type": "code",
   "execution_count": 43,
   "metadata": {},
   "outputs": [
    {
     "data": {
      "text/plain": [
       "<tf.Tensor: shape=(10, 2), dtype=int32, numpy=\n",
       "array([[0, 0],\n",
       "       [1, 0],\n",
       "       [2, 0],\n",
       "       [3, 0],\n",
       "       [4, 0],\n",
       "       [5, 0],\n",
       "       [6, 0],\n",
       "       [7, 0],\n",
       "       [8, 0],\n",
       "       [9, 0]])>"
      ]
     },
     "execution_count": 43,
     "metadata": {},
     "output_type": "execute_result"
    }
   ],
   "source": [
    "conv_index[:10]"
   ]
  },
  {
   "cell_type": "code",
   "execution_count": 44,
   "metadata": {},
   "outputs": [],
   "source": [
    "conv_index = K.reshape(conv_index, [1, conv_dims[0], conv_dims[1], 1, 2])"
   ]
  },
  {
   "cell_type": "code",
   "execution_count": 45,
   "metadata": {},
   "outputs": [
    {
     "data": {
      "text/plain": [
       "<tf.Tensor: shape=(1, 19, 1, 2), dtype=int32, numpy=\n",
       "array([[[[ 0,  0]],\n",
       "\n",
       "        [[ 0,  1]],\n",
       "\n",
       "        [[ 0,  2]],\n",
       "\n",
       "        [[ 0,  3]],\n",
       "\n",
       "        [[ 0,  4]],\n",
       "\n",
       "        [[ 0,  5]],\n",
       "\n",
       "        [[ 0,  6]],\n",
       "\n",
       "        [[ 0,  7]],\n",
       "\n",
       "        [[ 0,  8]],\n",
       "\n",
       "        [[ 0,  9]],\n",
       "\n",
       "        [[ 0, 10]],\n",
       "\n",
       "        [[ 0, 11]],\n",
       "\n",
       "        [[ 0, 12]],\n",
       "\n",
       "        [[ 0, 13]],\n",
       "\n",
       "        [[ 0, 14]],\n",
       "\n",
       "        [[ 0, 15]],\n",
       "\n",
       "        [[ 0, 16]],\n",
       "\n",
       "        [[ 0, 17]],\n",
       "\n",
       "        [[ 0, 18]]]])>"
      ]
     },
     "execution_count": 45,
     "metadata": {},
     "output_type": "execute_result"
    }
   ],
   "source": [
    "conv_index[:,:,0,:]"
   ]
  },
  {
   "cell_type": "code",
   "execution_count": 46,
   "metadata": {},
   "outputs": [],
   "source": [
    "conv_index = K.cast(conv_index, K.dtype(yolo_model_outputs))"
   ]
  },
  {
   "cell_type": "code",
   "execution_count": 47,
   "metadata": {},
   "outputs": [
    {
     "data": {
      "text/plain": [
       "<tf.Tensor: shape=(1, 19, 1, 2), dtype=float32, numpy=\n",
       "array([[[[ 0.,  0.]],\n",
       "\n",
       "        [[ 0.,  1.]],\n",
       "\n",
       "        [[ 0.,  2.]],\n",
       "\n",
       "        [[ 0.,  3.]],\n",
       "\n",
       "        [[ 0.,  4.]],\n",
       "\n",
       "        [[ 0.,  5.]],\n",
       "\n",
       "        [[ 0.,  6.]],\n",
       "\n",
       "        [[ 0.,  7.]],\n",
       "\n",
       "        [[ 0.,  8.]],\n",
       "\n",
       "        [[ 0.,  9.]],\n",
       "\n",
       "        [[ 0., 10.]],\n",
       "\n",
       "        [[ 0., 11.]],\n",
       "\n",
       "        [[ 0., 12.]],\n",
       "\n",
       "        [[ 0., 13.]],\n",
       "\n",
       "        [[ 0., 14.]],\n",
       "\n",
       "        [[ 0., 15.]],\n",
       "\n",
       "        [[ 0., 16.]],\n",
       "\n",
       "        [[ 0., 17.]],\n",
       "\n",
       "        [[ 0., 18.]]]], dtype=float32)>"
      ]
     },
     "execution_count": 47,
     "metadata": {},
     "output_type": "execute_result"
    }
   ],
   "source": [
    "conv_index[:,:,0,:]"
   ]
  },
  {
   "cell_type": "markdown",
   "metadata": {},
   "source": [
    "__Feats__ reshapea el output para que quede separado en cada caja (5 en este caso)"
   ]
  },
  {
   "cell_type": "code",
   "execution_count": 48,
   "metadata": {},
   "outputs": [],
   "source": [
    "feats = K.reshape(yolo_model_outputs, [-1, conv_dims[0], conv_dims[1], num_anchors, 80 + 5])\n",
    "conv_dims = K.cast(K.reshape(conv_dims, [1, 1, 1, 1, 2]), K.dtype(feats))"
   ]
  },
  {
   "cell_type": "code",
   "execution_count": 49,
   "metadata": {},
   "outputs": [
    {
     "data": {
      "text/plain": [
       "<tf.Tensor: shape=(1, 1, 1, 1, 2), dtype=float32, numpy=array([[[[[19., 19.]]]]], dtype=float32)>"
      ]
     },
     "execution_count": 49,
     "metadata": {},
     "output_type": "execute_result"
    }
   ],
   "source": [
    "conv_dims"
   ]
  },
  {
   "cell_type": "code",
   "execution_count": 50,
   "metadata": {},
   "outputs": [
    {
     "data": {
      "text/plain": [
       "<tf.Tensor: shape=(86,), dtype=float32, numpy=\n",
       "array([-0.10067363, -0.23328215, -0.50949824, -0.6566117 , -9.719563  ,\n",
       "        3.5917764 , -1.6624055 ,  1.6129274 , -0.07981228,  2.9123812 ,\n",
       "       -0.5384773 , -0.4052704 ,  0.35648128,  3.6273527 ,  4.450213  ,\n",
       "        0.05275792,  0.79813963, -0.9486985 ,  0.3271061 ,  6.4609585 ,\n",
       "        0.05499554,  0.53715533,  0.58506924,  2.4442492 ,  0.6143377 ,\n",
       "        0.19662231,  2.8831985 , -0.5861099 , -0.29590064,  0.05824824,\n",
       "        4.344251  , -1.0652845 ,  0.6045655 , -1.5367112 ,  1.9264482 ,\n",
       "        1.8280694 ,  1.805028  ,  1.9750276 ,  5.221086  , -1.328965  ,\n",
       "       -1.4737799 , -0.1365464 ,  2.6424553 , -1.0210226 , -0.7063229 ,\n",
       "       -0.22588739, -0.6566417 , -1.3211526 , -1.383598  , -1.1188867 ,\n",
       "       -0.9976119 ,  0.2665561 ,  0.95381   , -1.5522406 , -0.6738088 ,\n",
       "        0.24287647, -1.2431886 , -1.1065671 , -1.580994  , -0.41495627,\n",
       "       -1.1246425 ,  0.74404263, -2.6332026 ,  0.75706404, -1.1168209 ,\n",
       "        0.25831774, -2.3011436 , -0.7025908 , -1.3912187 , -1.3025702 ,\n",
       "       -2.5252342 , -3.0518904 , -1.0650842 , -1.8371656 , -2.2852945 ,\n",
       "       -2.2515414 , -1.742529  , -2.0881894 , -1.6890851 ,  0.26246744,\n",
       "       -1.1669209 , -0.35841966,  1.4873134 , -1.2987758 , -1.2191706 ,\n",
       "        1.2551157 ], dtype=float32)>"
      ]
     },
     "execution_count": 50,
     "metadata": {},
     "output_type": "execute_result"
    }
   ],
   "source": [
    "yolo_model_outputs[0][0][0][:86]"
   ]
  },
  {
   "cell_type": "code",
   "execution_count": 51,
   "metadata": {},
   "outputs": [
    {
     "data": {
      "text/plain": [
       "<tf.Tensor: shape=(5, 85), dtype=float32, numpy=\n",
       "array([[ -0.10067363,  -0.23328215,  -0.50949824,  -0.6566117 ,\n",
       "         -9.719563  ,   3.5917764 ,  -1.6624055 ,   1.6129274 ,\n",
       "         -0.07981228,   2.9123812 ,  -0.5384773 ,  -0.4052704 ,\n",
       "          0.35648128,   3.6273527 ,   4.450213  ,   0.05275792,\n",
       "          0.79813963,  -0.9486985 ,   0.3271061 ,   6.4609585 ,\n",
       "          0.05499554,   0.53715533,   0.58506924,   2.4442492 ,\n",
       "          0.6143377 ,   0.19662231,   2.8831985 ,  -0.5861099 ,\n",
       "         -0.29590064,   0.05824824,   4.344251  ,  -1.0652845 ,\n",
       "          0.6045655 ,  -1.5367112 ,   1.9264482 ,   1.8280694 ,\n",
       "          1.805028  ,   1.9750276 ,   5.221086  ,  -1.328965  ,\n",
       "         -1.4737799 ,  -0.1365464 ,   2.6424553 ,  -1.0210226 ,\n",
       "         -0.7063229 ,  -0.22588739,  -0.6566417 ,  -1.3211526 ,\n",
       "         -1.383598  ,  -1.1188867 ,  -0.9976119 ,   0.2665561 ,\n",
       "          0.95381   ,  -1.5522406 ,  -0.6738088 ,   0.24287647,\n",
       "         -1.2431886 ,  -1.1065671 ,  -1.580994  ,  -0.41495627,\n",
       "         -1.1246425 ,   0.74404263,  -2.6332026 ,   0.75706404,\n",
       "         -1.1168209 ,   0.25831774,  -2.3011436 ,  -0.7025908 ,\n",
       "         -1.3912187 ,  -1.3025702 ,  -2.5252342 ,  -3.0518904 ,\n",
       "         -1.0650842 ,  -1.8371656 ,  -2.2852945 ,  -2.2515414 ,\n",
       "         -1.742529  ,  -2.0881894 ,  -1.6890851 ,   0.26246744,\n",
       "         -1.1669209 ,  -0.35841966,   1.4873134 ,  -1.2987758 ,\n",
       "         -1.2191706 ],\n",
       "       [  1.2551157 ,   0.849626  ,  -0.10442979,  -0.46724406,\n",
       "        -11.255202  ,   2.2550547 ,  -0.5906702 ,   0.5813622 ,\n",
       "         -0.22730178,   3.3770077 ,  -0.849936  ,   0.11903063,\n",
       "         -0.19110397,   3.2921574 ,   2.822595  ,   0.47498894,\n",
       "          0.55830127,  -1.1084162 ,   0.582724  ,   5.5580964 ,\n",
       "          0.49673823,   1.2139348 ,  -0.69903845,   1.2134099 ,\n",
       "          0.8489107 ,   0.5172626 ,   2.751822  ,  -0.14352158,\n",
       "          1.0547049 ,  -1.3942231 ,   4.5246596 ,  -1.8986728 ,\n",
       "          0.543412  ,  -1.3024635 ,   0.03460467,   2.51944   ,\n",
       "          1.9708555 ,  -1.2607764 ,   4.379044  ,  -0.5423116 ,\n",
       "         -1.3320132 ,   0.37706104,   2.3520172 ,  -1.1759701 ,\n",
       "         -0.7894845 ,  -0.5459589 ,  -1.9766238 ,  -0.22932974,\n",
       "          0.79373604,  -0.33323368,  -1.3235247 ,   0.4015937 ,\n",
       "          0.07904907,  -1.5765214 ,  -0.5305393 ,   1.5372427 ,\n",
       "         -0.6971148 ,  -0.7303002 ,   0.44044352,  -1.4965659 ,\n",
       "         -0.6640359 ,  -0.3718173 ,  -2.194802  ,   1.5164869 ,\n",
       "         -1.0172935 ,  -0.25266993,  -2.6463227 ,   0.04848785,\n",
       "         -1.0882188 ,  -1.6030669 ,  -1.3386853 ,  -1.4149914 ,\n",
       "         -1.488698  ,  -2.158126  ,  -1.9271187 ,  -3.0539181 ,\n",
       "         -1.2804289 ,  -1.9025443 ,   0.09909451,  -0.45310807,\n",
       "         -1.7145877 ,   1.2936937 ,   1.9938667 ,  -1.2550441 ,\n",
       "         -0.317278  ],\n",
       "       [  0.7249059 ,   0.960594  ,  -0.64720577,   0.03170182,\n",
       "        -14.5574665 ,   1.8510838 ,  -0.1991108 ,   0.4047646 ,\n",
       "         -0.9475081 ,   1.8768262 ,  -1.2788364 ,   0.05266949,\n",
       "         -0.9921582 ,   2.5224605 ,  -0.07508632,  -0.6289323 ,\n",
       "          0.8155376 ,  -0.58665144,  -0.4207481 ,   4.046929  ,\n",
       "         -0.00862579,  -0.01388851,  -1.2625864 ,   0.6849946 ,\n",
       "         -0.17559329,  -0.02891322,   1.8506258 ,  -0.41360158,\n",
       "          0.81036305,  -0.71324295,   4.050054  ,  -0.7805556 ,\n",
       "          1.0862234 ,  -0.9020118 ,   0.1155861 ,   2.078324  ,\n",
       "          0.86771184,  -0.85924596,   2.642553  ,  -0.256485  ,\n",
       "         -1.1880678 ,   0.15008894,   1.715228  ,  -0.45619458,\n",
       "         -1.6321886 ,  -0.5010544 ,  -0.9649718 ,   0.73928684,\n",
       "          1.6917901 ,  -0.12239983,  -1.1025711 ,   0.14560594,\n",
       "         -0.27103066,  -0.7111792 ,  -0.06349187,   1.845382  ,\n",
       "         -0.04607797,  -0.01864653,   0.70353025,  -0.5747509 ,\n",
       "          0.5657459 ,  -0.5342741 ,  -1.9708086 ,   1.298662  ,\n",
       "         -1.1084206 ,  -1.080377  ,  -1.9952615 ,  -0.12811752,\n",
       "         -0.7117885 ,  -0.68067634,  -0.29956114,  -0.41209123,\n",
       "         -0.86650866,  -1.6630132 ,  -1.4757552 ,  -1.7042165 ,\n",
       "         -1.0816498 ,  -1.118673  ,   0.34894586,   0.42047328,\n",
       "         -0.8778708 ,   0.9808738 ,   0.42394882,  -1.3863587 ,\n",
       "          0.16315714],\n",
       "       [  0.1260469 ,   0.69676125,  -0.10735586,  -0.7626929 ,\n",
       "        -14.802881  ,   0.31029916,  -0.10817537,   0.6323141 ,\n",
       "         -1.0531138 ,   1.6496311 ,  -1.2901725 ,  -0.13718091,\n",
       "         -1.5741241 ,   1.8487476 ,   0.3534798 ,  -1.2235725 ,\n",
       "          0.6982912 ,  -0.42369232,   0.5450537 ,   4.050698  ,\n",
       "         -0.37925905,  -0.54289633,  -1.0849996 ,   1.1441957 ,\n",
       "         -0.06160943,  -0.3697902 ,   1.7839298 ,  -0.24589995,\n",
       "          0.2147944 ,  -0.6189287 ,   3.9937341 ,  -0.5521181 ,\n",
       "          0.93885565,  -0.87975293,   0.39789718,   2.148821  ,\n",
       "          0.72800463,  -0.67431587,   2.5927079 ,  -0.5094925 ,\n",
       "         -0.89259875,  -0.30907857,   1.8607569 ,  -0.6150499 ,\n",
       "         -1.6814377 ,  -1.0925637 ,  -1.012488  ,   1.2015965 ,\n",
       "          1.9225193 ,  -0.16496617,  -0.9028731 ,  -0.64048177,\n",
       "         -0.10766322,  -0.578902  ,  -0.11061062,   1.6372355 ,\n",
       "         -0.14023234,  -0.44535032,   0.64442354,  -0.18717988,\n",
       "          0.4455915 ,   0.12096737,  -2.400807  ,   1.0675998 ,\n",
       "         -1.4488819 ,  -0.75151044,  -1.6235768 ,   0.14200221,\n",
       "         -0.29718286,  -0.5654678 ,  -0.34625036,   0.09460874,\n",
       "         -0.8363402 ,  -1.6867956 ,  -1.3863821 ,  -1.1538603 ,\n",
       "         -0.6451823 ,  -1.4646327 ,   0.48818672,   0.46713096,\n",
       "          0.15065573,   1.6086428 ,  -0.227233  ,  -0.8052279 ,\n",
       "         -0.03602407],\n",
       "       [ -0.08082376,   0.46774843,   0.01359107,   0.11501161,\n",
       "        -16.318867  ,   0.88447964,   0.13092409,   0.361911  ,\n",
       "         -1.2030321 ,  -0.14641358,  -1.5359664 ,  -1.2594637 ,\n",
       "         -1.6910237 ,   1.4742182 ,  -0.16911596,  -0.15030956,\n",
       "          0.20964673,  -0.6809647 ,   0.47724083,   3.427788  ,\n",
       "          0.39537415,   0.3656683 ,  -0.46651694,   1.2337956 ,\n",
       "         -0.2867882 ,   0.06914355,   2.4060752 ,   0.04845966,\n",
       "          0.58547115,  -0.3435074 ,   3.0409124 ,  -0.18215188,\n",
       "          1.3415579 ,  -1.0245242 ,   0.04677616,   1.1274712 ,\n",
       "          0.56681037,  -0.6626549 ,   1.7968156 ,  -0.4790579 ,\n",
       "         -1.176673  ,  -0.32202828,   0.8575276 ,  -0.509302  ,\n",
       "         -1.2571678 ,  -0.19147387,  -0.64058745,   1.1990224 ,\n",
       "          1.7102599 ,   0.5285839 ,  -1.3815569 ,  -0.4022849 ,\n",
       "         -0.08350637,  -0.40398693,   0.0266216 ,   1.4997288 ,\n",
       "          0.00986141,  -1.103286  ,   0.07664916,   0.15441409,\n",
       "          0.95171416,   0.7939638 ,  -1.6059506 ,   1.4934423 ,\n",
       "         -0.7044325 ,  -1.803282  ,  -1.4169378 ,   0.17058781,\n",
       "         -0.6043754 ,  -0.37961507,  -0.6552408 ,   0.07396586,\n",
       "         -1.3589255 ,  -1.8023138 ,  -1.522468  ,  -0.41907272,\n",
       "         -0.7713212 ,  -1.5666969 ,   0.15940267,   1.2105458 ,\n",
       "          1.1295153 ,   0.5719094 ,   0.3099742 ,  -0.9103534 ,\n",
       "          0.4570806 ]], dtype=float32)>"
      ]
     },
     "execution_count": 51,
     "metadata": {},
     "output_type": "execute_result"
    }
   ],
   "source": [
    "feats[0][0][0]"
   ]
  },
  {
   "cell_type": "markdown",
   "metadata": {},
   "source": [
    "## __Transforming Neural Network Outputs__"
   ]
  },
  {
   "cell_type": "code",
   "execution_count": 52,
   "metadata": {},
   "outputs": [
    {
     "data": {
      "text/plain": [
       "array([[0.57273 , 0.677385],\n",
       "       [1.87446 , 2.06253 ],\n",
       "       [3.33843 , 5.47434 ],\n",
       "       [7.88282 , 3.52778 ],\n",
       "       [9.77052 , 9.16828 ]])"
      ]
     },
     "execution_count": 52,
     "metadata": {},
     "output_type": "execute_result"
    }
   ],
   "source": [
    "anchors"
   ]
  },
  {
   "cell_type": "code",
   "execution_count": 53,
   "metadata": {},
   "outputs": [],
   "source": [
    "box_xy = K.sigmoid(feats[..., :2])\n",
    "box_wh = K.exp(feats[..., 2:4])\n",
    "box_confidence = K.sigmoid(feats[..., 4:5])\n",
    "box_class_probs = K.softmax(feats[..., 5:])"
   ]
  },
  {
   "cell_type": "markdown",
   "metadata": {},
   "source": [
    "## __XY Coordinates__"
   ]
  },
  {
   "cell_type": "code",
   "execution_count": 54,
   "metadata": {},
   "outputs": [
    {
     "name": "stdout",
     "output_type": "stream",
     "text": [
      "Box XY Shape : (1, 19, 19, 5, 2)\n",
      "Conv Index Shape : (1, 19, 19, 1, 2)\n",
      "Conv Dims Shape : (1, 1, 1, 1, 2)\n"
     ]
    }
   ],
   "source": [
    "print(f\"Box XY Shape : {box_xy.shape}\")\n",
    "print(f\"Conv Index Shape : {conv_index.shape}\")\n",
    "print(f\"Conv Dims Shape : {conv_dims.shape}\")"
   ]
  },
  {
   "cell_type": "markdown",
   "metadata": {},
   "source": [
    "__Tomamos como ejemplo la celda (1,0)__"
   ]
  },
  {
   "cell_type": "code",
   "execution_count": 79,
   "metadata": {},
   "outputs": [],
   "source": [
    "box_xy_10 = box_xy[0][0][1]\n",
    "conv_index_10 = conv_index[0][0][1]"
   ]
  },
  {
   "cell_type": "code",
   "execution_count": 80,
   "metadata": {},
   "outputs": [
    {
     "data": {
      "text/plain": [
       "<tf.Tensor: shape=(5, 2), dtype=float32, numpy=\n",
       "array([[0.4702052 , 0.14445224],\n",
       "       [0.43839374, 0.53011507],\n",
       "       [0.40857154, 0.7290941 ],\n",
       "       [0.49309674, 0.60477495],\n",
       "       [0.53495276, 0.5730521 ]], dtype=float32)>"
      ]
     },
     "execution_count": 80,
     "metadata": {},
     "output_type": "execute_result"
    }
   ],
   "source": [
    "box_xy_10"
   ]
  },
  {
   "cell_type": "code",
   "execution_count": 81,
   "metadata": {},
   "outputs": [
    {
     "data": {
      "text/plain": [
       "<tf.Tensor: shape=(1, 2), dtype=float32, numpy=array([[1., 0.]], dtype=float32)>"
      ]
     },
     "execution_count": 81,
     "metadata": {},
     "output_type": "execute_result"
    }
   ],
   "source": [
    "conv_index_10"
   ]
  },
  {
   "cell_type": "markdown",
   "metadata": {},
   "source": [
    "__Sumamos para mover los puntos con respecto al origen que sería la celda 0,0__"
   ]
  },
  {
   "cell_type": "code",
   "execution_count": 84,
   "metadata": {},
   "outputs": [
    {
     "data": {
      "text/plain": [
       "<tf.Tensor: shape=(5, 2), dtype=float32, numpy=\n",
       "array([[1.4702052 , 0.14445224],\n",
       "       [1.4383937 , 0.53011507],\n",
       "       [1.4085715 , 0.7290941 ],\n",
       "       [1.4930967 , 0.60477495],\n",
       "       [1.5349528 , 0.5730521 ]], dtype=float32)>"
      ]
     },
     "execution_count": 84,
     "metadata": {},
     "output_type": "execute_result"
    }
   ],
   "source": [
    "box_xy_10 =  box_xy_10 + conv_index_10\n",
    "box_xy_10"
   ]
  },
  {
   "cell_type": "markdown",
   "metadata": {},
   "source": [
    "__Luego calculamos los puntos como una proporción con respecto al total de la grid que para este caso es 19 x 19__"
   ]
  },
  {
   "cell_type": "code",
   "execution_count": 85,
   "metadata": {},
   "outputs": [
    {
     "data": {
      "text/plain": [
       "<tf.Tensor: shape=(1, 1, 1, 1, 2), dtype=float32, numpy=array([[[[[19., 19.]]]]], dtype=float32)>"
      ]
     },
     "execution_count": 85,
     "metadata": {},
     "output_type": "execute_result"
    }
   ],
   "source": [
    "conv_dims"
   ]
  },
  {
   "cell_type": "code",
   "execution_count": 112,
   "metadata": {},
   "outputs": [
    {
     "data": {
      "text/plain": [
       "<tf.Tensor: shape=(1, 1, 1, 5, 2), dtype=float32, numpy=\n",
       "array([[[[[0.07737922, 0.00760275],\n",
       "          [0.07570493, 0.02790079],\n",
       "          [0.07413534, 0.03837337],\n",
       "          [0.07858404, 0.03183026],\n",
       "          [0.08078699, 0.03016064]]]]], dtype=float32)>"
      ]
     },
     "execution_count": 112,
     "metadata": {},
     "output_type": "execute_result"
    }
   ],
   "source": [
    "box_xy_10 = box_xy_10 / conv_dims\n",
    "box_xy_10"
   ]
  },
  {
   "cell_type": "code",
   "execution_count": 88,
   "metadata": {},
   "outputs": [],
   "source": [
    "box_xy = (box_xy + conv_index) / conv_dims"
   ]
  },
  {
   "cell_type": "markdown",
   "metadata": {},
   "source": [
    "## __HW Coordinates__"
   ]
  },
  {
   "cell_type": "code",
   "execution_count": 97,
   "metadata": {},
   "outputs": [
    {
     "name": "stdout",
     "output_type": "stream",
     "text": [
      "Anchors Tensor : (1, 1, 1, 5, 2)\n",
      "WH Tensor : (1, 19, 19, 5, 2)\n"
     ]
    }
   ],
   "source": [
    "print(f\"Anchors Tensor : {anchors_tensor.shape}\")\n",
    "print(f\"WH Tensor : {box_wh.shape}\")"
   ]
  },
  {
   "cell_type": "markdown",
   "metadata": {},
   "source": [
    "__Tomamos nuevamente como referencia (1,0)__"
   ]
  },
  {
   "cell_type": "code",
   "execution_count": 102,
   "metadata": {},
   "outputs": [
    {
     "data": {
      "text/plain": [
       "<tf.Tensor: shape=(5, 2), dtype=float32, numpy=\n",
       "array([[2.242628  , 0.1696933 ],\n",
       "       [1.4331176 , 0.36153498],\n",
       "       [0.84359884, 0.708159  ],\n",
       "       [0.9000787 , 0.37537524],\n",
       "       [0.98768854, 0.9443358 ]], dtype=float32)>"
      ]
     },
     "execution_count": 102,
     "metadata": {},
     "output_type": "execute_result"
    }
   ],
   "source": [
    "box_wh_10 = box_wh[0][0][1]\n",
    "box_wh_10"
   ]
  },
  {
   "cell_type": "code",
   "execution_count": 103,
   "metadata": {},
   "outputs": [
    {
     "data": {
      "text/plain": [
       "<tf.Tensor: shape=(1, 1, 1, 5, 2), dtype=float32, numpy=\n",
       "array([[[[[0.57273 , 0.677385],\n",
       "          [1.87446 , 2.06253 ],\n",
       "          [3.33843 , 5.47434 ],\n",
       "          [7.88282 , 3.52778 ],\n",
       "          [9.77052 , 9.16828 ]]]]], dtype=float32)>"
      ]
     },
     "execution_count": 103,
     "metadata": {},
     "output_type": "execute_result"
    }
   ],
   "source": [
    "anchors_tensor"
   ]
  },
  {
   "cell_type": "markdown",
   "metadata": {},
   "source": [
    "__Rescalamos las Anchor Boxes__"
   ]
  },
  {
   "cell_type": "code",
   "execution_count": 105,
   "metadata": {},
   "outputs": [
    {
     "data": {
      "text/plain": [
       "<tf.Tensor: shape=(1, 1, 1, 5, 2), dtype=float32, numpy=\n",
       "array([[[[[1.2844204 , 0.1149477 ],\n",
       "          [2.6863217 , 0.74567676],\n",
       "          [2.8162956 , 3.8767033 ],\n",
       "          [7.0951586 , 1.3242413 ],\n",
       "          [9.65023   , 8.657935  ]]]]], dtype=float32)>"
      ]
     },
     "execution_count": 105,
     "metadata": {},
     "output_type": "execute_result"
    }
   ],
   "source": [
    "box_wh_10 = box_wh_10 * anchors_tensor\n",
    "box_wh_10"
   ]
  },
  {
   "cell_type": "markdown",
   "metadata": {},
   "source": [
    "__Calculamos respecto a Conv Dims__"
   ]
  },
  {
   "cell_type": "code",
   "execution_count": 111,
   "metadata": {},
   "outputs": [
    {
     "data": {
      "text/plain": [
       "<tf.Tensor: shape=(1, 1, 1, 5, 2), dtype=float32, numpy=\n",
       "array([[[[[0.06760107, 0.00604988],\n",
       "          [0.14138536, 0.03924615],\n",
       "          [0.14822608, 0.20403701],\n",
       "          [0.3734294 , 0.06969691],\n",
       "          [0.50790685, 0.4556808 ]]]]], dtype=float32)>"
      ]
     },
     "execution_count": 111,
     "metadata": {},
     "output_type": "execute_result"
    }
   ],
   "source": [
    "box_wh_10 = box_wh_10 / conv_dims\n",
    "box_wh_10"
   ]
  },
  {
   "cell_type": "code",
   "execution_count": 107,
   "metadata": {},
   "outputs": [],
   "source": [
    "box_wh = box_wh * anchors_tensor / conv_dims"
   ]
  },
  {
   "cell_type": "code",
   "execution_count": 110,
   "metadata": {},
   "outputs": [
    {
     "data": {
      "text/plain": [
       "<tf.Tensor: shape=(5, 2), dtype=float32, numpy=\n",
       "array([[0.06760107, 0.00604988],\n",
       "       [0.14138536, 0.03924615],\n",
       "       [0.14822608, 0.20403701],\n",
       "       [0.3734294 , 0.06969691],\n",
       "       [0.50790685, 0.4556808 ]], dtype=float32)>"
      ]
     },
     "execution_count": 110,
     "metadata": {},
     "output_type": "execute_result"
    }
   ],
   "source": [
    "box_wh[0][0][1]"
   ]
  },
  {
   "cell_type": "code",
   "execution_count": null,
   "metadata": {},
   "outputs": [],
   "source": []
  },
  {
   "cell_type": "code",
   "execution_count": 51,
   "metadata": {},
   "outputs": [
    {
     "data": {
      "text/plain": [
       "TensorShape([1, 19, 19, 1, 2])"
      ]
     },
     "execution_count": 51,
     "metadata": {},
     "output_type": "execute_result"
    }
   ],
   "source": [
    "conv_index.shape"
   ]
  },
  {
   "cell_type": "code",
   "execution_count": 142,
   "metadata": {},
   "outputs": [
    {
     "data": {
      "text/plain": [
       "TensorShape([1, 19, 19, 5, 2])"
      ]
     },
     "execution_count": 142,
     "metadata": {},
     "output_type": "execute_result"
    }
   ],
   "source": [
    "box_xy.shape"
   ]
  },
  {
   "cell_type": "code",
   "execution_count": 158,
   "metadata": {},
   "outputs": [
    {
     "data": {
      "text/plain": [
       "<tf.Tensor: shape=(1, 2), dtype=float32, numpy=array([[1., 0.]], dtype=float32)>"
      ]
     },
     "execution_count": 158,
     "metadata": {},
     "output_type": "execute_result"
    }
   ],
   "source": [
    "conv_index[0][0][1]"
   ]
  },
  {
   "cell_type": "code",
   "execution_count": 159,
   "metadata": {},
   "outputs": [
    {
     "data": {
      "text/plain": [
       "<tf.Tensor: shape=(5, 2), dtype=float32, numpy=\n",
       "array([[0.47020522, 0.14445238],\n",
       "       [0.43839356, 0.5301152 ],\n",
       "       [0.4085715 , 0.7290941 ],\n",
       "       [0.49309668, 0.60477483],\n",
       "       [0.53495264, 0.5730521 ]], dtype=float32)>"
      ]
     },
     "execution_count": 159,
     "metadata": {},
     "output_type": "execute_result"
    }
   ],
   "source": [
    "box_xy[0][0][1]"
   ]
  },
  {
   "cell_type": "code",
   "execution_count": 163,
   "metadata": {},
   "outputs": [
    {
     "data": {
      "text/plain": [
       "<tf.Tensor: shape=(1, 1, 1, 5, 2), dtype=float32, numpy=\n",
       "array([[[[[0.07737922, 0.00760276],\n",
       "          [0.07570492, 0.0279008 ],\n",
       "          [0.07413534, 0.03837337],\n",
       "          [0.07858404, 0.03183025],\n",
       "          [0.08078698, 0.03016064]]]]], dtype=float32)>"
      ]
     },
     "execution_count": 163,
     "metadata": {},
     "output_type": "execute_result"
    }
   ],
   "source": [
    "(box_xy[0][0][1] + conv_index[0][0][1]) / conv_dims"
   ]
  },
  {
   "cell_type": "code",
   "execution_count": 161,
   "metadata": {},
   "outputs": [
    {
     "data": {
      "text/plain": [
       "<tf.Tensor: shape=(1, 1, 1, 1, 2), dtype=float32, numpy=array([[[[[19., 19.]]]]], dtype=float32)>"
      ]
     },
     "execution_count": 161,
     "metadata": {},
     "output_type": "execute_result"
    }
   ],
   "source": [
    "conv_dims"
   ]
  },
  {
   "cell_type": "markdown",
   "metadata": {},
   "source": [
    "__Calculamos XY con respecto a cada celda y luego como proporción del total (19 x 19)__"
   ]
  },
  {
   "cell_type": "code",
   "execution_count": 164,
   "metadata": {},
   "outputs": [],
   "source": [
    "box_xy = (box_xy + conv_index) / conv_dims"
   ]
  },
  {
   "cell_type": "code",
   "execution_count": null,
   "metadata": {},
   "outputs": [],
   "source": [
    "box_wh = box_wh * anchors_tensor / conv_dims"
   ]
  },
  {
   "cell_type": "code",
   "execution_count": 67,
   "metadata": {},
   "outputs": [],
   "source": [
    "yolo_outputs = yolo_head(yolo_model_outputs, anchors, len(class_names))"
   ]
  },
  {
   "cell_type": "code",
   "execution_count": 68,
   "metadata": {},
   "outputs": [
    {
     "data": {
      "text/plain": [
       "(<tf.Tensor: shape=(1, 19, 19, 5, 2), dtype=float32, numpy=\n",
       " array([[[[[0.02499227, 0.02326013],\n",
       "           [0.04095706, 0.03686783],\n",
       "           [0.03545716, 0.0380653 ],\n",
       "           [0.0279721 , 0.03512996],\n",
       "           [0.02525289, 0.03236056]],\n",
       " \n",
       "          [[0.07737922, 0.00760276],\n",
       "           [0.07570492, 0.0279008 ],\n",
       "           [0.07413534, 0.03837337],\n",
       "           [0.07858404, 0.03183025],\n",
       "           [0.08078698, 0.03016064]],\n",
       " \n",
       "          [[0.13188696, 0.00924181],\n",
       "           [0.12938838, 0.02214747],\n",
       "           [0.13167496, 0.03221908],\n",
       "           [0.13949382, 0.03094672],\n",
       "           [0.13420244, 0.03335771]],\n",
       " \n",
       "          ...,\n",
       " \n",
       "          [[0.86034685, 0.00899624],\n",
       "           [0.85847354, 0.02224223],\n",
       "           [0.86648446, 0.03356893],\n",
       "           [0.86523175, 0.02499159],\n",
       "           [0.8647725 , 0.03485393]],\n",
       " \n",
       "          [[0.9201471 , 0.00882884],\n",
       "           [0.91788924, 0.02216407],\n",
       "           [0.9171885 , 0.03263294],\n",
       "           [0.9195191 , 0.02367206],\n",
       "           [0.9192559 , 0.0352608 ]],\n",
       " \n",
       "          [[0.97088534, 0.01847157],\n",
       "           [0.97039264, 0.03157225],\n",
       "           [0.97789305, 0.03165973],\n",
       "           [0.97577524, 0.02383955],\n",
       "           [0.9735464 , 0.03311979]]],\n",
       " \n",
       " \n",
       "         [[[0.00440132, 0.07544729],\n",
       "           [0.02861921, 0.07236066],\n",
       "           [0.0341414 , 0.08003769],\n",
       "           [0.02238737, 0.07083839],\n",
       "           [0.02111648, 0.08613522]],\n",
       " \n",
       "          [[0.08081552, 0.08142875],\n",
       "           [0.08163498, 0.06904219],\n",
       "           [0.07983846, 0.08304015],\n",
       "           [0.08299111, 0.07012542],\n",
       "           [0.0795739 , 0.08114228]],\n",
       " \n",
       "          [[0.1276698 , 0.08727035],\n",
       "           [0.12752005, 0.0715733 ],\n",
       "           [0.12744789, 0.08565786],\n",
       "           [0.13805406, 0.07457756],\n",
       "           [0.1321678 , 0.08313342]],\n",
       " \n",
       "          ...,\n",
       " \n",
       "          [[0.8670226 , 0.07950733],\n",
       "           [0.8597226 , 0.07963461],\n",
       "           [0.8635252 , 0.09518286],\n",
       "           [0.86840236, 0.08602174],\n",
       "           [0.86603755, 0.08928923]],\n",
       " \n",
       "          [[0.9191184 , 0.08009941],\n",
       "           [0.9224487 , 0.08211765],\n",
       "           [0.9181613 , 0.0916604 ],\n",
       "           [0.9191531 , 0.08284236],\n",
       "           [0.9190276 , 0.08806788]],\n",
       " \n",
       "          [[0.9737273 , 0.07514112],\n",
       "           [0.9703837 , 0.0797071 ],\n",
       "           [0.96949023, 0.08997411],\n",
       "           [0.97480303, 0.08043548],\n",
       "           [0.9712953 , 0.08562525]]],\n",
       " \n",
       " \n",
       "         [[[0.00726692, 0.13037212],\n",
       "           [0.01126783, 0.1359932 ],\n",
       "           [0.0267876 , 0.13726063],\n",
       "           [0.02502687, 0.13161741],\n",
       "           [0.02739568, 0.13560975]],\n",
       " \n",
       "          [[0.08667653, 0.13175216],\n",
       "           [0.08819087, 0.12536114],\n",
       "           [0.08318061, 0.13392708],\n",
       "           [0.08725382, 0.12951855],\n",
       "           [0.08483613, 0.13635719]],\n",
       " \n",
       "          [[0.12890461, 0.13209677],\n",
       "           [0.12169488, 0.12794292],\n",
       "           [0.12672968, 0.13681193],\n",
       "           [0.14038502, 0.1328586 ],\n",
       "           [0.13775054, 0.14131717]],\n",
       " \n",
       "          ...,\n",
       " \n",
       "          [[0.8645479 , 0.13570166],\n",
       "           [0.8602071 , 0.13288623],\n",
       "           [0.86608046, 0.1468881 ],\n",
       "           [0.8683079 , 0.13969457],\n",
       "           [0.8680471 , 0.14304988]],\n",
       " \n",
       "          [[0.9230647 , 0.13849412],\n",
       "           [0.9222456 , 0.13908835],\n",
       "           [0.923096  , 0.14628278],\n",
       "           [0.9212852 , 0.13790588],\n",
       "           [0.92232645, 0.14294623]],\n",
       " \n",
       "          [[0.97769004, 0.13440819],\n",
       "           [0.97862715, 0.13065594],\n",
       "           [0.97010684, 0.14553216],\n",
       "           [0.97928226, 0.13642736],\n",
       "           [0.9765082 , 0.13943535]]],\n",
       " \n",
       " \n",
       "         ...,\n",
       " \n",
       " \n",
       "         [[[0.00507117, 0.86458087],\n",
       "           [0.01426966, 0.86722773],\n",
       "           [0.02758626, 0.8607405 ],\n",
       "           [0.02320655, 0.8666425 ],\n",
       "           [0.02620026, 0.8631981 ]],\n",
       " \n",
       "          [[0.07967845, 0.8602605 ],\n",
       "           [0.07803608, 0.86605763],\n",
       "           [0.0830581 , 0.86315787],\n",
       "           [0.09094754, 0.8658929 ],\n",
       "           [0.08869175, 0.86600035]],\n",
       " \n",
       "          [[0.12604181, 0.8656294 ],\n",
       "           [0.13542607, 0.8698653 ],\n",
       "           [0.13269906, 0.8671665 ],\n",
       "           [0.14118983, 0.86839473],\n",
       "           [0.14118369, 0.86140615]],\n",
       " \n",
       "          ...,\n",
       " \n",
       "          [[0.8871187 , 0.8668508 ],\n",
       "           [0.88622445, 0.8684332 ],\n",
       "           [0.87016577, 0.8562629 ],\n",
       "           [0.86491024, 0.8688105 ],\n",
       "           [0.8693013 , 0.85011464]],\n",
       " \n",
       "          [[0.90652966, 0.8633256 ],\n",
       "           [0.9091436 , 0.86823386],\n",
       "           [0.9293565 , 0.8630635 ],\n",
       "           [0.9161149 , 0.8706021 ],\n",
       "           [0.9188291 , 0.857534  ]],\n",
       " \n",
       "          [[0.99349403, 0.8835613 ],\n",
       "           [0.9860504 , 0.8787667 ],\n",
       "           [0.9753104 , 0.8629035 ],\n",
       "           [0.9800646 , 0.8704354 ],\n",
       "           [0.9810773 , 0.8641231 ]]],\n",
       " \n",
       " \n",
       "         [[[0.00550481, 0.92432314],\n",
       "           [0.01710579, 0.9214573 ],\n",
       "           [0.02886208, 0.91326565],\n",
       "           [0.0235881 , 0.92043763],\n",
       "           [0.02539602, 0.91599035]],\n",
       " \n",
       "          [[0.07733959, 0.91764086],\n",
       "           [0.08018613, 0.9286574 ],\n",
       "           [0.085958  , 0.9115491 ],\n",
       "           [0.08614448, 0.9162963 ],\n",
       "           [0.08471072, 0.9154091 ]],\n",
       " \n",
       "          [[0.12707421, 0.9247683 ],\n",
       "           [0.13684356, 0.9306918 ],\n",
       "           [0.12936838, 0.90878177],\n",
       "           [0.13404195, 0.9147986 ],\n",
       "           [0.136059  , 0.9141672 ]],\n",
       " \n",
       "          ...,\n",
       " \n",
       "          [[0.8827341 , 0.9133901 ],\n",
       "           [0.88494945, 0.9159545 ],\n",
       "           [0.8744014 , 0.922575  ],\n",
       "           [0.8656268 , 0.9295321 ],\n",
       "           [0.8687928 , 0.916362  ]],\n",
       " \n",
       "          [[0.9108775 , 0.91957784],\n",
       "           [0.9238661 , 0.92795575],\n",
       "           [0.9292284 , 0.9231356 ],\n",
       "           [0.9180996 , 0.92581606],\n",
       "           [0.9241594 , 0.91859293]],\n",
       " \n",
       "          [[0.9891918 , 0.9120061 ],\n",
       "           [0.9748428 , 0.9105939 ],\n",
       "           [0.96886367, 0.9196704 ],\n",
       "           [0.9773367 , 0.9253151 ],\n",
       "           [0.9759571 , 0.91809636]]],\n",
       " \n",
       " \n",
       "         [[[0.01194417, 0.9819378 ],\n",
       "           [0.02913701, 0.9679507 ],\n",
       "           [0.02517425, 0.9675812 ],\n",
       "           [0.02305689, 0.9707432 ],\n",
       "           [0.02550403, 0.96982336]],\n",
       " \n",
       "          [[0.07572589, 0.99656045],\n",
       "           [0.07873434, 0.97951037],\n",
       "           [0.07890883, 0.9593854 ],\n",
       "           [0.08340812, 0.96931136],\n",
       "           [0.08244655, 0.9703088 ]],\n",
       " \n",
       "          [[0.12656365, 0.99522895],\n",
       "           [0.13143846, 0.9745043 ],\n",
       "           [0.12980613, 0.9626786 ],\n",
       "           [0.13587861, 0.9672913 ],\n",
       "           [0.13431965, 0.97177905]],\n",
       " \n",
       "          ...,\n",
       " \n",
       "          [[0.8788678 , 0.9930458 ],\n",
       "           [0.87409943, 0.9855606 ],\n",
       "           [0.872972  , 0.9669331 ],\n",
       "           [0.86331165, 0.96583205],\n",
       "           [0.8659914 , 0.97354496]],\n",
       " \n",
       "          [[0.9210749 , 0.9937466 ],\n",
       "           [0.9264836 , 0.9811816 ],\n",
       "           [0.92321634, 0.967523  ],\n",
       "           [0.9200102 , 0.97097987],\n",
       "           [0.9234104 , 0.97496235]],\n",
       " \n",
       "          [[0.9823595 , 0.9900661 ],\n",
       "           [0.9624675 , 0.9801297 ],\n",
       "           [0.9710373 , 0.96994853],\n",
       "           [0.97750515, 0.9719702 ],\n",
       "           [0.9771074 , 0.9767714 ]]]]], dtype=float32)>,\n",
       " <tf.Tensor: shape=(1, 19, 19, 5, 2), dtype=float32, numpy=\n",
       " array([[[[[0.01811024, 0.01848924],\n",
       "           [0.0888729 , 0.06803387],\n",
       "           [0.09198366, 0.29740345],\n",
       "           [0.3726524 , 0.08659931],\n",
       "           [0.52127475, 0.5413562 ]],\n",
       " \n",
       "          [[0.06760109, 0.00604988],\n",
       "           [0.14138529, 0.03924617],\n",
       "           [0.14822613, 0.2040369 ],\n",
       "           [0.37342936, 0.06969696],\n",
       "           [0.5079068 , 0.45568076]],\n",
       " \n",
       "          [[0.05579735, 0.00487949],\n",
       "           [0.21132073, 0.02808669],\n",
       "           [0.17618133, 0.19092853],\n",
       "           [0.35754645, 0.05656129],\n",
       "           [0.4760572 , 0.4476484 ]],\n",
       " \n",
       "          ...,\n",
       " \n",
       "          [[0.0601146 , 0.00632489],\n",
       "           [0.16342145, 0.03540425],\n",
       "           [0.17848405, 0.22009571],\n",
       "           [0.35544756, 0.07086562],\n",
       "           [0.46138668, 0.45461985]],\n",
       " \n",
       "          [[0.04725292, 0.00582407],\n",
       "           [0.14262894, 0.04228274],\n",
       "           [0.14648582, 0.26247057],\n",
       "           [0.35037   , 0.07934786],\n",
       "           [0.47114578, 0.46914363]],\n",
       " \n",
       "          [[0.02493975, 0.02102664],\n",
       "           [0.06095405, 0.07931469],\n",
       "           [0.07745144, 0.328675  ],\n",
       "           [0.43374848, 0.08566595],\n",
       "           [0.5263587 , 0.5012966 ]]],\n",
       " \n",
       " \n",
       "         [[[0.00596007, 0.06091931],\n",
       "           [0.03684562, 0.19798553],\n",
       "           [0.07839849, 0.34623322],\n",
       "           [0.34237581, 0.15693049],\n",
       "           [0.4548242 , 0.5395208 ]],\n",
       " \n",
       "          [[0.01188213, 0.01722798],\n",
       "           [0.10604709, 0.10628829],\n",
       "           [0.14160752, 0.24534038],\n",
       "           [0.27833736, 0.16371466],\n",
       "           [0.38887745, 0.50950986]],\n",
       " \n",
       "          [[0.01146092, 0.01560834],\n",
       "           [0.13451941, 0.08019072],\n",
       "           [0.17457944, 0.18960199],\n",
       "           [0.28845   , 0.13806203],\n",
       "           [0.42508295, 0.46372133]],\n",
       " \n",
       "          ...,\n",
       " \n",
       "          [[0.01795043, 0.01788824],\n",
       "           [0.08944391, 0.10589578],\n",
       "           [0.16122809, 0.20408022],\n",
       "           [0.28537712, 0.16271332],\n",
       "           [0.44494605, 0.4824929 ]],\n",
       " \n",
       "          [[0.01096799, 0.01653921],\n",
       "           [0.07083592, 0.12673607],\n",
       "           [0.14411749, 0.23522003],\n",
       "           [0.27512354, 0.14908496],\n",
       "           [0.4537617 , 0.4990907 ]],\n",
       " \n",
       "          [[0.00666783, 0.04496876],\n",
       "           [0.04664053, 0.13860476],\n",
       "           [0.07167887, 0.32846466],\n",
       "           [0.36295336, 0.13228443],\n",
       "           [0.49179348, 0.5473644 ]]],\n",
       " \n",
       " \n",
       "         [[[0.00788603, 0.08433221],\n",
       "           [0.02442613, 0.23924959],\n",
       "           [0.05807641, 0.43133566],\n",
       "           [0.32916418, 0.16246442],\n",
       "           [0.42313805, 0.50643337]],\n",
       " \n",
       "          [[0.01377268, 0.01655779],\n",
       "           [0.07647344, 0.12355389],\n",
       "           [0.12357466, 0.34458837],\n",
       "           [0.28242692, 0.17228112],\n",
       "           [0.3429517 , 0.5000984 ]],\n",
       " \n",
       "          [[0.01280563, 0.01797223],\n",
       "           [0.08716957, 0.09398513],\n",
       "           [0.16787972, 0.2961474 ],\n",
       "           [0.28423202, 0.18440197],\n",
       "           [0.34400654, 0.4489303 ]],\n",
       " \n",
       "          ...,\n",
       " \n",
       "          [[0.01486978, 0.02447058],\n",
       "           [0.0660713 , 0.09997235],\n",
       "           [0.17496537, 0.28422755],\n",
       "           [0.2748878 , 0.2132021 ],\n",
       "           [0.37569   , 0.48172414]],\n",
       " \n",
       "          [[0.01150176, 0.02376586],\n",
       "           [0.0507136 , 0.13813138],\n",
       "           [0.13484061, 0.29496366],\n",
       "           [0.26947823, 0.18627651],\n",
       "           [0.39809442, 0.48596326]],\n",
       " \n",
       "          [[0.00550423, 0.04221739],\n",
       "           [0.03734292, 0.22548202],\n",
       "           [0.06493701, 0.3339307 ],\n",
       "           [0.35204783, 0.16627999],\n",
       "           [0.46981204, 0.50908554]]],\n",
       " \n",
       " \n",
       "         ...,\n",
       " \n",
       " \n",
       "         [[[0.00395981, 0.24910992],\n",
       "           [0.02614304, 0.31734097],\n",
       "           [0.05929644, 0.37992114],\n",
       "           [0.31985718, 0.1443398 ],\n",
       "           [0.4812121 , 0.608727  ]],\n",
       " \n",
       "          [[0.02319989, 0.01614329],\n",
       "           [0.11496139, 0.13019489],\n",
       "           [0.15834081, 0.28438377],\n",
       "           [0.29399577, 0.20396708],\n",
       "           [0.3696437 , 0.47517315]],\n",
       " \n",
       "          [[0.02599629, 0.01655311],\n",
       "           [0.13599867, 0.09597904],\n",
       "           [0.25541   , 0.28176674],\n",
       "           [0.28277564, 0.22866517],\n",
       "           [0.320994  , 0.41127518]],\n",
       " \n",
       "          ...,\n",
       " \n",
       "          [[0.01629148, 0.07718906],\n",
       "           [0.03880092, 0.20545334],\n",
       "           [0.20852134, 0.31884828],\n",
       "           [0.32383132, 0.2279787 ],\n",
       "           [0.33721566, 0.39067438]],\n",
       " \n",
       "          [[0.01802511, 0.067199  ],\n",
       "           [0.0538131 , 0.17204249],\n",
       "           [0.13497269, 0.30430245],\n",
       "           [0.3465973 , 0.21979581],\n",
       "           [0.42919055, 0.4148989 ]],\n",
       " \n",
       "          [[0.01024182, 0.12636566],\n",
       "           [0.03435533, 0.21902338],\n",
       "           [0.07858378, 0.3522761 ],\n",
       "           [0.38720068, 0.14982651],\n",
       "           [0.53245974, 0.48285434]]],\n",
       " \n",
       " \n",
       "         [[[0.00479364, 0.17113657],\n",
       "           [0.03274552, 0.20061071],\n",
       "           [0.06528372, 0.37196213],\n",
       "           [0.32960168, 0.12479087],\n",
       "           [0.49356234, 0.60272586]],\n",
       " \n",
       "          [[0.03359857, 0.01722286],\n",
       "           [0.13664553, 0.11149616],\n",
       "           [0.16000028, 0.20725225],\n",
       "           [0.2767479 , 0.15181178],\n",
       "           [0.3773907 , 0.48066205]],\n",
       " \n",
       "          [[0.02580453, 0.02222059],\n",
       "           [0.1395635 , 0.11185294],\n",
       "           [0.21201599, 0.17638537],\n",
       "           [0.29150736, 0.1534224 ],\n",
       "           [0.40013704, 0.3997624 ]],\n",
       " \n",
       "          ...,\n",
       " \n",
       "          [[0.02078422, 0.06705014],\n",
       "           [0.07202468, 0.12568103],\n",
       "           [0.20965557, 0.213015  ],\n",
       "           [0.29686984, 0.15185386],\n",
       "           [0.39254525, 0.4190553 ]],\n",
       " \n",
       "          [[0.02783265, 0.07196186],\n",
       "           [0.0876516 , 0.13913338],\n",
       "           [0.14684513, 0.2057678 ],\n",
       "           [0.31290027, 0.15625489],\n",
       "           [0.4465976 , 0.4533222 ]],\n",
       " \n",
       "          [[0.01125862, 0.10518123],\n",
       "           [0.05276814, 0.12530158],\n",
       "           [0.08779838, 0.30785775],\n",
       "           [0.39087477, 0.12411719],\n",
       "           [0.54310626, 0.4890359 ]]],\n",
       " \n",
       " \n",
       "         [[[0.01522779, 0.02177908],\n",
       "           [0.07151301, 0.08496364],\n",
       "           [0.08622952, 0.3722798 ],\n",
       "           [0.38471976, 0.08376136],\n",
       "           [0.5463758 , 0.56620336]],\n",
       " \n",
       "          [[0.1577189 , 0.00611827],\n",
       "           [0.15829678, 0.03946744],\n",
       "           [0.18200621, 0.22064896],\n",
       "           [0.382924  , 0.07762995],\n",
       "           [0.5044428 , 0.45162737]],\n",
       " \n",
       "          [[0.11317172, 0.00636245],\n",
       "           [0.1937533 , 0.03882217],\n",
       "           [0.21585035, 0.20393729],\n",
       "           [0.3792852 , 0.07711535],\n",
       "           [0.45263174, 0.40381235]],\n",
       " \n",
       "          ...,\n",
       " \n",
       "          [[0.14256267, 0.00676413],\n",
       "           [0.26352748, 0.03340184],\n",
       "           [0.22651052, 0.19119282],\n",
       "           [0.33684096, 0.06704327],\n",
       "           [0.45606077, 0.41599098]],\n",
       " \n",
       "          [[0.12370541, 0.00823347],\n",
       "           [0.18949287, 0.04058086],\n",
       "           [0.17678979, 0.20084089],\n",
       "           [0.36995402, 0.06752413],\n",
       "           [0.53596693, 0.44477382]],\n",
       " \n",
       "          [[0.03400226, 0.02825573],\n",
       "           [0.09334453, 0.05496033],\n",
       "           [0.09761706, 0.351499  ],\n",
       "           [0.45094997, 0.07338689],\n",
       "           [0.55043906, 0.5222066 ]]]]], dtype=float32)>,\n",
       " <tf.Tensor: shape=(1, 19, 19, 5, 1), dtype=float32, numpy=\n",
       " array([[[[[0.00006009],\n",
       "           [0.00001294],\n",
       "           [0.00000048],\n",
       "           [0.00000037],\n",
       "           [0.00000008]],\n",
       " \n",
       "          [[0.00002553],\n",
       "           [0.00004192],\n",
       "           [0.00000019],\n",
       "           [0.00000006],\n",
       "           [0.00000001]],\n",
       " \n",
       "          [[0.00001288],\n",
       "           [0.00000969],\n",
       "           [0.00000001],\n",
       "           [0.00000029],\n",
       "           [0.        ]],\n",
       " \n",
       "          ...,\n",
       " \n",
       "          [[0.00005963],\n",
       "           [0.00001314],\n",
       "           [0.00000002],\n",
       "           [0.00000004],\n",
       "           [0.00000001]],\n",
       " \n",
       "          [[0.00000909],\n",
       "           [0.00000901],\n",
       "           [0.00000006],\n",
       "           [0.00000001],\n",
       "           [0.00000001]],\n",
       " \n",
       "          [[0.00010019],\n",
       "           [0.00005338],\n",
       "           [0.00000019],\n",
       "           [0.00000003],\n",
       "           [0.00000002]]],\n",
       " \n",
       " \n",
       "         [[[0.00005913],\n",
       "           [0.00000334],\n",
       "           [0.00000027],\n",
       "           [0.00000005],\n",
       "           [0.00000005]],\n",
       " \n",
       "          [[0.00000041],\n",
       "           [0.00000302],\n",
       "           [0.00000084],\n",
       "           [0.00000001],\n",
       "           [0.        ]],\n",
       " \n",
       "          [[0.00000072],\n",
       "           [0.00000081],\n",
       "           [0.00000006],\n",
       "           [0.00000008],\n",
       "           [0.        ]],\n",
       " \n",
       "          ...,\n",
       " \n",
       "          [[0.00000738],\n",
       "           [0.00001526],\n",
       "           [0.00000179],\n",
       "           [0.00000011],\n",
       "           [0.00000003]],\n",
       " \n",
       "          [[0.00000226],\n",
       "           [0.00000973],\n",
       "           [0.00000099],\n",
       "           [0.00000001],\n",
       "           [0.00000001]],\n",
       " \n",
       "          [[0.00002111],\n",
       "           [0.00010191],\n",
       "           [0.00000049],\n",
       "           [0.        ],\n",
       "           [0.00000002]]],\n",
       " \n",
       " \n",
       "         [[[0.00002255],\n",
       "           [0.00002285],\n",
       "           [0.00000288],\n",
       "           [0.00000002],\n",
       "           [0.00000009]],\n",
       " \n",
       "          [[0.00000026],\n",
       "           [0.00000131],\n",
       "           [0.00000205],\n",
       "           [0.        ],\n",
       "           [0.00000001]],\n",
       " \n",
       "          [[0.0000006 ],\n",
       "           [0.00000069],\n",
       "           [0.00000052],\n",
       "           [0.00000002],\n",
       "           [0.00000001]],\n",
       " \n",
       "          ...,\n",
       " \n",
       "          [[0.00000834],\n",
       "           [0.00000245],\n",
       "           [0.00000318],\n",
       "           [0.00000002],\n",
       "           [0.00000003]],\n",
       " \n",
       "          [[0.00001247],\n",
       "           [0.00000168],\n",
       "           [0.00000337],\n",
       "           [0.        ],\n",
       "           [0.        ]],\n",
       " \n",
       "          [[0.00000367],\n",
       "           [0.00001371],\n",
       "           [0.00000854],\n",
       "           [0.00000001],\n",
       "           [0.00000002]]],\n",
       " \n",
       " \n",
       "         ...,\n",
       " \n",
       " \n",
       "         [[[0.00001318],\n",
       "           [0.00005364],\n",
       "           [0.00001349],\n",
       "           [0.00000005],\n",
       "           [0.00000002]],\n",
       " \n",
       "          [[0.00000009],\n",
       "           [0.00000042],\n",
       "           [0.00001434],\n",
       "           [0.        ],\n",
       "           [0.        ]],\n",
       " \n",
       "          [[0.00000001],\n",
       "           [0.00000001],\n",
       "           [0.00000274],\n",
       "           [0.00000095],\n",
       "           [0.00000002]],\n",
       " \n",
       "          ...,\n",
       " \n",
       "          [[0.00000041],\n",
       "           [0.00000071],\n",
       "           [0.00000436],\n",
       "           [0.00000069],\n",
       "           [0.00000017]],\n",
       " \n",
       "          [[0.00000102],\n",
       "           [0.00000087],\n",
       "           [0.00000278],\n",
       "           [0.00000005],\n",
       "           [0.00000002]],\n",
       " \n",
       "          [[0.00006293],\n",
       "           [0.00015353],\n",
       "           [0.00007687],\n",
       "           [0.00000015],\n",
       "           [0.00000013]]],\n",
       " \n",
       " \n",
       "         [[[0.00003867],\n",
       "           [0.00006097],\n",
       "           [0.00000095],\n",
       "           [0.00000004],\n",
       "           [0.00000001]],\n",
       " \n",
       "          [[0.00000013],\n",
       "           [0.00000525],\n",
       "           [0.00001302],\n",
       "           [0.00000001],\n",
       "           [0.        ]],\n",
       " \n",
       "          [[0.00000002],\n",
       "           [0.0000004 ],\n",
       "           [0.00000224],\n",
       "           [0.00000364],\n",
       "           [0.00000002]],\n",
       " \n",
       "          ...,\n",
       " \n",
       "          [[0.0000025 ],\n",
       "           [0.00000335],\n",
       "           [0.00000064],\n",
       "           [0.00000349],\n",
       "           [0.00000001]],\n",
       " \n",
       "          [[0.00000137],\n",
       "           [0.00002657],\n",
       "           [0.00002128],\n",
       "           [0.00000013],\n",
       "           [0.00000001]],\n",
       " \n",
       "          [[0.00003539],\n",
       "           [0.00065994],\n",
       "           [0.00000242],\n",
       "           [0.00000006],\n",
       "           [0.00000001]]],\n",
       " \n",
       " \n",
       "         [[[0.00009739],\n",
       "           [0.00003438],\n",
       "           [0.00000057],\n",
       "           [0.00000012],\n",
       "           [0.00000008]],\n",
       " \n",
       "          [[0.00002437],\n",
       "           [0.00005298],\n",
       "           [0.00000011],\n",
       "           [0.00000002],\n",
       "           [0.00000001]],\n",
       " \n",
       "          [[0.00000571],\n",
       "           [0.00000986],\n",
       "           [0.00000002],\n",
       "           [0.00000042],\n",
       "           [0.00000004]],\n",
       " \n",
       "          ...,\n",
       " \n",
       "          [[0.00001672],\n",
       "           [0.00006092],\n",
       "           [0.00000003],\n",
       "           [0.00000223],\n",
       "           [0.00000002]],\n",
       " \n",
       "          [[0.00004624],\n",
       "           [0.00014414],\n",
       "           [0.00000008],\n",
       "           [0.00000037],\n",
       "           [0.00000001]],\n",
       " \n",
       "          [[0.0001143 ],\n",
       "           [0.00010982],\n",
       "           [0.00000019],\n",
       "           [0.00000011],\n",
       "           [0.00000002]]]]], dtype=float32)>,\n",
       " <tf.Tensor: shape=(1, 19, 19, 5, 80), dtype=float32, numpy=\n",
       " array([[[[[0.03014873, 0.00015755, 0.00416743, ..., 0.00367547,\n",
       "            0.00022664, 0.00024542],\n",
       "           [0.01504996, 0.00087428, 0.00282267, ..., 0.01159047,\n",
       "            0.0004499 , 0.00114917],\n",
       "           [0.02563176, 0.00329906, 0.00603462, ..., 0.0061515 ,\n",
       "            0.00100641, 0.00473938],\n",
       "           [0.00574668, 0.0037816 , 0.00792986, ..., 0.00335714,\n",
       "            0.00188343, 0.00406453],\n",
       "           [0.01455443, 0.00685064, 0.00863072, ..., 0.00819391,\n",
       "            0.0024183 , 0.00949247]],\n",
       " \n",
       "          [[0.02641806, 0.00055629, 0.00747302, ..., 0.00018306,\n",
       "            0.000079  , 0.00023917],\n",
       "           [0.00143311, 0.00062434, 0.00357383, ..., 0.00019315,\n",
       "            0.00012283, 0.00039606],\n",
       "           [0.01302243, 0.00402719, 0.00544005, ..., 0.00171072,\n",
       "            0.00070271, 0.00255039],\n",
       "           [0.01547509, 0.00376256, 0.00459478, ..., 0.00091249,\n",
       "            0.00099862, 0.00150936],\n",
       "           [0.02168974, 0.00525774, 0.00545682, ..., 0.00180859,\n",
       "            0.00140419, 0.00586734]],\n",
       " \n",
       "          [[0.01737308, 0.00040668, 0.00283056, ..., 0.00039873,\n",
       "            0.00004868, 0.00012216],\n",
       "           [0.00412749, 0.00048318, 0.00163808, ..., 0.00069378,\n",
       "            0.00009401, 0.00027885],\n",
       "           [0.00729781, 0.00219665, 0.00425681, ..., 0.00183835,\n",
       "            0.00038153, 0.00129441],\n",
       "           [0.00711996, 0.00208145, 0.00387826, ..., 0.00080721,\n",
       "            0.00049028, 0.00084553],\n",
       "           [0.00974171, 0.00276029, 0.00569142, ..., 0.00155958,\n",
       "            0.00060812, 0.00262076]],\n",
       " \n",
       "          ...,\n",
       " \n",
       "          [[0.00200757, 0.00004763, 0.00034945, ..., 0.00065334,\n",
       "            0.00012597, 0.00007959],\n",
       "           [0.01072051, 0.0001003 , 0.00094925, ..., 0.00350234,\n",
       "            0.00097448, 0.00039666],\n",
       "           [0.06287152, 0.0008901 , 0.00567744, ..., 0.00948999,\n",
       "            0.00321912, 0.00703689],\n",
       "           [0.03582047, 0.00121905, 0.00701629, ..., 0.0065142 ,\n",
       "            0.00328223, 0.00265876],\n",
       "           [0.03588954, 0.00318199, 0.00772614, ..., 0.00791299,\n",
       "            0.00200592, 0.00750266]],\n",
       " \n",
       "          [[0.00488698, 0.00022022, 0.00352257, ..., 0.00139173,\n",
       "            0.00044645, 0.00034356],\n",
       "           [0.01512504, 0.0003352 , 0.0096739 , ..., 0.00331397,\n",
       "            0.00228279, 0.00110085],\n",
       "           [0.05871841, 0.00151268, 0.00948728, ..., 0.00793862,\n",
       "            0.00405078, 0.01000556],\n",
       "           [0.03704311, 0.00175549, 0.00919865, ..., 0.00500052,\n",
       "            0.00388286, 0.00380745],\n",
       "           [0.0241145 , 0.00387218, 0.0060378 , ..., 0.00481155,\n",
       "            0.00246756, 0.01058382]],\n",
       " \n",
       "          [[0.03419279, 0.00169917, 0.01453398, ..., 0.00563486,\n",
       "            0.00088869, 0.00096774],\n",
       "           [0.03158822, 0.00139512, 0.01075272, ..., 0.00596442,\n",
       "            0.00119936, 0.00192984],\n",
       "           [0.05112274, 0.00362075, 0.01285312, ..., 0.00779929,\n",
       "            0.00296776, 0.00990475],\n",
       "           [0.02872378, 0.00322618, 0.0181816 , ..., 0.00531695,\n",
       "            0.004297  , 0.00469356],\n",
       "           [0.03147021, 0.00629054, 0.0108808 , ..., 0.00773881,\n",
       "            0.00298798, 0.01099614]]],\n",
       " \n",
       " \n",
       "         [[[0.01651265, 0.00048473, 0.00042949, ..., 0.00166967,\n",
       "            0.00010031, 0.00013012],\n",
       "           [0.04946543, 0.00120035, 0.00120722, ..., 0.01105785,\n",
       "            0.00016721, 0.00073721],\n",
       "           [0.04355524, 0.00601574, 0.00532424, ..., 0.01546417,\n",
       "            0.00058898, 0.00240534],\n",
       "           [0.00637461, 0.00707308, 0.00500722, ..., 0.0052347 ,\n",
       "            0.00124788, 0.00123076],\n",
       "           [0.01137439, 0.01259903, 0.00868129, ..., 0.01074592,\n",
       "            0.00140707, 0.0040692 ]],\n",
       " \n",
       "          [[0.00922234, 0.00015418, 0.00035038, ..., 0.00034647,\n",
       "            0.00008672, 0.00010903],\n",
       "           [0.05949941, 0.00132753, 0.01409203, ..., 0.00296498,\n",
       "            0.00069532, 0.00044468],\n",
       "           [0.09824602, 0.00462366, 0.01853163, ..., 0.00755309,\n",
       "            0.0013238 , 0.0024185 ],\n",
       "           [0.07003301, 0.00436445, 0.01049311, ..., 0.00319789,\n",
       "            0.00153721, 0.00096713],\n",
       "           [0.02040038, 0.00513832, 0.00672391, ..., 0.00351784,\n",
       "            0.00119942, 0.00375806]],\n",
       " \n",
       "          [[0.00555215, 0.00012247, 0.00033404, ..., 0.00093949,\n",
       "            0.00005491, 0.00007302],\n",
       "           [0.04448611, 0.00070631, 0.00782983, ..., 0.01199876,\n",
       "            0.00026942, 0.00027042],\n",
       "           [0.06522786, 0.00261442, 0.02622137, ..., 0.01091332,\n",
       "            0.00068252, 0.00133586],\n",
       "           [0.02548974, 0.00251346, 0.02257012, ..., 0.00348013,\n",
       "            0.00077066, 0.00052192],\n",
       "           [0.02164196, 0.00309333, 0.01720441, ..., 0.00405531,\n",
       "            0.00055732, 0.00168572]],\n",
       " \n",
       "          ...,\n",
       " \n",
       "          [[0.01007829, 0.00009653, 0.00059762, ..., 0.00256618,\n",
       "            0.00077766, 0.00104284],\n",
       "           [0.06560705, 0.00028825, 0.00058043, ..., 0.0238953 ,\n",
       "            0.00236364, 0.00172161],\n",
       "           [0.07069924, 0.00063622, 0.00309548, ..., 0.01245616,\n",
       "            0.00368278, 0.01042646],\n",
       "           [0.06747982, 0.00083311, 0.00338072, ..., 0.01096883,\n",
       "            0.00369556, 0.00290314],\n",
       "           [0.06726358, 0.00189595, 0.00736882, ..., 0.00827013,\n",
       "            0.00200774, 0.00878598]],\n",
       " \n",
       "          [[0.01560456, 0.00024473, 0.00554223, ..., 0.00470305,\n",
       "            0.00128641, 0.00134999],\n",
       "           [0.06449194, 0.00062988, 0.00414148, ..., 0.02181135,\n",
       "            0.00334577, 0.00200553],\n",
       "           [0.04508953, 0.00150429, 0.00533897, ..., 0.01233189,\n",
       "            0.00419542, 0.01294941],\n",
       "           [0.02649408, 0.00135414, 0.00560538, ..., 0.0108428 ,\n",
       "            0.00420765, 0.00351128],\n",
       "           [0.0318153 , 0.00273257, 0.00561283, ..., 0.00888721,\n",
       "            0.00219117, 0.00941296]],\n",
       " \n",
       "          [[0.03770608, 0.0006431 , 0.00752805, ..., 0.0067347 ,\n",
       "            0.00110419, 0.00147208],\n",
       "           [0.02454853, 0.00072726, 0.00439421, ..., 0.01086207,\n",
       "            0.001133  , 0.00209014],\n",
       "           [0.03295237, 0.00153094, 0.00654482, ..., 0.00835284,\n",
       "            0.00221931, 0.01302882],\n",
       "           [0.02470728, 0.00143673, 0.00985578, ..., 0.00911521,\n",
       "            0.00454889, 0.00626427],\n",
       "           [0.02648234, 0.00343766, 0.00835035, ..., 0.01405453,\n",
       "            0.0029506 , 0.01369711]]],\n",
       " \n",
       " \n",
       "         [[[0.00867336, 0.0009793 , 0.00028766, ..., 0.00837251,\n",
       "            0.00031566, 0.00043884],\n",
       "           [0.0481732 , 0.00193069, 0.00022873, ..., 0.01109479,\n",
       "            0.00012129, 0.00051302],\n",
       "           [0.06110642, 0.00528211, 0.00117457, ..., 0.00433167,\n",
       "            0.00021662, 0.00112121],\n",
       "           [0.00586881, 0.00933432, 0.00219059, ..., 0.00440861,\n",
       "            0.00105471, 0.00105727],\n",
       "           [0.01271157, 0.01902357, 0.00651779, ..., 0.00737974,\n",
       "            0.00095342, 0.00300666]],\n",
       " \n",
       "          [[0.00746227, 0.00018137, 0.00086784, ..., 0.00080165,\n",
       "            0.00012176, 0.00069605],\n",
       "           [0.14066024, 0.00130488, 0.00705281, ..., 0.00567079,\n",
       "            0.00057958, 0.00144235],\n",
       "           [0.17341127, 0.00383192, 0.00876977, ..., 0.0099782 ,\n",
       "            0.00066   , 0.00312164],\n",
       "           [0.05562582, 0.00641342, 0.00818399, ..., 0.00715893,\n",
       "            0.00149501, 0.00143232],\n",
       "           [0.04587542, 0.00926892, 0.0069414 , ..., 0.00550068,\n",
       "            0.00059066, 0.00328584]],\n",
       " \n",
       "          [[0.00650248, 0.00015363, 0.0013371 , ..., 0.00164101,\n",
       "            0.00009479, 0.00054714],\n",
       "           [0.0978187 , 0.00088161, 0.01437574, ..., 0.01288552,\n",
       "            0.00052781, 0.00214389],\n",
       "           [0.34265423, 0.00306053, 0.0193752 , ..., 0.02000025,\n",
       "            0.00065594, 0.00172428],\n",
       "           [0.13374604, 0.00498864, 0.01854013, ..., 0.01216506,\n",
       "            0.00126052, 0.00077639],\n",
       "           [0.11365663, 0.00699732, 0.01569468, ..., 0.01306114,\n",
       "            0.00054001, 0.00152067]],\n",
       " \n",
       "          ...,\n",
       " \n",
       "          [[0.02830433, 0.00015538, 0.00099391, ..., 0.00725823,\n",
       "            0.0007942 , 0.00147825],\n",
       "           [0.09661803, 0.00058376, 0.00085743, ..., 0.03482844,\n",
       "            0.00171669, 0.00201125],\n",
       "           [0.14911854, 0.00098065, 0.00258504, ..., 0.0138473 ,\n",
       "            0.00199888, 0.00775742],\n",
       "           [0.11667113, 0.0009488 , 0.00206727, ..., 0.00949855,\n",
       "            0.00208606, 0.00186984],\n",
       "           [0.15672942, 0.00177897, 0.00833329, ..., 0.00672959,\n",
       "            0.00108796, 0.00555394]],\n",
       " \n",
       "          [[0.03413326, 0.00015649, 0.00406903, ..., 0.00507103,\n",
       "            0.00050915, 0.00142703],\n",
       "           [0.06327005, 0.00058096, 0.00301771, ..., 0.01793022,\n",
       "            0.00102344, 0.00337685],\n",
       "           [0.08441424, 0.00104544, 0.00372776, ..., 0.01432067,\n",
       "            0.00146938, 0.00966839],\n",
       "           [0.02338359, 0.00090183, 0.00378471, ..., 0.00919745,\n",
       "            0.00199912, 0.00238901],\n",
       "           [0.05637169, 0.0020853 , 0.00798905, ..., 0.00626616,\n",
       "            0.00136154, 0.0063091 ]],\n",
       " \n",
       "          [[0.08262446, 0.00040749, 0.01377296, ..., 0.00652583,\n",
       "            0.00110153, 0.00565697],\n",
       "           [0.09335494, 0.00058144, 0.00458287, ..., 0.01535585,\n",
       "            0.00102184, 0.00647723],\n",
       "           [0.04189891, 0.00092804, 0.00428432, ..., 0.01138789,\n",
       "            0.00149374, 0.02138958],\n",
       "           [0.02560805, 0.00102827, 0.0071941 , ..., 0.01029009,\n",
       "            0.00337466, 0.00712343],\n",
       "           [0.03911404, 0.00335409, 0.00814087, ..., 0.01139959,\n",
       "            0.00207717, 0.01562496]]],\n",
       " \n",
       " \n",
       "         ...,\n",
       " \n",
       " \n",
       "         [[[0.2529906 , 0.0425795 , 0.1264505 , ..., 0.00184084,\n",
       "            0.00082323, 0.00290464],\n",
       "           [0.3106694 , 0.03237354, 0.194256  , ..., 0.00094385,\n",
       "            0.00031017, 0.00244611],\n",
       "           [0.16832736, 0.02243812, 0.13926035, ..., 0.0015841 ,\n",
       "            0.00054091, 0.00263762],\n",
       "           [0.01028911, 0.02685503, 0.18196845, ..., 0.00096664,\n",
       "            0.00201277, 0.00639572],\n",
       "           [0.01317316, 0.02735547, 0.08288833, ..., 0.00134877,\n",
       "            0.00268758, 0.00737047]],\n",
       " \n",
       "          [[0.06347962, 0.0246267 , 0.07945874, ..., 0.00287046,\n",
       "            0.00319029, 0.0062413 ],\n",
       "           [0.03506312, 0.03314583, 0.1113885 , ..., 0.00368325,\n",
       "            0.00227675, 0.00381744],\n",
       "           [0.03699856, 0.01316954, 0.06649134, ..., 0.00085118,\n",
       "            0.00100815, 0.00263581],\n",
       "           [0.00995223, 0.01454277, 0.12302621, ..., 0.00045629,\n",
       "            0.00105019, 0.0030374 ],\n",
       "           [0.02213356, 0.02087073, 0.12346923, ..., 0.00030415,\n",
       "            0.00090936, 0.00320565]],\n",
       " \n",
       "          [[0.1256413 , 0.02093539, 0.02863899, ..., 0.00204706,\n",
       "            0.00242531, 0.00154653],\n",
       "           [0.10453524, 0.011888  , 0.12524028, ..., 0.00125252,\n",
       "            0.00068882, 0.00054355],\n",
       "           [0.02330874, 0.007282  , 0.08866743, ..., 0.00009488,\n",
       "            0.00018991, 0.00030893],\n",
       "           [0.00415595, 0.0090989 , 0.14288455, ..., 0.0000738 ,\n",
       "            0.00017256, 0.00038918],\n",
       "           [0.0084277 , 0.01661512, 0.14417171, ..., 0.00006232,\n",
       "            0.00025731, 0.00069787]],\n",
       " \n",
       "          ...,\n",
       " \n",
       "          [[0.01777742, 0.00858693, 0.06033659, ..., 0.00034267,\n",
       "            0.00032731, 0.00080825],\n",
       "           [0.0317822 , 0.05367727, 0.03881415, ..., 0.00036743,\n",
       "            0.0002466 , 0.00057619],\n",
       "           [0.11603118, 0.1292624 , 0.34324473, ..., 0.00021844,\n",
       "            0.00036124, 0.00124453],\n",
       "           [0.01627056, 0.03170992, 0.60173386, ..., 0.00013584,\n",
       "            0.00041438, 0.00047274],\n",
       "           [0.1147943 , 0.02410092, 0.4849531 , ..., 0.00011592,\n",
       "            0.00032901, 0.00059895]],\n",
       " \n",
       "          [[0.09328972, 0.01239828, 0.0868386 , ..., 0.00046321,\n",
       "            0.00042217, 0.00204711],\n",
       "           [0.33422533, 0.05687212, 0.07879042, ..., 0.00114258,\n",
       "            0.00033151, 0.00143406],\n",
       "           [0.60596544, 0.04959149, 0.10047446, ..., 0.00091375,\n",
       "            0.00019445, 0.00190372],\n",
       "           [0.08271096, 0.03290782, 0.50847524, ..., 0.0004243 ,\n",
       "            0.00050519, 0.00081246],\n",
       "           [0.10876013, 0.02556858, 0.43938333, ..., 0.00018264,\n",
       "            0.00029052, 0.00060209]],\n",
       " \n",
       "          [[0.09345958, 0.00768274, 0.4965843 , ..., 0.00030416,\n",
       "            0.00025314, 0.00022584],\n",
       "           [0.21062861, 0.02073322, 0.56039006, ..., 0.00041739,\n",
       "            0.00030238, 0.00035796],\n",
       "           [0.672523  , 0.02212083, 0.13705318, ..., 0.00130447,\n",
       "            0.00027269, 0.00104904],\n",
       "           [0.04688688, 0.04534866, 0.5498186 , ..., 0.0010847 ,\n",
       "            0.00131799, 0.00132985],\n",
       "           [0.11525545, 0.0441558 , 0.33946884, ..., 0.00075667,\n",
       "            0.00106331, 0.00186025]]],\n",
       " \n",
       " \n",
       "         [[[0.3294863 , 0.00596553, 0.11321125, ..., 0.00356873,\n",
       "            0.00079396, 0.00671333],\n",
       "           [0.4721622 , 0.00396665, 0.10273945, ..., 0.00214129,\n",
       "            0.00032154, 0.00621584],\n",
       "           [0.24895068, 0.01084175, 0.05536898, ..., 0.00318411,\n",
       "            0.00073327, 0.00652769],\n",
       "           [0.01616143, 0.01653477, 0.08332344, ..., 0.00222031,\n",
       "            0.00264719, 0.01390688],\n",
       "           [0.01799654, 0.02133516, 0.05407643, ..., 0.0030791 ,\n",
       "            0.00339447, 0.01315573]],\n",
       " \n",
       "          [[0.11124802, 0.0077976 , 0.05315522, ..., 0.00359542,\n",
       "            0.0022315 , 0.00503416],\n",
       "           [0.3148865 , 0.00906248, 0.05844446, ..., 0.00595232,\n",
       "            0.00116953, 0.00324592],\n",
       "           [0.11833289, 0.0102366 , 0.04832422, ..., 0.00421069,\n",
       "            0.00114369, 0.00396502],\n",
       "           [0.02912134, 0.01138995, 0.06145054, ..., 0.00256268,\n",
       "            0.0018272 , 0.00624984],\n",
       "           [0.03263339, 0.01281376, 0.05535857, ..., 0.00215769,\n",
       "            0.00200122, 0.00777121]],\n",
       " \n",
       "          [[0.16067149, 0.00905666, 0.024694  , ..., 0.00152533,\n",
       "            0.0026616 , 0.00262794],\n",
       "           [0.41044807, 0.01115953, 0.03036095, ..., 0.00188799,\n",
       "            0.00086436, 0.00311301],\n",
       "           [0.05583246, 0.00904626, 0.03289542, ..., 0.00062661,\n",
       "            0.00066535, 0.00239392],\n",
       "           [0.01733303, 0.01183496, 0.05958909, ..., 0.00052558,\n",
       "            0.00075989, 0.00276787],\n",
       "           [0.02477423, 0.0151342 , 0.09272096, ..., 0.00059198,\n",
       "            0.00105761, 0.00421594]],\n",
       " \n",
       "          ...,\n",
       " \n",
       "          [[0.14054243, 0.06957677, 0.0545388 , ..., 0.00043816,\n",
       "            0.00072334, 0.00256147],\n",
       "           [0.15597743, 0.17313075, 0.03163408, ..., 0.00048559,\n",
       "            0.00026256, 0.00061995],\n",
       "           [0.21957627, 0.14489111, 0.22921704, ..., 0.00041226,\n",
       "            0.00054712, 0.00168375],\n",
       "           [0.0497623 , 0.04342979, 0.48183966, ..., 0.00030097,\n",
       "            0.00067083, 0.0006993 ],\n",
       "           [0.10825939, 0.02664619, 0.3364494 , ..., 0.00026815,\n",
       "            0.00077669, 0.00148887]],\n",
       " \n",
       "          [[0.2190215 , 0.02949855, 0.3112723 , ..., 0.00028544,\n",
       "            0.00025136, 0.00082532],\n",
       "           [0.6520162 , 0.05508595, 0.08093833, ..., 0.00034116,\n",
       "            0.00010618, 0.0002423 ],\n",
       "           [0.69657576, 0.02696105, 0.12887174, ..., 0.00065653,\n",
       "            0.00017699, 0.00051672],\n",
       "           [0.08771807, 0.03242572, 0.5382038 , ..., 0.00052111,\n",
       "            0.00067095, 0.00072884],\n",
       "           [0.10465351, 0.01877461, 0.37718222, ..., 0.00029744,\n",
       "            0.00064894, 0.00079863]],\n",
       " \n",
       "          [[0.07165899, 0.00682118, 0.6329218 , ..., 0.00029373,\n",
       "            0.00036342, 0.00038399],\n",
       "           [0.06235462, 0.00562331, 0.8070322 , ..., 0.00021674,\n",
       "            0.00027801, 0.00019858],\n",
       "           [0.56169444, 0.01418574, 0.28506252, ..., 0.0010782 ,\n",
       "            0.0003782 , 0.00081585],\n",
       "           [0.08749579, 0.01906374, 0.64789206, ..., 0.00111946,\n",
       "            0.0012741 , 0.00154552],\n",
       "           [0.15126783, 0.0311672 , 0.28513294, ..., 0.00224613,\n",
       "            0.0021419 , 0.00405706]]],\n",
       " \n",
       " \n",
       "         [[[0.33220845, 0.00290239, 0.0233423 , ..., 0.01036692,\n",
       "            0.00063983, 0.00262493],\n",
       "           [0.5057608 , 0.00368731, 0.01895241, ..., 0.00897336,\n",
       "            0.00036665, 0.00248358],\n",
       "           [0.46507624, 0.00644859, 0.01850529, ..., 0.01038181,\n",
       "            0.00065345, 0.00390679],\n",
       "           [0.02706208, 0.01755962, 0.04668149, ..., 0.00635317,\n",
       "            0.00231172, 0.00849922],\n",
       "           [0.03156221, 0.02002779, 0.04736281, ..., 0.00685484,\n",
       "            0.00256444, 0.01150761]],\n",
       " \n",
       "          [[0.1314957 , 0.00794719, 0.04428693, ..., 0.00462241,\n",
       "            0.00096229, 0.00154078],\n",
       "           [0.30332327, 0.01020507, 0.03586559, ..., 0.0046955 ,\n",
       "            0.00057179, 0.00171041],\n",
       "           [0.25118005, 0.01337833, 0.03492425, ..., 0.01151294,\n",
       "            0.00116507, 0.00400062],\n",
       "           [0.0616684 , 0.02367709, 0.09821475, ..., 0.00486689,\n",
       "            0.00157549, 0.00535914],\n",
       "           [0.0367461 , 0.01597781, 0.08923305, ..., 0.00432375,\n",
       "            0.00212251, 0.00742646]],\n",
       " \n",
       "          [[0.13391887, 0.02080484, 0.04384141, ..., 0.00644411,\n",
       "            0.00142405, 0.0014282 ],\n",
       "           [0.2291572 , 0.0278832 , 0.04246425, ..., 0.00475696,\n",
       "            0.0007234 , 0.00198811],\n",
       "           [0.13929032, 0.0194015 , 0.03821956, ..., 0.00384182,\n",
       "            0.00133091, 0.00398852],\n",
       "           [0.02940212, 0.02971301, 0.09921236, ..., 0.00148133,\n",
       "            0.00111988, 0.00369215],\n",
       "           [0.0221479 , 0.0171535 , 0.10122795, ..., 0.00174792,\n",
       "            0.00201907, 0.00634829]],\n",
       " \n",
       "          ...,\n",
       " \n",
       "          [[0.404151  , 0.12405156, 0.09666181, ..., 0.00028362,\n",
       "            0.00036811, 0.00032379],\n",
       "           [0.19547454, 0.12043256, 0.32858792, ..., 0.0005603 ,\n",
       "            0.00058733, 0.00014775],\n",
       "           [0.23961684, 0.04454283, 0.23482093, ..., 0.00152309,\n",
       "            0.00120199, 0.00118081],\n",
       "           [0.03841559, 0.04587092, 0.53195226, ..., 0.00069604,\n",
       "            0.00070175, 0.00077544],\n",
       "           [0.04770543, 0.03228253, 0.25102484, ..., 0.0007739 ,\n",
       "            0.00161551, 0.00351249]],\n",
       " \n",
       "          [[0.42553037, 0.02743773, 0.17461625, ..., 0.00058963,\n",
       "            0.00026622, 0.00026921],\n",
       "           [0.56185836, 0.0203886 , 0.1727472 , ..., 0.00074156,\n",
       "            0.00026739, 0.00011729],\n",
       "           [0.5705955 , 0.01517227, 0.17010735, ..., 0.00139835,\n",
       "            0.00063516, 0.00072234],\n",
       "           [0.06286491, 0.03216276, 0.5900163 , ..., 0.00075165,\n",
       "            0.00076182, 0.000884  ],\n",
       "           [0.04909092, 0.03103543, 0.32524335, ..., 0.00089382,\n",
       "            0.00184198, 0.00298147]],\n",
       " \n",
       "          [[0.15879406, 0.04450568, 0.4256684 , ..., 0.0002869 ,\n",
       "            0.0003633 , 0.00034014],\n",
       "           [0.08771787, 0.02022921, 0.69452953, ..., 0.00032789,\n",
       "            0.00037403, 0.00040055],\n",
       "           [0.4872222 , 0.01308342, 0.29021415, ..., 0.00119911,\n",
       "            0.00053654, 0.00104981],\n",
       "           [0.03557902, 0.02454006, 0.7029418 , ..., 0.0005096 ,\n",
       "            0.00074954, 0.00114364],\n",
       "           [0.06961355, 0.04024231, 0.30217636, ..., 0.00162419,\n",
       "            0.00210372, 0.00570899]]]]], dtype=float32)>)"
      ]
     },
     "execution_count": 68,
     "metadata": {},
     "output_type": "execute_result"
    }
   ],
   "source": [
    "yolo_outputs"
   ]
  },
  {
   "cell_type": "markdown",
   "metadata": {},
   "source": [
    "The model you've just run is actually able to detect 80 different classes listed in \"coco_classes.txt\". To test the model on your own images:\n",
    "    1. Click on \"File\" in the upper bar of this notebook, then click \"Open\" to go on your Coursera Hub.\n",
    "    2. Add your image to this Jupyter Notebook's directory, in the \"images\" folder\n",
    "    3. Write your image's name in the cell above code\n",
    "    4. Run the code and see the output of the algorithm!\n",
    "\n",
    "If you were to run your session in a for loop over all your images. Here's what you would get:\n",
    "\n",
    "<center>\n",
    "<video width=\"400\" height=\"200\" src=\"nb_images/pred_video_compressed2.mp4\" type=\"video/mp4\" controls>\n",
    "</video>\n",
    "</center>\n",
    "\n",
    "<caption><center> Predictions of the YOLO model on pictures taken from a camera while driving around the Silicon Valley <br> Thanks to <a href=\"https://www.drive.ai/\">drive.ai</a> for providing this dataset! </center></caption>"
   ]
  },
  {
   "cell_type": "markdown",
   "metadata": {},
   "source": [
    "<a name='4'></a>\n",
    "## 4 - Summary for YOLO\n",
    "\n",
    "- Input image (608, 608, 3)\n",
    "- The input image goes through a CNN, resulting in a (19,19,5,85) dimensional output. \n",
    "- After flattening the last two dimensions, the output is a volume of shape (19, 19, 425):\n",
    "    - Each cell in a 19x19 grid over the input image gives 425 numbers. \n",
    "    - 425 = 5 x 85 because each cell contains predictions for 5 boxes, corresponding to 5 anchor boxes, as seen in lecture. \n",
    "    - 85 = 5 + 80 where 5 is because $(p_c, b_x, b_y, b_h, b_w)$ has 5 numbers, and 80 is the number of classes we'd like to detect\n",
    "- You then select only few boxes based on:\n",
    "    - Score-thresholding: throw away boxes that have detected a class with a score less than the threshold\n",
    "    - Non-max suppression: Compute the Intersection over Union and avoid selecting overlapping boxes\n",
    "- This gives you YOLO's final output. "
   ]
  },
  {
   "cell_type": "markdown",
   "metadata": {},
   "source": [
    "<font color='blue'>\n",
    "    \n",
    "**What you should remember**:\n",
    "    \n",
    "- YOLO is a state-of-the-art object detection model that is fast and accurate\n",
    "- It runs an input image through a CNN, which outputs a 19x19x5x85 dimensional volume. \n",
    "- The encoding can be seen as a grid where each of the 19x19 cells contains information about 5 boxes.\n",
    "- You filter through all the boxes using non-max suppression. Specifically: \n",
    "    - Score thresholding on the probability of detecting a class to keep only accurate (high probability) boxes\n",
    "    - Intersection over Union (IoU) thresholding to eliminate overlapping boxes\n",
    "- Because training a YOLO model from randomly initialized weights is non-trivial and requires a large dataset as well as lot of computation, previously trained model parameters were used in this exercise. If you wish, you can also try fine-tuning the YOLO model with your own dataset, though this would be a fairly non-trivial exercise. "
   ]
  },
  {
   "cell_type": "markdown",
   "metadata": {},
   "source": [
    "**Congratulations!** You've come to the end of this assignment. \n",
    "\n",
    "Here's a quick recap of all you've accomplished.\n",
    "\n",
    "You've: \n",
    "\n",
    "- Detected objects in a car detection dataset\n",
    "- Implemented non-max suppression to achieve better accuracy\n",
    "- Implemented intersection over union as a function of NMS\n",
    "- Created usable bounding box tensors from the model's predictions\n",
    "\n",
    "Amazing work! If you'd like to know more about the origins of these ideas, spend some time on the papers referenced below. "
   ]
  },
  {
   "cell_type": "markdown",
   "metadata": {},
   "source": [
    "<a name='5'></a>\n",
    "## 5 - References\n",
    "\n",
    "The ideas presented in this notebook came primarily from the two YOLO papers. The implementation here also took significant inspiration and used many components from Allan Zelener's GitHub repository. The pre-trained weights used in this exercise came from the official YOLO website. \n",
    "- Joseph Redmon, Santosh Divvala, Ross Girshick, Ali Farhadi - [You Only Look Once: Unified, Real-Time Object Detection](https://arxiv.org/abs/1506.02640) (2015)\n",
    "- Joseph Redmon, Ali Farhadi - [YOLO9000: Better, Faster, Stronger](https://arxiv.org/abs/1612.08242) (2016)\n",
    "- Allan Zelener - [YAD2K: Yet Another Darknet 2 Keras](https://github.com/allanzelener/YAD2K)\n",
    "- The official YOLO website (https://pjreddie.com/darknet/yolo/) \n",
    "\n",
    "### Car detection dataset\n",
    "\n",
    "<a rel=\"license\" href=\"http://creativecommons.org/licenses/by/4.0/\"><img alt=\"Creative Commons License\" style=\"border-width:0\" src=\"https://i.creativecommons.org/l/by/4.0/88x31.png\" /></a><br /><span xmlns:dct=\"http://purl.org/dc/terms/\" property=\"dct:title\">The Drive.ai Sample Dataset</span> (provided by drive.ai) is licensed under a <a rel=\"license\" href=\"http://creativecommons.org/licenses/by/4.0/\">Creative Commons Attribution 4.0 International License</a>. Thanks to Brody Huval, Chih Hu and Rahul Patel for  providing this data. "
   ]
  }
 ],
 "metadata": {
  "coursera": {
   "course_slug": "convolutional-neural-networks",
   "graded_item_id": "OMdut",
   "launcher_item_id": "bbBOL"
  },
  "kernelspec": {
   "display_name": "Python 3",
   "language": "python",
   "name": "python3"
  },
  "language_info": {
   "codemirror_mode": {
    "name": "ipython",
    "version": 3
   },
   "file_extension": ".py",
   "mimetype": "text/x-python",
   "name": "python",
   "nbconvert_exporter": "python",
   "pygments_lexer": "ipython3",
   "version": "3.9.5"
  }
 },
 "nbformat": 4,
 "nbformat_minor": 4
}
